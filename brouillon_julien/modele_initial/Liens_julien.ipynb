{
 "cells": [
  {
   "cell_type": "code",
   "execution_count": null,
   "metadata": {},
   "outputs": [],
   "source": [
    "url_donnees_S5XE = 'C:\\\\Users\\\\lecle\\\\Desktop\\\\ENSAE\\\\SX5Edec2021.xlsx'\n",
    "url_upload_graphs = 'C:\\\\Users\\\\lecle\\\\Desktop\\\\ENSAE\\\\Graphiques StatApp\\\\'"
   ]
  }
 ],
 "metadata": {
  "language_info": {
   "name": "python"
  }
 },
 "nbformat": 4,
 "nbformat_minor": 2
}
