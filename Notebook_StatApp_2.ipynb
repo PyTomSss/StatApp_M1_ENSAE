{
 "cells": [
  {
   "cell_type": "markdown",
   "metadata": {},
   "source": [
    "Il faut reprendre le notebook de Philippe, bien le détailler avec des explications et le faire rigoureusement. "
   ]
  },
  {
   "cell_type": "code",
   "execution_count": null,
   "metadata": {},
   "outputs": [],
   "source": []
  }
 ],
 "metadata": {
  "language_info": {
   "name": "python"
  }
 },
 "nbformat": 4,
 "nbformat_minor": 2
}
