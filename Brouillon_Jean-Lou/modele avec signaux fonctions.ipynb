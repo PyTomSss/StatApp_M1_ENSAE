{
 "cells": [
  {
   "cell_type": "code",
   "execution_count": 13,
   "metadata": {},
   "outputs": [
    {
     "name": "stdout",
     "output_type": "stream",
     "text": [
      "Requirement already satisfied: scikit-learn in c:\\users\\jean-\\anaconda3\\lib\\site-packages (0.24.2)\n",
      "Collecting scikit-learn\n",
      "  Downloading scikit_learn-1.4.1.post1-cp39-cp39-win_amd64.whl (10.6 MB)\n",
      "Requirement already satisfied: numpy<2.0,>=1.19.5 in c:\\users\\jean-\\anaconda3\\lib\\site-packages (from scikit-learn) (1.26.4)\n",
      "Requirement already satisfied: scipy>=1.6.0 in c:\\users\\jean-\\anaconda3\\lib\\site-packages (from scikit-learn) (1.12.0)\n",
      "Collecting joblib>=1.2.0\n",
      "  Using cached joblib-1.3.2-py3-none-any.whl (302 kB)\n",
      "Requirement already satisfied: threadpoolctl>=2.0.0 in c:\\users\\jean-\\anaconda3\\lib\\site-packages (from scikit-learn) (2.2.0)\n",
      "Installing collected packages: joblib, scikit-learn\n",
      "  Attempting uninstall: joblib\n",
      "    Found existing installation: joblib 1.1.0\n",
      "    Uninstalling joblib-1.1.0:\n",
      "      Successfully uninstalled joblib-1.1.0\n",
      "  Attempting uninstall: scikit-learn\n",
      "    Found existing installation: scikit-learn 0.24.2\n",
      "    Uninstalling scikit-learn-0.24.2:\n",
      "      Successfully uninstalled scikit-learn-0.24.2\n"
     ]
    },
    {
     "name": "stderr",
     "output_type": "stream",
     "text": [
      "WARNING: Ignoring invalid distribution -tatsmodels (c:\\users\\jean-\\anaconda3\\lib\\site-packages)\n",
      "WARNING: Ignoring invalid distribution -tatsmodels (c:\\users\\jean-\\anaconda3\\lib\\site-packages)\n",
      "WARNING: Ignoring invalid distribution -tatsmodels (c:\\users\\jean-\\anaconda3\\lib\\site-packages)\n",
      "    WARNING: Ignoring invalid distribution -tatsmodels (c:\\users\\jean-\\anaconda3\\lib\\site-packages)\n",
      "    WARNING: Ignoring invalid distribution -tatsmodels (c:\\users\\jean-\\anaconda3\\lib\\site-packages)\n",
      "ERROR: Could not install packages due to an OSError: [WinError 5] Accès refusé: 'C:\\\\Users\\\\jean-\\\\anaconda3\\\\Lib\\\\site-packages\\\\~klearn\\\\linear_model\\\\_cd_fast.cp39-win_amd64.pyd'\n",
      "Consider using the `--user` option or check the permissions.\n",
      "\n",
      "WARNING: Ignoring invalid distribution -tatsmodels (c:\\users\\jean-\\anaconda3\\lib\\site-packages)\n",
      "WARNING: Ignoring invalid distribution -tatsmodels (c:\\users\\jean-\\anaconda3\\lib\\site-packages)\n",
      "WARNING: Ignoring invalid distribution -tatsmodels (c:\\users\\jean-\\anaconda3\\lib\\site-packages)\n"
     ]
    },
    {
     "name": "stdout",
     "output_type": "stream",
     "text": [
      "Requirement already satisfied: scikit-learn in c:\\users\\jean-\\anaconda3\\lib\\site-packages (0.24.2)\n",
      "Collecting scikit-learn\n",
      "  Downloading scikit_learn-1.4.1.post1-cp39-cp39-win_amd64.whl (10.6 MB)\n",
      "Requirement already satisfied: threadpoolctl>=2.0.0 in c:\\users\\jean-\\anaconda3\\lib\\site-packages (from scikit-learn) (2.2.0)\n",
      "Requirement already satisfied: numpy<2.0,>=1.19.5 in c:\\users\\jean-\\anaconda3\\lib\\site-packages (from scikit-learn) (1.26.4)\n",
      "Requirement already satisfied: scipy>=1.6.0 in c:\\users\\jean-\\anaconda3\\lib\\site-packages (from scikit-learn) (1.12.0)\n",
      "Collecting joblib>=1.2.0\n",
      "  Using cached joblib-1.3.2-py3-none-any.whl (302 kB)\n",
      "Installing collected packages: joblib, scikit-learn\n",
      "  Attempting uninstall: joblib\n",
      "    Found existing installation: joblib 1.1.0\n",
      "    Can't uninstall 'joblib'. No files were found to uninstall.\n",
      "  Attempting uninstall: scikit-learn\n",
      "    Found existing installation: scikit-learn 0.24.2\n",
      "    Can't uninstall 'scikit-learn'. No files were found to uninstall.\n",
      "Successfully installed joblib-1.3.2 scikit-learn-1.4.1.post1\n",
      "Note: you may need to restart the kernel to use updated packages.\n"
     ]
    },
    {
     "name": "stderr",
     "output_type": "stream",
     "text": [
      "WARNING: Ignoring invalid distribution -tatsmodels (c:\\users\\jean-\\anaconda3\\lib\\site-packages)\n",
      "WARNING: Ignoring invalid distribution -tatsmodels (c:\\users\\jean-\\anaconda3\\lib\\site-packages)\n",
      "WARNING: Ignoring invalid distribution -tatsmodels (c:\\users\\jean-\\anaconda3\\lib\\site-packages)\n",
      "WARNING: Error parsing requirements for scikit-learn: [Errno 2] No such file or directory: 'c:\\\\users\\\\jean-\\\\anaconda3\\\\lib\\\\site-packages\\\\scikit_learn-0.24.2.dist-info\\\\METADATA'\n",
      "WARNING: Error parsing requirements for joblib: [Errno 2] No such file or directory: 'c:\\\\users\\\\jean-\\\\anaconda3\\\\lib\\\\site-packages\\\\joblib-1.1.0.dist-info\\\\METADATA'\n",
      "    WARNING: Ignoring invalid distribution -tatsmodels (c:\\users\\jean-\\anaconda3\\lib\\site-packages)\n",
      "    WARNING: Ignoring invalid distribution -tatsmodels (c:\\users\\jean-\\anaconda3\\lib\\site-packages)\n",
      "WARNING: Ignoring invalid distribution -tatsmodels (c:\\users\\jean-\\anaconda3\\lib\\site-packages)\n",
      "WARNING: Ignoring invalid distribution -tatsmodels (c:\\users\\jean-\\anaconda3\\lib\\site-packages)\n",
      "WARNING: Ignoring invalid distribution -tatsmodels (c:\\users\\jean-\\anaconda3\\lib\\site-packages)\n",
      "WARNING: Ignoring invalid distribution -tatsmodels (c:\\users\\jean-\\anaconda3\\lib\\site-packages)\n",
      "WARNING: Ignoring invalid distribution -tatsmodels (c:\\users\\jean-\\anaconda3\\lib\\site-packages)\n"
     ]
    },
    {
     "name": "stdout",
     "output_type": "stream",
     "text": [
      "Requirement already satisfied: numpy in c:\\users\\jean-\\anaconda3\\lib\\site-packages (1.26.4)\n",
      "Note: you may need to restart the kernel to use updated packages.\n"
     ]
    },
    {
     "name": "stderr",
     "output_type": "stream",
     "text": [
      "WARNING: Ignoring invalid distribution -tatsmodels (c:\\users\\jean-\\anaconda3\\lib\\site-packages)\n",
      "WARNING: Ignoring invalid distribution -tatsmodels (c:\\users\\jean-\\anaconda3\\lib\\site-packages)\n",
      "WARNING: Ignoring invalid distribution -tatsmodels (c:\\users\\jean-\\anaconda3\\lib\\site-packages)\n",
      "WARNING: Ignoring invalid distribution -tatsmodels (c:\\users\\jean-\\anaconda3\\lib\\site-packages)\n",
      "WARNING: Ignoring invalid distribution -tatsmodels (c:\\users\\jean-\\anaconda3\\lib\\site-packages)\n",
      "WARNING: Ignoring invalid distribution -tatsmodels (c:\\users\\jean-\\anaconda3\\lib\\site-packages)\n"
     ]
    }
   ],
   "source": [
    "%pip install --upgrade scikit-learn\n",
    "%pip install --upgrade numpy"
   ]
  },
  {
   "cell_type": "code",
   "execution_count": 2,
   "metadata": {},
   "outputs": [],
   "source": [
    "from sklearn.linear_model import LinearRegression\n",
    "\n",
    "from sklearn.model_selection import train_test_split\n",
    "from sklearn.metrics import mean_squared_error\n",
    "from sklearn.metrics import r2_score\n",
    "\n",
    "\n",
    "from sklearn.linear_model import LinearRegression\n",
    "from sklearn.linear_model import Ridge \n",
    "from sklearn.linear_model import Lasso"
   ]
  },
  {
   "cell_type": "code",
   "execution_count": 3,
   "metadata": {},
   "outputs": [],
   "source": [
    "import pandas as pd\n",
    "import numpy as np\n",
    "import matplotlib.pyplot as plt\n",
    "import time \n",
    "import os \n",
    "%matplotlib inline"
   ]
  },
  {
   "cell_type": "code",
   "execution_count": 4,
   "metadata": {},
   "outputs": [],
   "source": [
    "#parametres initiaux du notebook du P \n",
    "\n",
    "nb_signals = 100\n",
    "nb_dates_in_sample = 1300\n",
    "nb_dates_out_sample = 260\n",
    "nb_assets = 80\n",
    "\n",
    "vol_assets = 0.2/16\n",
    "correl_assets = 0.8\n",
    "\n",
    "# vol_signals = 1.0\n",
    "# correl_signals = 0.0\n",
    "\n",
    "vol_signals = 0.2/16\n",
    "correl_signals = 0.8\n",
    "\n",
    "signal_to_noise = 0.001   # la relation entre rendements X et signaux Y n'est pas parfaitement proportionnelle à cause de ça ?\n",
    "\n",
    "rank_betas = 5"
   ]
  },
  {
   "cell_type": "markdown",
   "metadata": {},
   "source": [
    "Fonction qui renvoie un dataframe avec la moyenne des sharpes prédits out sample, la moyenne des sharpes optimaux théoriques, l'écart entre les 2 moyennes, et les valeurs des paramètres utilisés en input \n",
    "-> à voir si ça vaut le coup de ne pas mettre tous les paramètres dans le dataframe renvoyé par la fonction pour accélérer les calculs ? "
   ]
  },
  {
   "cell_type": "code",
   "execution_count": 5,
   "metadata": {},
   "outputs": [],
   "source": [
    "def prediction_sharpe(modele, nb_simus,nb_signals,nb_dates_in_sample,nb_dates_out_sample,nb_assets,vol_assets,\n",
    "                      correl_assets,vol_signals,correl_signals,signal_to_noise,rank_betas):\n",
    "    \n",
    "    liste_sharpes_predit = []\n",
    "    liste_sharpes_optimaux_os=[]\n",
    "    écart_sharpe_moyen=[]\n",
    "    \n",
    "    cov_assets = vol_assets**2 * pd.DataFrame(correl_assets * np.ones((nb_assets,nb_assets)) + (1-correl_assets)*np.eye(nb_assets))\n",
    "    cov_signals = vol_signals**2 * pd.DataFrame(correl_signals * np.ones((nb_signals,nb_signals)) + (1-correl_signals)*np.eye(nb_signals))\n",
    "\n",
    "    for i in range(nb_simus): \n",
    "        #partie generation des matrices de signaux et de rendements, d'entrainement et de test \n",
    "        \n",
    "        betas = pd.DataFrame(np.random.randn(nb_signals,nb_assets)) \n",
    "        betas *= np.sqrt(signal_to_noise * np.trace(cov_assets) / np.trace(betas.T @ cov_signals @ betas))\n",
    "        u,d,v = np.linalg.svd(betas)\n",
    "        betas = pd.concat([pd.DataFrame(d[k] * np.outer(u[:,k],v[k,:]),index=betas.index,columns=betas.columns) for k in range(rank_betas)],keys=range(rank_betas)).groupby(level=1).sum()\n",
    "        betas *= np.sqrt(signal_to_noise * np.trace(cov_assets) / np.trace(betas.T @ cov_signals @ betas))\n",
    "    \n",
    "        cov_noise = cov_assets - betas.T @ cov_signals @ betas\n",
    "        d,P = np.linalg.eigh(cov_noise)\n",
    "        cov_noise = pd.DataFrame(P @ np.diag(np.maximum(d,1e-10)) @ P.T)\n",
    "\n",
    "        sqrt_cov_assets = np.linalg.cholesky(cov_assets)\n",
    "        sqrt_cov_signals = np.linalg.cholesky(cov_signals)\n",
    "        sqrt_cov_noise = np.linalg.cholesky(cov_noise)\n",
    "    \n",
    "        signals = pd.DataFrame(np.random.randn(nb_dates_in_sample,nb_signals) @ sqrt_cov_signals.T)\n",
    "        noise = pd.DataFrame(np.random.randn(nb_dates_in_sample,nb_assets) @ sqrt_cov_noise.T)\n",
    "        assets = signals @ betas+noise\n",
    "    \n",
    "        signals_os = pd.DataFrame(np.random.randn(nb_dates_out_sample,nb_signals) @ sqrt_cov_signals.T)\n",
    "        noise_os = pd.DataFrame(np.random.randn(nb_dates_out_sample,nb_assets) @ sqrt_cov_noise.T)\n",
    "        assets_os = signals_os @ betas+noise_os\n",
    "\n",
    "    \n",
    "    \n",
    "        #partie entrainement et test du modele \n",
    "        modele.fit(signals,assets)\n",
    "        prediction = modele.predict(signals_os) #ce truc est le vecteur des pondérations w=Y'f(Y)\n",
    "        pnl_predit=(prediction * assets_os).sum(axis=1)   #Xw = le vecteur des pnls, on obtient pnl quand on somme les rendements quotidiens \n",
    "        liste_sharpes_predit.append(pnl_predit.mean()/pnl_predit.std()*16)\n",
    "    \n",
    "        #question : a quoi comparer pnl_predit et sharpe_predit? \n",
    "        #à pnl optimal out sample ou in sample ? ie avec Xtrain ou avec Xtest ?\n",
    "        pnl_optimal_os = ((signals_os @ betas)*assets_os).sum(axis=1)\n",
    "        liste_sharpes_optimaux_os.append(pnl_optimal_os.mean()/pnl_optimal_os.std()*16)\n",
    "        \n",
    "        écart_sharpe_moyen.append(pnl_optimal_os.mean()/pnl_optimal_os.std()*16 - pnl_predit.mean()/pnl_predit.std()*16)\n",
    "       \n",
    "    \n",
    "    dic = {'nb_simus': nb_simus,\n",
    "       'moyenne sharpes prédits': np.mean(liste_sharpes_predit),\n",
    "       'moyenne sharpe optimaux': np.mean(liste_sharpes_optimaux_os),\n",
    "       'écart moyen sharpe': np.mean(écart_sharpe_moyen),\n",
    "     }\n",
    "\n",
    "    resultat = pd.DataFrame([dic])\n",
    "\n",
    "    \n",
    "    return resultat "
   ]
  },
  {
   "cell_type": "markdown",
   "metadata": {},
   "source": [
    "  #autres trucs qui étaient dans le dataframe en output à la base mais qu'on retire pour accélerer calculs\n",
    "'nb_signals': nb_signals,\n",
    "       'nb_dates_in_sample': nb_dates_in_sample,\n",
    "       'nb_dates_out_sample': nb_dates_out_sample,\n",
    "       'nb_assets': nb_assets,\n",
    "       'vol_assets': vol_assets,\n",
    "       'correl_assets': correl_assets,\n",
    "       'vol_signals': vol_signals,\n",
    "       'correl_signals': correl_signals,\n",
    "       'signal_to_noise': signal_to_noise,\n",
    "       'rank_betas': rank_betas"
   ]
  },
  {
   "cell_type": "code",
   "execution_count": 6,
   "metadata": {},
   "outputs": [],
   "source": [
    "x=prediction_sharpe(modele=Ridge(fit_intercept=False), \n",
    "                    nb_simus=10,\n",
    "                    nb_signals=100,\n",
    "                    nb_dates_in_sample=1300,\n",
    "                    nb_dates_out_sample=260,\n",
    "                    nb_assets=80,\n",
    "                    vol_assets=0.2/16,\n",
    "                    correl_assets=0.8,\n",
    "                    vol_signals=0.2/16,\n",
    "                    correl_signals=0.8,\n",
    "                    signal_to_noise=0.001,\n",
    "                    rank_betas=5)"
   ]
  },
  {
   "cell_type": "markdown",
   "metadata": {},
   "source": [
    "remarque: le ridge ne fonctionne pas sur vs code (pb de compatibilité de python??) il faut faire tourner sur ssp cloud pour obtenir des résultats..."
   ]
  },
  {
   "cell_type": "code",
   "execution_count": 8,
   "metadata": {},
   "outputs": [
    {
     "data": {
      "text/html": [
       "<div>\n",
       "<style scoped>\n",
       "    .dataframe tbody tr th:only-of-type {\n",
       "        vertical-align: middle;\n",
       "    }\n",
       "\n",
       "    .dataframe tbody tr th {\n",
       "        vertical-align: top;\n",
       "    }\n",
       "\n",
       "    .dataframe thead th {\n",
       "        text-align: right;\n",
       "    }\n",
       "</style>\n",
       "<table border=\"1\" class=\"dataframe\">\n",
       "  <thead>\n",
       "    <tr style=\"text-align: right;\">\n",
       "      <th></th>\n",
       "      <th>nb_simus</th>\n",
       "      <th>moyenne sharpes prédits</th>\n",
       "      <th>moyenne sharpe optimaux</th>\n",
       "      <th>écart moyen sharpe</th>\n",
       "    </tr>\n",
       "  </thead>\n",
       "  <tbody>\n",
       "    <tr>\n",
       "      <th>0</th>\n",
       "      <td>10</td>\n",
       "      <td>-0.009173</td>\n",
       "      <td>5.914635</td>\n",
       "      <td>5.923808</td>\n",
       "    </tr>\n",
       "  </tbody>\n",
       "</table>\n",
       "</div>"
      ],
      "text/plain": [
       "   nb_simus  moyenne sharpes prédits  moyenne sharpe optimaux  \\\n",
       "0        10                -0.009173                 5.914635   \n",
       "\n",
       "   écart moyen sharpe  \n",
       "0            5.923808  "
      ]
     },
     "execution_count": 8,
     "metadata": {},
     "output_type": "execute_result"
    }
   ],
   "source": [
    "x"
   ]
  },
  {
   "cell_type": "code",
   "execution_count": 45,
   "metadata": {},
   "outputs": [],
   "source": [
    "def pour_faire_jolis_graphiques(modele,parametre_en_abscisse, min_abscisse, max_abscisse,pas, nb_simus,nb_signals,nb_dates_in_sample,nb_dates_out_sample,nb_assets,vol_assets,\n",
    "                      correl_assets,vol_signals,correl_signals,signal_to_noise,rank_betas):\n",
    "\n",
    "    \n",
    "    start_time = time.time()\n",
    "\n",
    "    abscisse = np.arange(min_abscisse,max_abscisse,pas) #abscisse\n",
    "    sharpe_os = []\n",
    "    sharpe_theo = []\n",
    "    #ecart_sharpe = []\n",
    "\n",
    "    \n",
    "    if parametre_en_abscisse == 'nombre_signaux' : \n",
    "        \n",
    "        for i in abscisse : \n",
    "\n",
    "            print(i)\n",
    "            sharpe_os.append(prediction_sharpe(modele, nb_simus, i,nb_dates_in_sample,nb_dates_out_sample,nb_assets,vol_assets,\n",
    "                      correl_assets,vol_signals,correl_signals,signal_to_noise,rank_betas).iloc[0,1])\n",
    "            sharpe_theo.append(prediction_sharpe(modele, nb_simus,i,nb_dates_in_sample,nb_dates_out_sample,nb_assets,vol_assets,\n",
    "                      correl_assets,vol_signals,correl_signals,signal_to_noise,rank_betas).iloc[0,2])\n",
    "            #ecart_sharpe.append(prediction_sharpe(modele, nb_simus,i,nb_dates_in_sample,nb_dates_out_sample,nb_assets,vol_assets,\n",
    "             #         correl_assets,vol_signals,correl_signals,signal_to_noise,rank_betas).iloc[0,3])\n",
    "\n",
    "\n",
    "    elif parametre_en_abscisse == 'nombre_dates_in_sample' : \n",
    "\n",
    "        for i in abscisse:\n",
    "\n",
    "            print(i)\n",
    "            sharpe_os.append(prediction_sharpe(modele, nb_simus, nb_signals,i,nb_dates_out_sample,nb_assets,vol_assets,\n",
    "                      correl_assets,vol_signals,correl_signals,signal_to_noise,rank_betas).iloc[0,1])\n",
    "            sharpe_theo.append(prediction_sharpe(modele, nb_simus,nb_signals,i,nb_dates_out_sample,nb_assets,vol_assets,\n",
    "                      correl_assets,vol_signals,correl_signals,signal_to_noise,rank_betas).iloc[0,2])\n",
    "            #ecart_sharpe.append(prediction_sharpe(modele, nb_simus,nb_signals,i,nb_dates_out_sample,nb_assets,vol_assets,\n",
    "             #         correl_assets,vol_signals,correl_signals,signal_to_noise,rank_betas).iloc[0,3])\n",
    "\n",
    "\n",
    "    elif parametre_en_abscisse == 'nombre_dates_out_sample' : \n",
    "\n",
    "        for i in abscisse:\n",
    "            print(i)\n",
    "            sharpe_os.append(prediction_sharpe(modele, nb_simus, nb_signals,nb_dates_in_sample,i,nb_assets,vol_assets,\n",
    "                      correl_assets,vol_signals,correl_signals,signal_to_noise,rank_betas).iloc[0,1])\n",
    "            sharpe_theo.append(prediction_sharpe(modele, nb_simus,nb_signals,nb_dates_in_sample,i,nb_assets,vol_assets,\n",
    "                      correl_assets,vol_signals,correl_signals,signal_to_noise,rank_betas).iloc[0,2])\n",
    "            #ecart_sharpe.append(prediction_sharpe(modele, nb_simus,nb_signals,nb_dates_in_sample,i,nb_assets,vol_assets,\n",
    "             #         correl_assets,vol_signals,correl_signals,signal_to_noise,rank_betas).iloc[0,3])\n",
    "\n",
    "\n",
    "    elif parametre_en_abscisse == 'nombre_actifs' : \n",
    "\n",
    "        for i in abscisse:\n",
    "            print(i)\n",
    "            sharpe_os.append(prediction_sharpe(modele, nb_simus, nb_signals,nb_dates_in_sample,nb_dates_out_sample,i,vol_assets,\n",
    "                      correl_assets,vol_signals,correl_signals,signal_to_noise,rank_betas).iloc[0,1])\n",
    "            sharpe_theo.append(prediction_sharpe(modele, nb_simus,nb_signals,nb_dates_in_sample,nb_dates_out_sample,i,vol_assets,\n",
    "                      correl_assets,vol_signals,correl_signals,signal_to_noise,rank_betas).iloc[0,2])\n",
    "            #ecart_sharpe.append(prediction_sharpe(modele, nb_simus,nb_signals,nb_dates_in_sample,nb_dates_out_sample,i,vol_assets,\n",
    "             #         correl_assets,vol_signals,correl_signals,signal_to_noise,rank_betas).iloc[0,3])\n",
    "\n",
    "\n",
    "    elif parametre_en_abscisse == 'vol_actifs' : \n",
    "\n",
    "        for i in abscisse:\n",
    "            print(i)\n",
    "            sharpe_os.append(prediction_sharpe(modele, nb_simus, nb_signals,nb_dates_in_sample,nb_dates_out_sample,nb_assets,i,\n",
    "                      correl_assets,vol_signals,correl_signals,signal_to_noise,rank_betas).iloc[0,1])\n",
    "            sharpe_theo.append(prediction_sharpe(modele, nb_simus,nb_signals,nb_dates_in_sample,nb_dates_out_sample,nb_assets,i,\n",
    "                      correl_assets,vol_signals,correl_signals,signal_to_noise,rank_betas).iloc[0,2])\n",
    "            #ecart_sharpe.append(prediction_sharpe(modele, nb_simus,nb_signals,nb_dates_in_sample,nb_dates_out_sample,nb_assets,i,\n",
    "             #         correl_assets,vol_signals,correl_signals,signal_to_noise,rank_betas).iloc[0,3])\n",
    "\n",
    "\n",
    "    elif parametre_en_abscisse == 'correl_actifs' : \n",
    "\n",
    "        for i in abscisse:\n",
    "            print(i)\n",
    "            sharpe_os.append(prediction_sharpe(modele, nb_simus, nb_signals,nb_dates_in_sample,nb_dates_out_sample,nb_assets,vol_assets,\n",
    "                      i,vol_signals,correl_signals,signal_to_noise,rank_betas).iloc[0,1])\n",
    "            sharpe_theo.append(prediction_sharpe(modele, nb_simus,nb_signals,nb_dates_in_sample,nb_dates_out_sample,nb_assets,vol_assets,\n",
    "                      i,vol_signals,correl_signals,signal_to_noise,rank_betas).iloc[0,2])\n",
    "            #ecart_sharpe.append(prediction_sharpe(modele, nb_simus,nb_signals,nb_dates_in_sample,nb_dates_out_sample,nb_assets,vol_assets,\n",
    "             #         i,vol_signals,correl_signals,signal_to_noise,rank_betas).iloc[0,3])\n",
    "\n",
    "\n",
    "\n",
    "    elif parametre_en_abscisse == 'vol_signaux' : \n",
    "\n",
    "        for i in abscisse:\n",
    "            print(i)\n",
    "            sharpe_os.append(prediction_sharpe(modele, nb_simus, nb_signals,nb_dates_in_sample,nb_dates_out_sample,nb_assets,vol_assets,\n",
    "                      correl_assets,i,correl_signals,signal_to_noise,rank_betas).iloc[0,1])\n",
    "            sharpe_theo.append(prediction_sharpe(modele, nb_simus,nb_signals,nb_dates_in_sample,nb_dates_out_sample,nb_assets,vol_assets,\n",
    "                      correl_assets,i,correl_signals,signal_to_noise,rank_betas).iloc[0,2])\n",
    "            #ecart_sharpe.append(prediction_sharpe(modele, nb_simus,nb_signals,nb_dates_in_sample,nb_dates_out_sample,nb_assets,vol_assets,\n",
    "             #         correl_assets,i,correl_signals,signal_to_noise,rank_betas).iloc[0,3])\n",
    "\n",
    "\n",
    "\n",
    "    elif parametre_en_abscisse == 'correl_signaux' : \n",
    "\n",
    "        for i in abscisse:\n",
    "            print(i)\n",
    "            sharpe_os.append(prediction_sharpe(modele, nb_simus, nb_signals,nb_dates_in_sample,nb_dates_out_sample,nb_assets,vol_assets,\n",
    "                      correl_assets,vol_signals,i,signal_to_noise,rank_betas).iloc[0,1])\n",
    "            sharpe_theo.append(prediction_sharpe(modele, nb_simus,nb_signals,nb_dates_in_sample,nb_dates_out_sample,nb_assets,vol_assets,\n",
    "                      correl_assets,vol_signals,i,signal_to_noise,rank_betas).iloc[0,2])\n",
    "            #ecart_sharpe.append(prediction_sharpe(modele, nb_simus,nb_signals,nb_dates_in_sample,nb_dates_out_sample,nb_assets,vol_assets,\n",
    "             #         correl_assets,vol_signals,i,signal_to_noise,rank_betas).iloc[0,3])\n",
    "\n",
    "\n",
    "\n",
    "    elif parametre_en_abscisse == 'signal_sur_bruit' : \n",
    "\n",
    "        for i in abscisse:\n",
    "            print(i)\n",
    "            sharpe_os.append(prediction_sharpe(modele, nb_simus, nb_signals,nb_dates_in_sample,nb_dates_out_sample,nb_assets,vol_assets,\n",
    "                      correl_assets,vol_signals,correl_signals,i,rank_betas).iloc[0,1])\n",
    "            sharpe_theo.append(prediction_sharpe(modele, nb_simus,nb_signals,nb_dates_in_sample,nb_dates_out_sample,nb_assets,vol_assets,\n",
    "                      correl_assets,vol_signals,correl_signals,i,rank_betas).iloc[0,2])\n",
    "            #ecart_sharpe.append(prediction_sharpe(modele, nb_simus,nb_signals,nb_dates_in_sample,nb_dates_out_sample,nb_assets,vol_assets,\n",
    "             #         correl_assets,vol_signals,correl_signals,i,rank_betas).iloc[0,3])\n",
    "\n",
    "\n",
    "\n",
    "    else: \n",
    "\n",
    "        return (\"pas un paramètre à faire varier fdp\")\n",
    "\n",
    "\n",
    "\n",
    "    end_time = time.time()\n",
    "    execution_time = end_time - start_time\n",
    "    print(\"Le temps d'exécution est de {:.2f} secondes.\".format(execution_time))\n",
    "\n",
    "    return abscisse, sharpe_os, sharpe_theo\n",
    "\n",
    "    "
   ]
  },
  {
   "cell_type": "markdown",
   "metadata": {},
   "source": [
    "vieux code qui était dans la fonction pour produire les graphiques, mais mieux vaut que la fonction renvoie juste des vecteurs et qu'on produise le graphique de notre choix"
   ]
  },
  {
   "cell_type": "markdown",
   "metadata": {},
   "source": [
    "\n",
    "    plt.plot(abscisse, sharpe_os, label='sharpe out sample')\n",
    "    plt.plot(abscisse, sharpe_theo, label='sharpe théorique optimal')\n",
    "    #plt.plot(abscisse, ecart_sharpe, label='écart entre sharpe OS et théorique')\n",
    "\n",
    "    # Ajouter des labels et un titre\n",
    "    plt.xlabel(parametre_en_abscisse)\n",
    "    plt.ylabel('Valeurs des sharpes')\n",
    "    plt.title(f'sharpe moyen pour {nb_simus} simulations avec le modèle {modele}')\n",
    "\n",
    "    # Ajouter une légende\n",
    "    plt.legend()\n",
    "\n",
    "\n",
    "    chemin_sauvegarde = os.path.join('C:\\\\Users\\\\jean-\\Desktop\\\\Cours ENSAE\\\\statapp\\\\graphiques statapp sharpes modele signal\\\\', f\"{nom_graphe}.png\")\n",
    "\n",
    "    \n",
    "    plt.savefig(chemin_sauvegarde, dpi=300)\n",
    "\n",
    "    # Afficher le tracé\n",
    "    plt.show()"
   ]
  },
  {
   "cell_type": "code",
   "execution_count": 34,
   "metadata": {},
   "outputs": [
    {
     "name": "stdout",
     "output_type": "stream",
     "text": [
      "260\n",
      "520\n",
      "780\n",
      "1040\n",
      "1300\n",
      "1560\n",
      "1820\n",
      "2080\n",
      "2340\n",
      "2600\n",
      "2860\n",
      "3120\n",
      "3380\n",
      "3640\n",
      "3900\n",
      "4160\n",
      "4420\n",
      "4680\n",
      "4940\n"
     ]
    },
    {
     "data": {
      "image/png": "[encoded data removed]",
      "text/plain": [
       "<Figure size 432x288 with 1 Axes>"
      ]
     },
     "metadata": {
      "needs_background": "light"
     },
     "output_type": "display_data"
    },
    {
     "name": "stdout",
     "output_type": "stream",
     "text": [
      "Le temps d'exécution est de 2741.77 secondes.\n"
     ]
    }
   ],
   "source": [
    "jolis_graphiques(modele=LinearRegression(fit_intercept=False), \n",
    "                 nom_graphe='RegLin - sharpe en fonction de nb dates in sample - 1000 simus - 20 actifs',\n",
    "                 parametre_en_abscisse='nombre_dates_in_sample', \n",
    "                 min_abscisse=260, \n",
    "                 max_abscisse=260*20,\n",
    "                 pas=260, \n",
    "                 nb_simus=1000,\n",
    "                 nb_signals=100,\n",
    "                 nb_dates_in_sample=1300,\n",
    "                 nb_dates_out_sample=260,\n",
    "                 nb_assets=20,\n",
    "                 vol_assets=0.2/16,\n",
    "                 correl_assets=0.8,\n",
    "                 vol_signals=0.2/16,\n",
    "                 correl_signals=0.8,\n",
    "                 signal_to_noise=0.001,\n",
    "                 rank_betas=5)"
   ]
  },
  {
   "cell_type": "code",
   "execution_count": null,
   "metadata": {},
   "outputs": [],
   "source": []
  },
  {
   "cell_type": "code",
   "execution_count": 35,
   "metadata": {},
   "outputs": [
    {
     "name": "stdout",
     "output_type": "stream",
     "text": [
      "260\n",
      "520\n",
      "780\n",
      "1040\n",
      "1300\n",
      "1560\n",
      "1820\n",
      "2080\n",
      "2340\n",
      "2600\n",
      "2860\n",
      "3120\n",
      "3380\n",
      "3640\n",
      "3900\n",
      "4160\n",
      "4420\n",
      "4680\n",
      "4940\n"
     ]
    },
    {
     "data": {
      "image/png": "[encoded data removed]",
      "text/plain": [
       "<Figure size 432x288 with 1 Axes>"
      ]
     },
     "metadata": {
      "needs_background": "light"
     },
     "output_type": "display_data"
    },
    {
     "name": "stdout",
     "output_type": "stream",
     "text": [
      "Le temps d'exécution est de 2327.35 secondes.\n"
     ]
    }
   ],
   "source": [
    "jolis_graphiques(modele=LinearRegression(fit_intercept=False), \n",
    "                 nom_graphe='RegLin - sharpe en fonction de nb dates in sample - 1000 simus - 10 actifs',\n",
    "                 parametre_en_abscisse='nombre_dates_in_sample', \n",
    "                 min_abscisse=260, \n",
    "                 max_abscisse=260*20,\n",
    "                 pas=260, \n",
    "                 nb_simus=1000,\n",
    "                 nb_signals=100,\n",
    "                 nb_dates_in_sample=1300,\n",
    "                 nb_dates_out_sample=260,\n",
    "                 nb_assets=10,\n",
    "                 vol_assets=0.2/16,\n",
    "                 correl_assets=0.8,\n",
    "                 vol_signals=0.2/16,\n",
    "                 correl_signals=0.8,\n",
    "                 signal_to_noise=0.001,\n",
    "                 rank_betas=5)"
   ]
  },
  {
   "cell_type": "code",
   "execution_count": 10,
   "metadata": {},
   "outputs": [
    {
     "name": "stdout",
     "output_type": "stream",
     "text": [
      "260\n",
      "520\n",
      "780\n",
      "1040\n",
      "1300\n",
      "1560\n",
      "1820\n",
      "2080\n",
      "2340\n",
      "2600\n",
      "2860\n",
      "3120\n",
      "3380\n",
      "3640\n",
      "3900\n",
      "4160\n",
      "4420\n",
      "4680\n",
      "4940\n"
     ]
    },
    {
     "data": {
      "image/png": "[encoded data removed]",
      "text/plain": [
       "<Figure size 432x288 with 1 Axes>"
      ]
     },
     "metadata": {
      "needs_background": "light"
     },
     "output_type": "display_data"
    },
    {
     "name": "stdout",
     "output_type": "stream",
     "text": [
      "Le temps d'exécution est de 2894.56 secondes.\n"
     ]
    }
   ],
   "source": [
    "jolis_graphiques(modele=LinearRegression(fit_intercept=False), \n",
    "                 nom_graphe='RegLin - sharpe en fonction de nb dates in sample - 1000 simus - 40 actifs',\n",
    "                 parametre_en_abscisse='nombre_dates_in_sample', \n",
    "                 min_abscisse=260, \n",
    "                 max_abscisse=260*20,\n",
    "                 pas=260, \n",
    "                 nb_simus=1000,\n",
    "                 nb_signals=100,\n",
    "                 nb_dates_in_sample=1300,\n",
    "                 nb_dates_out_sample=260,\n",
    "                 nb_assets=40,\n",
    "                 vol_assets=0.2/16,\n",
    "                 correl_assets=0.8,\n",
    "                 vol_signals=0.2/16,\n",
    "                 correl_signals=0.8,\n",
    "                 signal_to_noise=0.001,\n",
    "                 rank_betas=5)"
   ]
  },
  {
   "cell_type": "markdown",
   "metadata": {},
   "source": [
    "remarque: pour faire varier le nombre d'actifs: on ne peut pas mettre moins d'actifs que le rang de betas. "
   ]
  },
  {
   "cell_type": "code",
   "execution_count": 33,
   "metadata": {},
   "outputs": [
    {
     "name": "stdout",
     "output_type": "stream",
     "text": [
      "5\n",
      "10\n",
      "15\n",
      "20\n",
      "25\n",
      "30\n",
      "35\n",
      "40\n",
      "45\n",
      "50\n",
      "55\n",
      "60\n",
      "65\n",
      "70\n",
      "75\n",
      "80\n",
      "85\n",
      "90\n",
      "95\n",
      "100\n",
      "Le temps d'exécution est de 1694.24 secondes.\n",
      "[  5  10  15  20  25  30  35  40  45  50  55  60  65  70  75  80  85  90\n",
      "  95 100] [0.09878559631453435, 0.052602631518488215, 0.1316882313593446, 0.037254059756171055, 0.07594700729744677, 0.056357229171135274, 0.04320662169362957, 0.10676267854900266, 0.06421542634297966, 0.07134379330739123, 0.04286212355159139, 0.062256837085514376, 0.05685775809072548, 0.07372642404168288, 0.10031104073040746, 0.0927113310471434, 0.03896039304076194, 0.05895719154845019, 0.05331648773545113, 0.05209777008533142] [1.2915762888436402, 1.8919581989082515, 2.344645711506915, 2.719087034798742, 3.0734025202038358, 3.2997967177747367, 3.5175636834325195, 3.7790820878716156, 4.005129067558764, 4.252288812320694, 4.485511709926688, 4.71955415429015, 4.8660446212736685, 4.975339731373966, 5.305383828845576, 5.312802014879959, 5.394131749355208, 5.5868758564890975, 5.76909341685379, 5.915340538257654]\n"
     ]
    }
   ],
   "source": [
    "x,y,z=pour_faire_jolis_graphiques(modele=LinearRegression(fit_intercept=False), \n",
    "                 nom_graphe='RegLin - sharpe en fonction de nb actifs - 1000 simus',\n",
    "                 parametre_en_abscisse='nombre_actifs', \n",
    "                 min_abscisse=5, \n",
    "                 max_abscisse=105,\n",
    "                 pas=5, \n",
    "                 nb_simus=1000,\n",
    "                 nb_signals=100,\n",
    "                 nb_dates_in_sample=1300,\n",
    "                 nb_dates_out_sample=260,\n",
    "                 nb_assets=20,\n",
    "                 vol_assets=0.2/16,\n",
    "                 correl_assets=0.8,\n",
    "                 vol_signals=0.2/16,\n",
    "                 correl_signals=0.8,\n",
    "                 signal_to_noise=0.001,\n",
    "                 rank_betas=5)\n",
    "\n",
    "print(x,y,z)"
   ]
  },
  {
   "cell_type": "code",
   "execution_count": 53,
   "metadata": {},
   "outputs": [
    {
     "data": {
      "image/png": "[encoded data removed]",
      "text/plain": [
       "<Figure size 432x288 with 1 Axes>"
      ]
     },
     "metadata": {
      "needs_background": "light"
     },
     "output_type": "display_data"
    }
   ],
   "source": [
    "plt.plot(x, y, label='sharpe out sample')\n",
    "plt.plot(x, z, label='sharpe théorique optimal')\n",
    "#plt.plot(x, z-y, label='écart entre sharpe OS et théorique')\n",
    "\n",
    "    # Ajouter des labels et un titre\n",
    "plt.xlabel('nombre d actifs dans le portefeuille')\n",
    "plt.ylabel('Valeurs des sharpes')\n",
    "plt.title(f'sharpe moyen pour {1000} simulations avec la régression linéaire')\n",
    "\n",
    "    # Ajouter une légende\n",
    "plt.legend()\n",
    "\n",
    "\n",
    "chemin_sauvegarde =\"C:\\\\Users\\\\jean-\\Desktop\\\\Cours ENSAE\\\\statapp\\\\graphiques statapp sharpes modele signal\\\\regression linéaire contre nb actifs, 1000 simus, focus sharpe out sample.png\"\n",
    "\n",
    "    \n",
    "plt.savefig(chemin_sauvegarde, dpi=300)\n",
    "\n",
    "    # Afficher le tracé\n",
    "plt.show()"
   ]
  },
  {
   "cell_type": "markdown",
   "metadata": {},
   "source": [
    "remarque: la correlation entre actif doit etre dans [0,1[ sinon la matrice sqrt_cov_assets n'est pas SDP "
   ]
  },
  {
   "cell_type": "code",
   "execution_count": 55,
   "metadata": {},
   "outputs": [
    {
     "name": "stdout",
     "output_type": "stream",
     "text": [
      "0.0\n"
     ]
    },
    {
     "ename": "KeyboardInterrupt",
     "evalue": "",
     "output_type": "error",
     "traceback": [
      "\u001b[1;31m---------------------------------------------------------------------------\u001b[0m",
      "\u001b[1;31mKeyboardInterrupt\u001b[0m                         Traceback (most recent call last)",
      "\u001b[1;32m~\\AppData\\Local\\Temp/ipykernel_13308/4169625092.py\u001b[0m in \u001b[0;36m<module>\u001b[1;34m\u001b[0m\n\u001b[1;32m----> 1\u001b[1;33m abscisse_correl, sharpe_out_sample_correl, sharpe_theo_correl = pour_faire_jolis_graphiques(modele=LinearRegression(fit_intercept=False), \n\u001b[0m\u001b[0;32m      2\u001b[0m                  \u001b[0mparametre_en_abscisse\u001b[0m\u001b[1;33m=\u001b[0m\u001b[1;34m'correl_actifs'\u001b[0m\u001b[1;33m,\u001b[0m\u001b[1;33m\u001b[0m\u001b[1;33m\u001b[0m\u001b[0m\n\u001b[0;32m      3\u001b[0m                  \u001b[0mmin_abscisse\u001b[0m\u001b[1;33m=\u001b[0m\u001b[1;36m0\u001b[0m\u001b[1;33m,\u001b[0m\u001b[1;33m\u001b[0m\u001b[1;33m\u001b[0m\u001b[0m\n\u001b[0;32m      4\u001b[0m                  \u001b[0mmax_abscisse\u001b[0m\u001b[1;33m=\u001b[0m\u001b[1;36m1\u001b[0m\u001b[1;33m,\u001b[0m\u001b[1;33m\u001b[0m\u001b[1;33m\u001b[0m\u001b[0m\n\u001b[0;32m      5\u001b[0m                  \u001b[0mpas\u001b[0m\u001b[1;33m=\u001b[0m\u001b[1;36m0.05\u001b[0m\u001b[1;33m,\u001b[0m\u001b[1;33m\u001b[0m\u001b[1;33m\u001b[0m\u001b[0m\n",
      "\u001b[1;32m~\\AppData\\Local\\Temp/ipykernel_13308/1526631301.py\u001b[0m in \u001b[0;36mpour_faire_jolis_graphiques\u001b[1;34m(modele, parametre_en_abscisse, min_abscisse, max_abscisse, pas, nb_simus, nb_signals, nb_dates_in_sample, nb_dates_out_sample, nb_assets, vol_assets, correl_assets, vol_signals, correl_signals, signal_to_noise, rank_betas)\u001b[0m\n\u001b[0;32m     77\u001b[0m         \u001b[1;32mfor\u001b[0m \u001b[0mi\u001b[0m \u001b[1;32min\u001b[0m \u001b[0mabscisse\u001b[0m\u001b[1;33m:\u001b[0m\u001b[1;33m\u001b[0m\u001b[1;33m\u001b[0m\u001b[0m\n\u001b[0;32m     78\u001b[0m             \u001b[0mprint\u001b[0m\u001b[1;33m(\u001b[0m\u001b[0mi\u001b[0m\u001b[1;33m)\u001b[0m\u001b[1;33m\u001b[0m\u001b[1;33m\u001b[0m\u001b[0m\n\u001b[1;32m---> 79\u001b[1;33m             sharpe_os.append(prediction_sharpe(modele, nb_simus, nb_signals,nb_dates_in_sample,nb_dates_out_sample,nb_assets,vol_assets,\n\u001b[0m\u001b[0;32m     80\u001b[0m                       i,vol_signals,correl_signals,signal_to_noise,rank_betas).iloc[0,1])\n\u001b[0;32m     81\u001b[0m             sharpe_theo.append(prediction_sharpe(modele, nb_simus,nb_signals,nb_dates_in_sample,nb_dates_out_sample,nb_assets,vol_assets,\n",
      "\u001b[1;32m~\\AppData\\Local\\Temp/ipykernel_13308/69890746.py\u001b[0m in \u001b[0;36mprediction_sharpe\u001b[1;34m(modele, nb_simus, nb_signals, nb_dates_in_sample, nb_dates_out_sample, nb_assets, vol_assets, correl_assets, vol_signals, correl_signals, signal_to_noise, rank_betas)\u001b[0m\n\u001b[0;32m     16\u001b[0m         \u001b[0mu\u001b[0m\u001b[1;33m,\u001b[0m\u001b[0md\u001b[0m\u001b[1;33m,\u001b[0m\u001b[0mv\u001b[0m \u001b[1;33m=\u001b[0m \u001b[0mnp\u001b[0m\u001b[1;33m.\u001b[0m\u001b[0mlinalg\u001b[0m\u001b[1;33m.\u001b[0m\u001b[0msvd\u001b[0m\u001b[1;33m(\u001b[0m\u001b[0mbetas\u001b[0m\u001b[1;33m)\u001b[0m\u001b[1;33m\u001b[0m\u001b[1;33m\u001b[0m\u001b[0m\n\u001b[0;32m     17\u001b[0m         \u001b[0mbetas\u001b[0m \u001b[1;33m=\u001b[0m \u001b[0mpd\u001b[0m\u001b[1;33m.\u001b[0m\u001b[0mconcat\u001b[0m\u001b[1;33m(\u001b[0m\u001b[1;33m[\u001b[0m\u001b[0mpd\u001b[0m\u001b[1;33m.\u001b[0m\u001b[0mDataFrame\u001b[0m\u001b[1;33m(\u001b[0m\u001b[0md\u001b[0m\u001b[1;33m[\u001b[0m\u001b[0mk\u001b[0m\u001b[1;33m]\u001b[0m \u001b[1;33m*\u001b[0m \u001b[0mnp\u001b[0m\u001b[1;33m.\u001b[0m\u001b[0mouter\u001b[0m\u001b[1;33m(\u001b[0m\u001b[0mu\u001b[0m\u001b[1;33m[\u001b[0m\u001b[1;33m:\u001b[0m\u001b[1;33m,\u001b[0m\u001b[0mk\u001b[0m\u001b[1;33m]\u001b[0m\u001b[1;33m,\u001b[0m\u001b[0mv\u001b[0m\u001b[1;33m[\u001b[0m\u001b[0mk\u001b[0m\u001b[1;33m,\u001b[0m\u001b[1;33m:\u001b[0m\u001b[1;33m]\u001b[0m\u001b[1;33m)\u001b[0m\u001b[1;33m,\u001b[0m\u001b[0mindex\u001b[0m\u001b[1;33m=\u001b[0m\u001b[0mbetas\u001b[0m\u001b[1;33m.\u001b[0m\u001b[0mindex\u001b[0m\u001b[1;33m,\u001b[0m\u001b[0mcolumns\u001b[0m\u001b[1;33m=\u001b[0m\u001b[0mbetas\u001b[0m\u001b[1;33m.\u001b[0m\u001b[0mcolumns\u001b[0m\u001b[1;33m)\u001b[0m \u001b[1;32mfor\u001b[0m \u001b[0mk\u001b[0m \u001b[1;32min\u001b[0m \u001b[0mrange\u001b[0m\u001b[1;33m(\u001b[0m\u001b[0mrank_betas\u001b[0m\u001b[1;33m)\u001b[0m\u001b[1;33m]\u001b[0m\u001b[1;33m,\u001b[0m\u001b[0mkeys\u001b[0m\u001b[1;33m=\u001b[0m\u001b[0mrange\u001b[0m\u001b[1;33m(\u001b[0m\u001b[0mrank_betas\u001b[0m\u001b[1;33m)\u001b[0m\u001b[1;33m)\u001b[0m\u001b[1;33m.\u001b[0m\u001b[0mgroupby\u001b[0m\u001b[1;33m(\u001b[0m\u001b[0mlevel\u001b[0m\u001b[1;33m=\u001b[0m\u001b[1;36m1\u001b[0m\u001b[1;33m)\u001b[0m\u001b[1;33m.\u001b[0m\u001b[0msum\u001b[0m\u001b[1;33m(\u001b[0m\u001b[1;33m)\u001b[0m\u001b[1;33m\u001b[0m\u001b[1;33m\u001b[0m\u001b[0m\n\u001b[1;32m---> 18\u001b[1;33m         \u001b[0mbetas\u001b[0m \u001b[1;33m*=\u001b[0m \u001b[0mnp\u001b[0m\u001b[1;33m.\u001b[0m\u001b[0msqrt\u001b[0m\u001b[1;33m(\u001b[0m\u001b[0msignal_to_noise\u001b[0m \u001b[1;33m*\u001b[0m \u001b[0mnp\u001b[0m\u001b[1;33m.\u001b[0m\u001b[0mtrace\u001b[0m\u001b[1;33m(\u001b[0m\u001b[0mcov_assets\u001b[0m\u001b[1;33m)\u001b[0m \u001b[1;33m/\u001b[0m \u001b[0mnp\u001b[0m\u001b[1;33m.\u001b[0m\u001b[0mtrace\u001b[0m\u001b[1;33m(\u001b[0m\u001b[0mbetas\u001b[0m\u001b[1;33m.\u001b[0m\u001b[0mT\u001b[0m \u001b[1;33m@\u001b[0m \u001b[0mcov_signals\u001b[0m \u001b[1;33m@\u001b[0m \u001b[0mbetas\u001b[0m\u001b[1;33m)\u001b[0m\u001b[1;33m)\u001b[0m\u001b[1;33m\u001b[0m\u001b[1;33m\u001b[0m\u001b[0m\n\u001b[0m\u001b[0;32m     19\u001b[0m \u001b[1;33m\u001b[0m\u001b[0m\n\u001b[0;32m     20\u001b[0m         \u001b[0mcov_noise\u001b[0m \u001b[1;33m=\u001b[0m \u001b[0mcov_assets\u001b[0m \u001b[1;33m-\u001b[0m \u001b[0mbetas\u001b[0m\u001b[1;33m.\u001b[0m\u001b[0mT\u001b[0m \u001b[1;33m@\u001b[0m \u001b[0mcov_signals\u001b[0m \u001b[1;33m@\u001b[0m \u001b[0mbetas\u001b[0m\u001b[1;33m\u001b[0m\u001b[1;33m\u001b[0m\u001b[0m\n",
      "\u001b[1;32mc:\\Users\\jean-\\anaconda3\\lib\\site-packages\\pandas\\core\\frame.py\u001b[0m in \u001b[0;36m__matmul__\u001b[1;34m(self, other)\u001b[0m\n\u001b[0;32m   1490\u001b[0m         \u001b[0mMatrix\u001b[0m \u001b[0mmultiplication\u001b[0m \u001b[0musing\u001b[0m \u001b[0mbinary\u001b[0m\u001b[0;31m \u001b[0m\u001b[0;31m`\u001b[0m\u001b[1;33m@\u001b[0m\u001b[0;31m`\u001b[0m \u001b[0moperator\u001b[0m \u001b[1;32min\u001b[0m \u001b[0mPython\u001b[0m\u001b[1;33m>=\u001b[0m\u001b[1;36m3.5\u001b[0m\u001b[1;33m.\u001b[0m\u001b[1;33m\u001b[0m\u001b[1;33m\u001b[0m\u001b[0m\n\u001b[0;32m   1491\u001b[0m         \"\"\"\n\u001b[1;32m-> 1492\u001b[1;33m         \u001b[1;32mreturn\u001b[0m \u001b[0mself\u001b[0m\u001b[1;33m.\u001b[0m\u001b[0mdot\u001b[0m\u001b[1;33m(\u001b[0m\u001b[0mother\u001b[0m\u001b[1;33m)\u001b[0m\u001b[1;33m\u001b[0m\u001b[1;33m\u001b[0m\u001b[0m\n\u001b[0m\u001b[0;32m   1493\u001b[0m \u001b[1;33m\u001b[0m\u001b[0m\n\u001b[0;32m   1494\u001b[0m     \u001b[1;32mdef\u001b[0m \u001b[0m__rmatmul__\u001b[0m\u001b[1;33m(\u001b[0m\u001b[0mself\u001b[0m\u001b[1;33m,\u001b[0m \u001b[0mother\u001b[0m\u001b[1;33m)\u001b[0m\u001b[1;33m:\u001b[0m\u001b[1;33m\u001b[0m\u001b[1;33m\u001b[0m\u001b[0m\n",
      "\u001b[1;32mc:\\Users\\jean-\\anaconda3\\lib\\site-packages\\pandas\\core\\frame.py\u001b[0m in \u001b[0;36mdot\u001b[1;34m(self, other)\u001b[0m\n\u001b[0;32m   1461\u001b[0m         \u001b[1;32mif\u001b[0m \u001b[0misinstance\u001b[0m\u001b[1;33m(\u001b[0m\u001b[0mother\u001b[0m\u001b[1;33m,\u001b[0m \u001b[0mDataFrame\u001b[0m\u001b[1;33m)\u001b[0m\u001b[1;33m:\u001b[0m\u001b[1;33m\u001b[0m\u001b[1;33m\u001b[0m\u001b[0m\n\u001b[0;32m   1462\u001b[0m             return self._constructor(\n\u001b[1;32m-> 1463\u001b[1;33m                 \u001b[0mnp\u001b[0m\u001b[1;33m.\u001b[0m\u001b[0mdot\u001b[0m\u001b[1;33m(\u001b[0m\u001b[0mlvals\u001b[0m\u001b[1;33m,\u001b[0m \u001b[0mrvals\u001b[0m\u001b[1;33m)\u001b[0m\u001b[1;33m,\u001b[0m \u001b[0mindex\u001b[0m\u001b[1;33m=\u001b[0m\u001b[0mleft\u001b[0m\u001b[1;33m.\u001b[0m\u001b[0mindex\u001b[0m\u001b[1;33m,\u001b[0m \u001b[0mcolumns\u001b[0m\u001b[1;33m=\u001b[0m\u001b[0mother\u001b[0m\u001b[1;33m.\u001b[0m\u001b[0mcolumns\u001b[0m\u001b[1;33m\u001b[0m\u001b[1;33m\u001b[0m\u001b[0m\n\u001b[0m\u001b[0;32m   1464\u001b[0m             )\n\u001b[0;32m   1465\u001b[0m         \u001b[1;32melif\u001b[0m \u001b[0misinstance\u001b[0m\u001b[1;33m(\u001b[0m\u001b[0mother\u001b[0m\u001b[1;33m,\u001b[0m \u001b[0mSeries\u001b[0m\u001b[1;33m)\u001b[0m\u001b[1;33m:\u001b[0m\u001b[1;33m\u001b[0m\u001b[1;33m\u001b[0m\u001b[0m\n",
      "\u001b[1;31mKeyboardInterrupt\u001b[0m: "
     ]
    }
   ],
   "source": [
    "abscisse_correl, sharpe_out_sample_correl, sharpe_theo_correl = pour_faire_jolis_graphiques(modele=LinearRegression(fit_intercept=False), \n",
    "                 parametre_en_abscisse='correl_actifs', \n",
    "                 min_abscisse=0, \n",
    "                 max_abscisse=1,\n",
    "                 pas=0.05,\n",
    "                 nb_simus=1000,\n",
    "                 nb_signals=100,\n",
    "                 nb_dates_in_sample=1300,\n",
    "                 nb_dates_out_sample=260,\n",
    "                 nb_assets=20,\n",
    "                 vol_assets=0.2/16,\n",
    "                 correl_assets=0.8,\n",
    "                 vol_signals=0.2/16,\n",
    "                 correl_signals=0.8,\n",
    "                 signal_to_noise=0.001,\n",
    "                 rank_betas=5)\n",
    "\n",
    "print(abscisse_correl)"
   ]
  },
  {
   "cell_type": "markdown",
   "metadata": {},
   "source": [
    "idée: ce serait plus pertinent de produire un graphe qui renvoie le ratio sharpe_out_sample/(sharpe_theorique - sharpe_out_sample) associé à différentes méthodes, avec en abscisse le parametre qu'on fait varier.\n",
    "\n",
    "Comme ça on capture à la fois la performance prédictive du modele au numérateur et l'overfitting au dénominateur et on peut comparer les différentes méthodes entre elles "
   ]
  }
 ],
 "metadata": {
  "kernelspec": {
   "display_name": "base",
   "language": "python",
   "name": "python3"
  },
  "language_info": {
   "codemirror_mode": {
    "name": "ipython",
    "version": 3
   },
   "file_extension": ".py",
   "mimetype": "text/x-python",
   "name": "python",
   "nbconvert_exporter": "python",
   "pygments_lexer": "ipython3",
   "version": "3.9.7"
  }
 },
 "nbformat": 4,
 "nbformat_minor": 2
}
