{
 "cells": [
  {
   "cell_type": "code",
   "execution_count": 2,
   "metadata": {},
   "outputs": [
    {
     "name": "stdout",
     "output_type": "stream",
     "text": [
      "Requirement already satisfied: scikit-learn in c:\\users\\jean-\\anaconda3\\lib\\site-packages (0.24.2)\n",
      "Requirement already satisfied: threadpoolctl>=2.0.0 in c:\\users\\jean-\\anaconda3\\lib\\site-packages (from scikit-learn) (2.2.0)\n",
      "Requirement already satisfied: scipy>=0.19.1 in c:\\users\\jean-\\anaconda3\\lib\\site-packages (from scikit-learn) (1.12.0)\n",
      "Requirement already satisfied: joblib>=0.11 in c:\\users\\jean-\\anaconda3\\lib\\site-packages (from scikit-learn) (1.1.0)\n",
      "Requirement already satisfied: numpy>=1.13.3 in c:\\users\\jean-\\anaconda3\\lib\\site-packages (from scikit-learn) (1.26.3)\n"
     ]
    }
   ],
   "source": [
    "!pip install scikit-learn"
   ]
  },
  {
   "cell_type": "code",
   "execution_count": 16,
   "metadata": {},
   "outputs": [
    {
     "name": "stdout",
     "output_type": "stream",
     "text": [
      "Collecting breakpoint\n",
      "  Downloading breakpoint-2.1.4.tar.gz (539 kB)\n",
      "  Downloading breakpoint-2.1.3.tar.gz (777 kB)\n",
      "  Downloading breakpoint-2.1.2.tar.gz (776 kB)\n",
      "  Downloading breakpoint-2.1.1.tar.gz (776 kB)\n",
      "  Downloading breakpoint-2.1.0.tar.gz (774 kB)\n",
      "  Downloading breakpoint-1.0.2.tar.gz (2.5 kB)\n",
      "  Downloading breakpoint-1.0.1.tar.gz (3.3 kB)\n"
     ]
    },
    {
     "name": "stderr",
     "output_type": "stream",
     "text": [
      "    ERROR: Command errored out with exit status 1:\n",
      "     command: 'C:\\Users\\jean-\\anaconda3\\python.exe' -c 'import io, os, sys, setuptools, tokenize; sys.argv[0] = '\"'\"'C:\\\\Users\\\\jean-\\\\AppData\\\\Local\\\\Temp\\\\pip-install-9huq9dv1\\\\breakpoint_915b04109be24598a3407d29f63278bc\\\\setup.py'\"'\"'; __file__='\"'\"'C:\\\\Users\\\\jean-\\\\AppData\\\\Local\\\\Temp\\\\pip-install-9huq9dv1\\\\breakpoint_915b04109be24598a3407d29f63278bc\\\\setup.py'\"'\"';f = getattr(tokenize, '\"'\"'open'\"'\"', open)(__file__) if os.path.exists(__file__) else io.StringIO('\"'\"'from setuptools import setup; setup()'\"'\"');code = f.read().replace('\"'\"'\\r\\n'\"'\"', '\"'\"'\\n'\"'\"');f.close();exec(compile(code, __file__, '\"'\"'exec'\"'\"'))' egg_info --egg-base 'C:\\Users\\jean-\\AppData\\Local\\Temp\\pip-pip-egg-info-cnp20t7o'\n",
      "         cwd: C:\\Users\\jean-\\AppData\\Local\\Temp\\pip-install-9huq9dv1\\breakpoint_915b04109be24598a3407d29f63278bc\\\n",
      "    Complete output (5 lines):\n",
      "    Traceback (most recent call last):\n",
      "      File \"<string>\", line 1, in <module>\n",
      "      File \"C:\\Users\\jean-\\AppData\\Local\\Temp\\pip-install-9huq9dv1\\breakpoint_915b04109be24598a3407d29f63278bc\\setup.py\", line 5, in <module>\n",
      "        import ConfigParser\n",
      "    ModuleNotFoundError: No module named 'ConfigParser'\n",
      "    ----------------------------------------\n",
      "WARNING: Discarding https://files.pythonhosted.org/packages/ec/c1/9b95470ac26096b090d2e6bf1b3a353bb568b5cf57c7fdce30bbc00e1233/breakpoint-2.1.4.tar.gz#sha256=010aee67ff77ca32f86358d4d5422c3cbe43a710c6d9ee0908029d2607a960ef (from https://pypi.org/simple/breakpoint/). Command errored out with exit status 1: python setup.py egg_info Check the logs for full command output.\n",
      "    ERROR: Command errored out with exit status 1:\n",
      "     command: 'C:\\Users\\jean-\\anaconda3\\python.exe' -c 'import io, os, sys, setuptools, tokenize; sys.argv[0] = '\"'\"'C:\\\\Users\\\\jean-\\\\AppData\\\\Local\\\\Temp\\\\pip-install-9huq9dv1\\\\breakpoint_1c83739fa68747f693119d00ae7686e0\\\\setup.py'\"'\"'; __file__='\"'\"'C:\\\\Users\\\\jean-\\\\AppData\\\\Local\\\\Temp\\\\pip-install-9huq9dv1\\\\breakpoint_1c83739fa68747f693119d00ae7686e0\\\\setup.py'\"'\"';f = getattr(tokenize, '\"'\"'open'\"'\"', open)(__file__) if os.path.exists(__file__) else io.StringIO('\"'\"'from setuptools import setup; setup()'\"'\"');code = f.read().replace('\"'\"'\\r\\n'\"'\"', '\"'\"'\\n'\"'\"');f.close();exec(compile(code, __file__, '\"'\"'exec'\"'\"'))' egg_info --egg-base 'C:\\Users\\jean-\\AppData\\Local\\Temp\\pip-pip-egg-info-w0l2tjbr'\n",
      "         cwd: C:\\Users\\jean-\\AppData\\Local\\Temp\\pip-install-9huq9dv1\\breakpoint_1c83739fa68747f693119d00ae7686e0\\\n",
      "    Complete output (5 lines):\n",
      "    Traceback (most recent call last):\n",
      "      File \"<string>\", line 1, in <module>\n",
      "      File \"C:\\Users\\jean-\\AppData\\Local\\Temp\\pip-install-9huq9dv1\\breakpoint_1c83739fa68747f693119d00ae7686e0\\setup.py\", line 5, in <module>\n",
      "        import ConfigParser\n",
      "    ModuleNotFoundError: No module named 'ConfigParser'\n",
      "    ----------------------------------------\n",
      "WARNING: Discarding https://files.pythonhosted.org/packages/18/30/850233475f168167171be0f6c089a018430f67387f44bda2de1d2cf6f188/breakpoint-2.1.3.tar.gz#sha256=a5a0821609a8e77601405da1fa9e0201c6361c64dda10074f17c72562dadca2c (from https://pypi.org/simple/breakpoint/). Command errored out with exit status 1: python setup.py egg_info Check the logs for full command output.\n",
      "    ERROR: Command errored out with exit status 1:\n",
      "     command: 'C:\\Users\\jean-\\anaconda3\\python.exe' -c 'import io, os, sys, setuptools, tokenize; sys.argv[0] = '\"'\"'C:\\\\Users\\\\jean-\\\\AppData\\\\Local\\\\Temp\\\\pip-install-9huq9dv1\\\\breakpoint_47e78a50287e49ab95be22448c3b9e0e\\\\setup.py'\"'\"'; __file__='\"'\"'C:\\\\Users\\\\jean-\\\\AppData\\\\Local\\\\Temp\\\\pip-install-9huq9dv1\\\\breakpoint_47e78a50287e49ab95be22448c3b9e0e\\\\setup.py'\"'\"';f = getattr(tokenize, '\"'\"'open'\"'\"', open)(__file__) if os.path.exists(__file__) else io.StringIO('\"'\"'from setuptools import setup; setup()'\"'\"');code = f.read().replace('\"'\"'\\r\\n'\"'\"', '\"'\"'\\n'\"'\"');f.close();exec(compile(code, __file__, '\"'\"'exec'\"'\"'))' egg_info --egg-base 'C:\\Users\\jean-\\AppData\\Local\\Temp\\pip-pip-egg-info-3yzhx2q3'\n",
      "         cwd: C:\\Users\\jean-\\AppData\\Local\\Temp\\pip-install-9huq9dv1\\breakpoint_47e78a50287e49ab95be22448c3b9e0e\\\n",
      "    Complete output (5 lines):\n",
      "    Traceback (most recent call last):\n",
      "      File \"<string>\", line 1, in <module>\n",
      "      File \"C:\\Users\\jean-\\AppData\\Local\\Temp\\pip-install-9huq9dv1\\breakpoint_47e78a50287e49ab95be22448c3b9e0e\\setup.py\", line 5, in <module>\n",
      "        import ConfigParser\n",
      "    ModuleNotFoundError: No module named 'ConfigParser'\n",
      "    ----------------------------------------\n",
      "WARNING: Discarding https://files.pythonhosted.org/packages/20/86/ff52e8daeb943d619a2bf839e786d45b0bb2e9cc76a4f8e0c724c75f5738/breakpoint-2.1.2.tar.gz#sha256=839f74a25e434d353ce05413ef23b0abd8769f9a1bfc7e6a93a9366385772f47 (from https://pypi.org/simple/breakpoint/). Command errored out with exit status 1: python setup.py egg_info Check the logs for full command output.\n",
      "    ERROR: Command errored out with exit status 1:\n",
      "     command: 'C:\\Users\\jean-\\anaconda3\\python.exe' -c 'import io, os, sys, setuptools, tokenize; sys.argv[0] = '\"'\"'C:\\\\Users\\\\jean-\\\\AppData\\\\Local\\\\Temp\\\\pip-install-9huq9dv1\\\\breakpoint_8aaeeb64eb814969bb509d113ba31d3f\\\\setup.py'\"'\"'; __file__='\"'\"'C:\\\\Users\\\\jean-\\\\AppData\\\\Local\\\\Temp\\\\pip-install-9huq9dv1\\\\breakpoint_8aaeeb64eb814969bb509d113ba31d3f\\\\setup.py'\"'\"';f = getattr(tokenize, '\"'\"'open'\"'\"', open)(__file__) if os.path.exists(__file__) else io.StringIO('\"'\"'from setuptools import setup; setup()'\"'\"');code = f.read().replace('\"'\"'\\r\\n'\"'\"', '\"'\"'\\n'\"'\"');f.close();exec(compile(code, __file__, '\"'\"'exec'\"'\"'))' egg_info --egg-base 'C:\\Users\\jean-\\AppData\\Local\\Temp\\pip-pip-egg-info-4i9dls8h'\n",
      "         cwd: C:\\Users\\jean-\\AppData\\Local\\Temp\\pip-install-9huq9dv1\\breakpoint_8aaeeb64eb814969bb509d113ba31d3f\\\n",
      "    Complete output (5 lines):\n",
      "    Traceback (most recent call last):\n",
      "      File \"<string>\", line 1, in <module>\n",
      "      File \"C:\\Users\\jean-\\AppData\\Local\\Temp\\pip-install-9huq9dv1\\breakpoint_8aaeeb64eb814969bb509d113ba31d3f\\setup.py\", line 5, in <module>\n",
      "        import ConfigParser\n",
      "    ModuleNotFoundError: No module named 'ConfigParser'\n",
      "    ----------------------------------------\n",
      "WARNING: Discarding https://files.pythonhosted.org/packages/6c/6c/2a6fcae080b91fcd6af758d9b766ab66ff4597230146c061657ea30dc7b1/breakpoint-2.1.1.tar.gz#sha256=f8359072dfa8ffc1cf9ca779f6e6d66403db7f94b858e50d54e2e8db10fe5467 (from https://pypi.org/simple/breakpoint/). Command errored out with exit status 1: python setup.py egg_info Check the logs for full command output.\n",
      "    ERROR: Command errored out with exit status 1:\n",
      "     command: 'C:\\Users\\jean-\\anaconda3\\python.exe' -c 'import io, os, sys, setuptools, tokenize; sys.argv[0] = '\"'\"'C:\\\\Users\\\\jean-\\\\AppData\\\\Local\\\\Temp\\\\pip-install-9huq9dv1\\\\breakpoint_fd285227e49d4b22b57fbc9495ca52e8\\\\setup.py'\"'\"'; __file__='\"'\"'C:\\\\Users\\\\jean-\\\\AppData\\\\Local\\\\Temp\\\\pip-install-9huq9dv1\\\\breakpoint_fd285227e49d4b22b57fbc9495ca52e8\\\\setup.py'\"'\"';f = getattr(tokenize, '\"'\"'open'\"'\"', open)(__file__) if os.path.exists(__file__) else io.StringIO('\"'\"'from setuptools import setup; setup()'\"'\"');code = f.read().replace('\"'\"'\\r\\n'\"'\"', '\"'\"'\\n'\"'\"');f.close();exec(compile(code, __file__, '\"'\"'exec'\"'\"'))' egg_info --egg-base 'C:\\Users\\jean-\\AppData\\Local\\Temp\\pip-pip-egg-info-956ridpb'\n",
      "         cwd: C:\\Users\\jean-\\AppData\\Local\\Temp\\pip-install-9huq9dv1\\breakpoint_fd285227e49d4b22b57fbc9495ca52e8\\\n",
      "    Complete output (5 lines):\n",
      "    Traceback (most recent call last):\n",
      "      File \"<string>\", line 1, in <module>\n",
      "      File \"C:\\Users\\jean-\\AppData\\Local\\Temp\\pip-install-9huq9dv1\\breakpoint_fd285227e49d4b22b57fbc9495ca52e8\\setup.py\", line 5, in <module>\n",
      "        import ConfigParser\n",
      "    ModuleNotFoundError: No module named 'ConfigParser'\n",
      "    ----------------------------------------\n",
      "WARNING: Discarding https://files.pythonhosted.org/packages/26/19/8e662bbf765e8613fd58344828bd8123659ca103ce7ebbbb687589a2c3e6/breakpoint-2.1.0.tar.gz#sha256=7dca3dd45cf43b692aee357cc685e3ed1d9e9f4e16926dce70111f151ad07fec (from https://pypi.org/simple/breakpoint/). Command errored out with exit status 1: python setup.py egg_info Check the logs for full command output.\n",
      "    ERROR: Command errored out with exit status 1:\n",
      "     command: 'C:\\Users\\jean-\\anaconda3\\python.exe' -c 'import io, os, sys, setuptools, tokenize; sys.argv[0] = '\"'\"'C:\\\\Users\\\\jean-\\\\AppData\\\\Local\\\\Temp\\\\pip-install-9huq9dv1\\\\breakpoint_a781ac88da0b4304bf9c2b797a67ebba\\\\setup.py'\"'\"'; __file__='\"'\"'C:\\\\Users\\\\jean-\\\\AppData\\\\Local\\\\Temp\\\\pip-install-9huq9dv1\\\\breakpoint_a781ac88da0b4304bf9c2b797a67ebba\\\\setup.py'\"'\"';f = getattr(tokenize, '\"'\"'open'\"'\"', open)(__file__) if os.path.exists(__file__) else io.StringIO('\"'\"'from setuptools import setup; setup()'\"'\"');code = f.read().replace('\"'\"'\\r\\n'\"'\"', '\"'\"'\\n'\"'\"');f.close();exec(compile(code, __file__, '\"'\"'exec'\"'\"'))' egg_info --egg-base 'C:\\Users\\jean-\\AppData\\Local\\Temp\\pip-pip-egg-info-428e77k3'\n",
      "         cwd: C:\\Users\\jean-\\AppData\\Local\\Temp\\pip-install-9huq9dv1\\breakpoint_a781ac88da0b4304bf9c2b797a67ebba\\\n",
      "    Complete output (12 lines):\n",
      "    Traceback (most recent call last):\n",
      "      File \"<string>\", line 1, in <module>\n",
      "      File \"C:\\Users\\jean-\\AppData\\Local\\Temp\\pip-install-9huq9dv1\\breakpoint_a781ac88da0b4304bf9c2b797a67ebba\\setup.py\", line 13, in <module>\n",
      "        metadata = about.get_metadata(\"breakpoint\", path=os.getcwd())\n",
      "      File \"C:\\Users\\jean-\\AppData\\Local\\Temp\\pip-install-9huq9dv1\\breakpoint_a781ac88da0b4304bf9c2b797a67ebba\\about.py\", line 28, in get_metadata\n",
      "        about_data = importlib.import_module(name).__dict__\n",
      "      File \"C:\\Users\\jean-\\anaconda3\\lib\\importlib\\__init__.py\", line 127, in import_module\n",
      "        return _bootstrap._gcd_import(name[level:], package, level)\n",
      "      File \"<frozen importlib._bootstrap>\", line 1030, in _gcd_import\n",
      "      File \"<frozen importlib._bootstrap>\", line 1007, in _find_and_load\n",
      "      File \"<frozen importlib._bootstrap>\", line 984, in _find_and_load_unlocked\n",
      "    ModuleNotFoundError: No module named 'breakpoint'\n",
      "    ----------------------------------------\n",
      "WARNING: Discarding https://files.pythonhosted.org/packages/d0/69/f48bfea98893bfc28fc467c1616f2387355cfdd6ea2eed9e01677b7c19a5/breakpoint-1.0.2.tar.gz#sha256=0628ba4e4e84641e623c06de91b4637c46bd73381a76f114bffef57c3e6fc22e (from https://pypi.org/simple/breakpoint/). Command errored out with exit status 1: python setup.py egg_info Check the logs for full command output.\n",
      "    ERROR: Command errored out with exit status 1:\n",
      "     command: 'C:\\Users\\jean-\\anaconda3\\python.exe' -c 'import io, os, sys, setuptools, tokenize; sys.argv[0] = '\"'\"'C:\\\\Users\\\\jean-\\\\AppData\\\\Local\\\\Temp\\\\pip-install-9huq9dv1\\\\breakpoint_8852ba346f9041e78046b21e3f38dbe3\\\\setup.py'\"'\"'; __file__='\"'\"'C:\\\\Users\\\\jean-\\\\AppData\\\\Local\\\\Temp\\\\pip-install-9huq9dv1\\\\breakpoint_8852ba346f9041e78046b21e3f38dbe3\\\\setup.py'\"'\"';f = getattr(tokenize, '\"'\"'open'\"'\"', open)(__file__) if os.path.exists(__file__) else io.StringIO('\"'\"'from setuptools import setup; setup()'\"'\"');code = f.read().replace('\"'\"'\\r\\n'\"'\"', '\"'\"'\\n'\"'\"');f.close();exec(compile(code, __file__, '\"'\"'exec'\"'\"'))' egg_info --egg-base 'C:\\Users\\jean-\\AppData\\Local\\Temp\\pip-pip-egg-info-zpvhdohx'\n",
      "         cwd: C:\\Users\\jean-\\AppData\\Local\\Temp\\pip-install-9huq9dv1\\breakpoint_8852ba346f9041e78046b21e3f38dbe3\\\n",
      "    Complete output (10 lines):\n",
      "    Traceback (most recent call last):\n",
      "      File \"<string>\", line 1, in <module>\n",
      "      File \"C:\\Users\\jean-\\AppData\\Local\\Temp\\pip-install-9huq9dv1\\breakpoint_8852ba346f9041e78046b21e3f38dbe3\\setup.py\", line 58, in <module>\n",
      "        setup()\n",
      "      File \"C:\\Users\\jean-\\AppData\\Local\\Temp\\pip-install-9huq9dv1\\breakpoint_8852ba346f9041e78046b21e3f38dbe3\\setup.py\", line 10, in setup\n",
      "        import breakpoint\n",
      "      File \"C:\\Users\\jean-\\AppData\\Local\\Temp\\pip-install-9huq9dv1\\breakpoint_8852ba346f9041e78046b21e3f38dbe3\\.\\breakpoint.py\", line 116\n",
      "        print p, e, r\n",
      "              ^\n",
      "    SyntaxError: Missing parentheses in call to 'print'. Did you mean print(p, e, r)?\n",
      "    ----------------------------------------\n",
      "WARNING: Discarding https://files.pythonhosted.org/packages/31/f1/ebede974b893396bd48bd00e580a70594d68fafad9f44082761e7840afb1/breakpoint-1.0.1.tar.gz#sha256=4d805cf6e7b64cbb6259dba580ab5043c9d731a8f1e12bc3cd88d4330a2b43ca (from https://pypi.org/simple/breakpoint/). Command errored out with exit status 1: python setup.py egg_info Check the logs for full command output.\n",
      "ERROR: Could not find a version that satisfies the requirement breakpoint (from versions: 1.0.1, 1.0.2, 2.1.0, 2.1.1, 2.1.2, 2.1.3, 2.1.4)\n",
      "ERROR: No matching distribution found for breakpoint\n"
     ]
    }
   ],
   "source": [
    "!pip install breakpoint"
   ]
  },
  {
   "cell_type": "code",
   "execution_count": 8,
   "metadata": {},
   "outputs": [],
   "source": [
    "from pygam import LinearGAM, s, f\n",
    "from breakpoint import breakpoint\n",
    "from sklearn.model_selection import cross_val_score\n",
    "import numpy as np\n",
    "import pandas as pd\n",
    "import matplotlib.pyplot as plt\n"
   ]
  },
  {
   "cell_type": "code",
   "execution_count": 9,
   "metadata": {},
   "outputs": [],
   "source": [
    "nb_actifs = 20\n",
    "nb_dates = 256 * 5\n",
    "\n",
    "idx = pd.Index(np.arange(nb_actifs))\n",
    "\n",
    "mu = pd.Series(0.05,index=idx)\n",
    "vols = pd.Series(0.2,index=idx)\n",
    "correl = 0.7\n",
    "\n",
    "covar = np.diag(vols) @ pd.DataFrame(correl * np.ones((nb_actifs,nb_actifs)) + (1-correl) * np.eye(nb_actifs),index=idx,columns=idx) @ np.diag(vols)\n",
    "A = np.linalg.cholesky(covar)\n",
    "\n",
    "rdts_observes = mu/256 + pd.DataFrame(np.random.randn(nb_dates,nb_actifs)) @ A.T / 16\n"
   ]
  },
  {
   "cell_type": "code",
   "execution_count": 13,
   "metadata": {},
   "outputs": [
    {
     "name": "stdout",
     "output_type": "stream",
     "text": [
      "[1. 1. 1. ... 1. 1. 1.]\n"
     ]
    }
   ],
   "source": [
    "X=rdts_observes\n",
    "Y=np.ones(nb_dates)"
   ]
  },
  {
   "cell_type": "code",
   "execution_count": 14,
   "metadata": {},
   "outputs": [
    {
     "ename": "ValueError",
     "evalue": "n_splines must be > spline_order. found: n_splines = 1 and spline_order = 3",
     "output_type": "error",
     "traceback": [
      "\u001b[1;31m---------------------------------------------------------------------------\u001b[0m",
      "\u001b[1;31mValueError\u001b[0m                                Traceback (most recent call last)",
      "\u001b[1;32m~\\AppData\\Local\\Temp/ipykernel_17864/477828227.py\u001b[0m in \u001b[0;36m<module>\u001b[1;34m\u001b[0m\n\u001b[0;32m      3\u001b[0m \u001b[1;33m\u001b[0m\u001b[0m\n\u001b[0;32m      4\u001b[0m \u001b[1;32mfor\u001b[0m \u001b[0mnum_splines\u001b[0m \u001b[1;32min\u001b[0m \u001b[0mrange\u001b[0m\u001b[1;33m(\u001b[0m\u001b[1;36m1\u001b[0m\u001b[1;33m,\u001b[0m \u001b[1;36m11\u001b[0m\u001b[1;33m)\u001b[0m\u001b[1;33m:\u001b[0m\u001b[1;33m\u001b[0m\u001b[1;33m\u001b[0m\u001b[0m\n\u001b[1;32m----> 5\u001b[1;33m     \u001b[0mgam\u001b[0m \u001b[1;33m=\u001b[0m \u001b[0mLinearGAM\u001b[0m\u001b[1;33m(\u001b[0m\u001b[0ms\u001b[0m\u001b[1;33m(\u001b[0m\u001b[1;36m0\u001b[0m\u001b[1;33m,\u001b[0m \u001b[0mn_splines\u001b[0m\u001b[1;33m=\u001b[0m\u001b[0mnum_splines\u001b[0m\u001b[1;33m)\u001b[0m\u001b[1;33m)\u001b[0m\u001b[1;33m\u001b[0m\u001b[1;33m\u001b[0m\u001b[0m\n\u001b[0m\u001b[0;32m      6\u001b[0m     \u001b[0mscores\u001b[0m \u001b[1;33m=\u001b[0m \u001b[0mcross_val_score\u001b[0m\u001b[1;33m(\u001b[0m\u001b[0mgam\u001b[0m\u001b[1;33m,\u001b[0m \u001b[0mX\u001b[0m\u001b[1;33m.\u001b[0m\u001b[0mreshape\u001b[0m\u001b[1;33m(\u001b[0m\u001b[1;33m-\u001b[0m\u001b[1;36m1\u001b[0m\u001b[1;33m,\u001b[0m \u001b[1;36m1\u001b[0m\u001b[1;33m)\u001b[0m\u001b[1;33m,\u001b[0m \u001b[0mY\u001b[0m\u001b[1;33m,\u001b[0m \u001b[0mcv\u001b[0m\u001b[1;33m=\u001b[0m\u001b[1;36m5\u001b[0m\u001b[1;33m,\u001b[0m \u001b[0mscoring\u001b[0m\u001b[1;33m=\u001b[0m\u001b[1;34m'r2'\u001b[0m\u001b[1;33m)\u001b[0m\u001b[1;33m\u001b[0m\u001b[1;33m\u001b[0m\u001b[0m\n\u001b[0;32m      7\u001b[0m     \u001b[0mavg_score\u001b[0m \u001b[1;33m=\u001b[0m \u001b[0mnp\u001b[0m\u001b[1;33m.\u001b[0m\u001b[0mmean\u001b[0m\u001b[1;33m(\u001b[0m\u001b[0mscores\u001b[0m\u001b[1;33m)\u001b[0m\u001b[1;33m\u001b[0m\u001b[1;33m\u001b[0m\u001b[0m\n",
      "\u001b[1;32mc:\\Users\\jean-\\anaconda3\\lib\\site-packages\\pygam\\terms.py\u001b[0m in \u001b[0;36ms\u001b[1;34m(feature, n_splines, spline_order, lam, penalties, constraints, dtype, basis, by, edge_knots, verbose)\u001b[0m\n\u001b[0;32m   1910\u001b[0m     \u001b[0mSplineTerm\u001b[0m \u001b[1;33m:\u001b[0m \u001b[1;32mfor\u001b[0m \u001b[0mdeveloper\u001b[0m \u001b[0mdetails\u001b[0m\u001b[1;33m\u001b[0m\u001b[1;33m\u001b[0m\u001b[0m\n\u001b[0;32m   1911\u001b[0m     \"\"\"\n\u001b[1;32m-> 1912\u001b[1;33m     return SplineTerm(\n\u001b[0m\u001b[0;32m   1913\u001b[0m         \u001b[0mfeature\u001b[0m\u001b[1;33m=\u001b[0m\u001b[0mfeature\u001b[0m\u001b[1;33m,\u001b[0m\u001b[1;33m\u001b[0m\u001b[1;33m\u001b[0m\u001b[0m\n\u001b[0;32m   1914\u001b[0m         \u001b[0mn_splines\u001b[0m\u001b[1;33m=\u001b[0m\u001b[0mn_splines\u001b[0m\u001b[1;33m,\u001b[0m\u001b[1;33m\u001b[0m\u001b[1;33m\u001b[0m\u001b[0m\n",
      "\u001b[1;32mc:\\Users\\jean-\\anaconda3\\lib\\site-packages\\pygam\\terms.py\u001b[0m in \u001b[0;36m__init__\u001b[1;34m(self, feature, n_splines, spline_order, lam, penalties, constraints, dtype, basis, by, edge_knots, verbose)\u001b[0m\n\u001b[0;32m    736\u001b[0m             \u001b[0mself\u001b[0m\u001b[1;33m.\u001b[0m\u001b[0medge_knots_\u001b[0m \u001b[1;33m=\u001b[0m \u001b[0medge_knots\u001b[0m\u001b[1;33m\u001b[0m\u001b[1;33m\u001b[0m\u001b[0m\n\u001b[0;32m    737\u001b[0m \u001b[1;33m\u001b[0m\u001b[0m\n\u001b[1;32m--> 738\u001b[1;33m         super(SplineTerm, self).__init__(\n\u001b[0m\u001b[0;32m    739\u001b[0m             \u001b[0mfeature\u001b[0m\u001b[1;33m=\u001b[0m\u001b[0mfeature\u001b[0m\u001b[1;33m,\u001b[0m\u001b[1;33m\u001b[0m\u001b[1;33m\u001b[0m\u001b[0m\n\u001b[0;32m    740\u001b[0m             \u001b[0mlam\u001b[0m\u001b[1;33m=\u001b[0m\u001b[0mlam\u001b[0m\u001b[1;33m,\u001b[0m\u001b[1;33m\u001b[0m\u001b[1;33m\u001b[0m\u001b[0m\n",
      "\u001b[1;32mc:\\Users\\jean-\\anaconda3\\lib\\site-packages\\pygam\\terms.py\u001b[0m in \u001b[0;36m__init__\u001b[1;34m(self, feature, lam, dtype, fit_linear, fit_splines, penalties, constraints, verbose)\u001b[0m\n\u001b[0;32m    112\u001b[0m \u001b[1;33m\u001b[0m\u001b[0m\n\u001b[0;32m    113\u001b[0m         \u001b[0msuper\u001b[0m\u001b[1;33m(\u001b[0m\u001b[0mTerm\u001b[0m\u001b[1;33m,\u001b[0m \u001b[0mself\u001b[0m\u001b[1;33m)\u001b[0m\u001b[1;33m.\u001b[0m\u001b[0m__init__\u001b[0m\u001b[1;33m(\u001b[0m\u001b[0mname\u001b[0m\u001b[1;33m=\u001b[0m\u001b[0mself\u001b[0m\u001b[1;33m.\u001b[0m\u001b[0m_name\u001b[0m\u001b[1;33m)\u001b[0m\u001b[1;33m\u001b[0m\u001b[1;33m\u001b[0m\u001b[0m\n\u001b[1;32m--> 114\u001b[1;33m         \u001b[0mself\u001b[0m\u001b[1;33m.\u001b[0m\u001b[0m_validate_arguments\u001b[0m\u001b[1;33m(\u001b[0m\u001b[1;33m)\u001b[0m\u001b[1;33m\u001b[0m\u001b[1;33m\u001b[0m\u001b[0m\n\u001b[0m\u001b[0;32m    115\u001b[0m \u001b[1;33m\u001b[0m\u001b[0m\n\u001b[0;32m    116\u001b[0m     \u001b[1;32mdef\u001b[0m \u001b[0m__len__\u001b[0m\u001b[1;33m(\u001b[0m\u001b[0mself\u001b[0m\u001b[1;33m)\u001b[0m\u001b[1;33m:\u001b[0m\u001b[1;33m\u001b[0m\u001b[1;33m\u001b[0m\u001b[0m\n",
      "\u001b[1;32mc:\\Users\\jean-\\anaconda3\\lib\\site-packages\\pygam\\terms.py\u001b[0m in \u001b[0;36m_validate_arguments\u001b[1;34m(self)\u001b[0m\n\u001b[0;32m    780\u001b[0m         \u001b[1;31m# n_splines + spline_order\u001b[0m\u001b[1;33m\u001b[0m\u001b[1;33m\u001b[0m\u001b[0m\n\u001b[0;32m    781\u001b[0m         \u001b[1;32mif\u001b[0m \u001b[1;32mnot\u001b[0m \u001b[0mself\u001b[0m\u001b[1;33m.\u001b[0m\u001b[0mn_splines\u001b[0m \u001b[1;33m>\u001b[0m \u001b[0mself\u001b[0m\u001b[1;33m.\u001b[0m\u001b[0mspline_order\u001b[0m\u001b[1;33m:\u001b[0m\u001b[1;33m\u001b[0m\u001b[1;33m\u001b[0m\u001b[0m\n\u001b[1;32m--> 782\u001b[1;33m             raise ValueError(\n\u001b[0m\u001b[0;32m    783\u001b[0m                 \u001b[1;34m'n_splines must be > spline_order. '\u001b[0m\u001b[1;33m\u001b[0m\u001b[1;33m\u001b[0m\u001b[0m\n\u001b[0;32m    784\u001b[0m                 'found: n_splines = {} and spline_order = {}'.format(\n",
      "\u001b[1;31mValueError\u001b[0m: n_splines must be > spline_order. found: n_splines = 1 and spline_order = 3"
     ]
    }
   ],
   "source": [
    "best_score = float('-inf')\n",
    "best_num_splines = None\n",
    "\n",
    "for num_splines in range(1, 11):  \n",
    "    gam = LinearGAM(s(0, n_splines=num_splines))\n",
    "    scores = cross_val_score(gam, X.reshape(-1, 1), Y, cv=5, scoring='r2')\n",
    "    avg_score = np.mean(scores)\n",
    "\n",
    "    if avg_score > best_score:\n",
    "        best_score = avg_score\n",
    "        best_num_splines = num_splines\n",
    "\n",
    "print(\"Nombre optimal de splines:\", best_num_splines)\n",
    "\n",
    "# Utilisation du nombre optimal pour ajuster une régression segmentée\n",
    "segmented_gam = LinearGAM(s(0, n_splines=best_num_splines)).fit(X.reshape(-1, 1), Y)\n",
    "\n",
    "# Tracé des données et de la régression segmentée\n",
    "import matplotlib.pyplot as plt\n",
    "\n",
    "plt.scatter(X, Y, label='Données')\n",
    "plt.plot(X, segmented_gam.predict(X.reshape(-1, 1)), label='Régression Segmentée', color='red')\n",
    "plt.xlabel('X')\n",
    "plt.ylabel('Y')\n",
    "plt.legend()\n",
    "plt.show()"
   ]
  }
 ],
 "metadata": {
  "kernelspec": {
   "display_name": "base",
   "language": "python",
   "name": "python3"
  },
  "language_info": {
   "codemirror_mode": {
    "name": "ipython",
    "version": 3
   },
   "file_extension": ".py",
   "mimetype": "text/x-python",
   "name": "python",
   "nbconvert_exporter": "python",
   "pygments_lexer": "ipython3",
   "version": "3.9.7"
  }
 },
 "nbformat": 4,
 "nbformat_minor": 2
}
