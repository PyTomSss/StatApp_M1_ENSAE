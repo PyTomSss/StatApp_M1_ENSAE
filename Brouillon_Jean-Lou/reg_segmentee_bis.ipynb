{
 "cells": [
  {
   "cell_type": "code",
   "execution_count": null,
   "metadata": {},
   "outputs": [],
   "source": [
    "pip install ruptures"
   ]
  },
  {
   "cell_type": "code",
   "execution_count": null,
   "metadata": {},
   "outputs": [],
   "source": [
    "import numpy as np\n",
    "import pandas as pd\n",
    "import ruptures as rpt\n",
    "import matplotlib.pyplot as plt\n",
    "import statsmodels.api as sm"
   ]
  },
  {
   "cell_type": "code",
   "execution_count": null,
   "metadata": {},
   "outputs": [],
   "source": [
    "nb_actifs = 20\n",
    "nb_dates = 256 * 5\n",
    "\n",
    "idx = pd.Index(np.arange(nb_actifs))\n",
    "\n",
    "mu = pd.Series(0.05,index=idx)\n",
    "vols = pd.Series(0.2,index=idx)\n",
    "correl = 0.7\n",
    "\n",
    "covar = np.diag(vols) @ pd.DataFrame(correl * np.ones((nb_actifs,nb_actifs)) + (1-correl) * np.eye(nb_actifs),index=idx,columns=idx) @ np.diag(vols)\n",
    "A = np.linalg.cholesky(covar)\n",
    "\n",
    "rdts_observes = mu/256 + pd.DataFrame(np.random.randn(nb_dates,nb_actifs)) @ A.T / 16\n"
   ]
  },
  {
   "cell_type": "code",
   "execution_count": null,
   "metadata": {},
   "outputs": [],
   "source": [
    "X=rdts_observes\n",
    "y=np.ones(nb_dates)"
   ]
  },
  {
   "cell_type": "code",
   "execution_count": null,
   "metadata": {},
   "outputs": [],
   "source": [
    "question : les points de rupture devraient-ils etre : rdt en fonction d'actif ? ou autre chose ?"
   ]
  },
  {
   "cell_type": "code",
   "execution_count": null,
   "metadata": {},
   "outputs": [],
   "source": [
    "model = \"l1\"  \n",
    "X_array = np.array(X)\n",
    "algo = rpt.Dynp(model=model, min_size=5, jump=5).fit(X_array.T)\n",
    "result = algo.predict(n_bkps=1)\n",
    "print(result)\n",
    "#ca renvoie des points de rupture au niveau de l'actif 15 et de l'actif 20 ??? ou au niveau de la date 15 et de la date 20 ?\n",
    "#-> a priori, ça renvoie points de rupture au niveau des actif 15 et 20 (donc un seul point de rupture en fait)\n",
    "# bizarre: quand on teste le code plein de fois, les points de rupture sont uniquement 5 ou 15 ou 20 "
   ]
  },
  {
   "cell_type": "code",
   "execution_count": null,
   "metadata": {},
   "outputs": [],
   "source": [
    "segments = np.split(y, result)\n",
    "print(segments)\n",
    "\n",
    "\n",
    "models = []\n",
    "for i, segment in enumerate(segments):\n",
    "    X_segment = np.arange(len(segment))\n",
    "    model = sm.OLS(segment, X_segment).fit()\n",
    "    models.append(model)\n",
    "\n",
    "\n",
    "# Prédire les valeurs pour chaque segment\n",
    "predicted_values = np.concatenate([model.predict(X_segment) for model, X_segment in zip(models, [np.arange(len(segment)) for segment in segments])])\n",
    "print(predicted_values)\n",
    "print(len(predicted_values))\n",
    "\n",
    "plt.plot(X, y, label='Données')\n",
    "plt.plot(X, predicted_values, label='Régression segmentée', linestyle='dashed', color='red')\n",
    "plt.scatter(result, [y[idx] for idx in breakpoints], color='red', marker='x', label='Points de rupture')\n",
    "plt.title('Régression segmentée sans intercept avec points de rupture')\n",
    "plt.legend()\n",
    "plt.show()"
   ]
  }
 ],
 "metadata": {
  "language_info": {
   "name": "python"
  }
 },
 "nbformat": 4,
 "nbformat_minor": 2
}
