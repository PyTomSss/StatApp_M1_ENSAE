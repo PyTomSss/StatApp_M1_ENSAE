{
 "cells": [
  {
   "cell_type": "code",
   "execution_count": 2,
   "metadata": {},
   "outputs": [],
   "source": [
    "from prediction_sharpe_py import prediction_sharpe"
   ]
  },
  {
   "cell_type": "code",
   "execution_count": 3,
   "metadata": {},
   "outputs": [],
   "source": [
    "from pour_faire_jolis_graphiques import pour_faire_jolis_graphiques"
   ]
  },
  {
   "cell_type": "code",
   "execution_count": 4,
   "metadata": {},
   "outputs": [],
   "source": [
    "from creation_excel_1000_matrices import creer_excel_matrices_correl_varie "
   ]
  },
  {
   "cell_type": "code",
   "execution_count": 5,
   "metadata": {},
   "outputs": [],
   "source": [
    "nb_signals = 100\n",
    "nb_dates_in_sample = 1300\n",
    "nb_dates_out_sample = 260\n",
    "nb_assets = 80\n",
    "\n",
    "vol_assets = 0.2/16\n",
    "correl_assets = 0.8\n",
    "\n",
    "# vol_signals = 1.0\n",
    "# correl_signals = 0.0\n",
    "\n",
    "vol_signals = 0.2/16\n",
    "correl_signals = 0.8\n",
    "\n",
    "signal_to_noise = 0.001   # la relation entre rendements X et signaux Y n'est pas parfaitement proportionnelle à cause de ça ?\n",
    "\n",
    "rank_betas = 5"
   ]
  },
  {
   "cell_type": "code",
   "execution_count": 34,
   "metadata": {},
   "outputs": [
    {
     "ename": "SyntaxError",
     "evalue": "invalid syntax (Temp/ipykernel_17148/3047422195.py, line 1)",
     "output_type": "error",
     "traceback": [
      "\u001b[1;36m  File \u001b[1;32m\"C:\\Users\\jean-\\AppData\\Local\\Temp/ipykernel_17148/3047422195.py\"\u001b[1;36m, line \u001b[1;32m1\u001b[0m\n\u001b[1;33m    liste_matrice_correl_0_1_pas_de_0.05 = creer_excel_matrices_correl_varie(\u001b[0m\n\u001b[1;37m                                     ^\u001b[0m\n\u001b[1;31mSyntaxError\u001b[0m\u001b[1;31m:\u001b[0m invalid syntax\n"
     ]
    }
   ],
   "source": [
    "liste_matrice_correl_actifs_0_1_pas_de_0.05 = creer_excel_matrices_correl_varie(\n",
    "                                          min_abscisse=0.1,\n",
    "                                          max_abscisse=1,\n",
    "                                          pas=0.1,\n",
    "                                          nb_simus=3,\n",
    "                                          nb_signals=100,\n",
    "                                        nb_dates_in_sample=1300,\n",
    "                                        nb_dates_out_sample=256,\n",
    "                                        nb_assets=20,\n",
    "                                        vol_assets=0.2/16,\n",
    "                                      correl_assets=0.8,\n",
    "                                      vol_signals=0.2/16,\n",
    "                                      correl_signals=0.8,\n",
    "                                      signal_to_noise=0.001,\n",
    "                                      rank_betas=5)\n",
    "\n"
   ]
  },
  {
   "cell_type": "code",
   "execution_count": 33,
   "metadata": {},
   "outputs": [],
   "source": [
    "# Enregistrer cette liste dans un fichier Python\n",
    "with open(\"ma_liste.py\", \"w\") as f:\n",
    "    f.write(\"ma_liste = \" + str(liste))\n"
   ]
  },
  {
   "cell_type": "code",
   "execution_count": 5,
   "metadata": {},
   "outputs": [
    {
     "name": "stdout",
     "output_type": "stream",
     "text": [
      "0.1\n",
      "0.2\n",
      "0.30000000000000004\n",
      "0.4\n",
      "0.5\n",
      "0.6\n",
      "0.7000000000000001\n",
      "0.8\n",
      "0.9\n",
      "Le temps d'exécution est de 1.56 secondes.\n",
      "[0.1 0.2 0.3 0.4 0.5 0.6 0.7 0.8 0.9] [1.082903191287293, 1.2101394280288464, 1.3537175746065233, 1.5064192171573698, 1.6425946856727875, 1.7231514914733876, 1.694263026731278, 1.4964412647906158, 1.0800804550226544] [2.4122104227257473, 2.5549455469271027, 2.7181384412351113, 2.916591796603885, 3.1658158158916727, 3.4897028043675427, 3.9311577471861137, 4.57880961447432, 5.657695303195369]\n"
     ]
    }
   ],
   "source": [
    "x,y,z=pour_faire_jolis_graphiques(modele=Ridge(fit_intercept=False), \n",
    "                 parametre_en_abscisse='correl_actifs', \n",
    "                 min_abscisse=0.1, \n",
    "                 max_abscisse=1,\n",
    "                 pas=0.1, \n",
    "                 nb_simus=1,\n",
    "                 nb_signals=100,\n",
    "                 nb_dates_in_sample=1300,\n",
    "                 nb_dates_out_sample=260,\n",
    "                 nb_assets=20,\n",
    "                 vol_assets=0.2/16,\n",
    "                 correl_assets=0.8,\n",
    "                 vol_signals=0.2/16,\n",
    "                 correl_signals=0.8,\n",
    "                 signal_to_noise=0.001,\n",
    "                 rank_betas=5)\n",
    "\n",
    "print(x,y,z)"
   ]
  },
  {
   "cell_type": "code",
   "execution_count": 4,
   "metadata": {},
   "outputs": [],
   "source": [
    "from sklearn.linear_model import LinearRegression\n",
    "from sklearn.linear_model import Ridge \n",
    "from sklearn.linear_model import Lasso"
   ]
  },
  {
   "cell_type": "code",
   "execution_count": null,
   "metadata": {},
   "outputs": [],
   "source": []
  }
 ],
 "metadata": {
  "kernelspec": {
   "display_name": "base",
   "language": "python",
   "name": "python3"
  },
  "language_info": {
   "codemirror_mode": {
    "name": "ipython",
    "version": 3
   },
   "file_extension": ".py",
   "mimetype": "text/x-python",
   "name": "python",
   "nbconvert_exporter": "python",
   "pygments_lexer": "ipython3",
   "version": "3.9.7"
  }
 },
 "nbformat": 4,
 "nbformat_minor": 2
}
