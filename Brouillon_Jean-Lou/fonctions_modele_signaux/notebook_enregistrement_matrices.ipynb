{
 "cells": [
  {
   "cell_type": "code",
   "execution_count": 2,
   "metadata": {},
   "outputs": [],
   "source": [
    "from creation_excel_1000_matrices import creer_excel_matrices_correl_varie"
   ]
  },
  {
   "cell_type": "code",
   "execution_count": 3,
   "metadata": {},
   "outputs": [],
   "source": [
    "import pickle"
   ]
  },
  {
   "cell_type": "code",
   "execution_count": 4,
   "metadata": {},
   "outputs": [],
   "source": [
    "#pour mémoire, paramètres initiaux du notebook de Philippe\n",
    "\n",
    "nb_signals = 100\n",
    "nb_dates_in_sample = 1300\n",
    "nb_dates_out_sample = 260\n",
    "nb_assets = 80\n",
    "\n",
    "vol_assets = 0.2/16\n",
    "correl_assets = 0.8\n",
    "\n",
    "# vol_signals = 1.0\n",
    "# correl_signals = 0.0\n",
    "\n",
    "vol_signals = 0.2/16\n",
    "correl_signals = 0.8\n",
    "\n",
    "signal_to_noise = 0.001   # la relation entre rendements X et signaux Y n'est pas parfaitement proportionnelle à cause de ça ?\n",
    "\n",
    "rank_betas = 5"
   ]
  },
  {
   "cell_type": "code",
   "execution_count": 5,
   "metadata": {},
   "outputs": [],
   "source": [
    "liste_matrice_correl_actifs_0_1 = creer_excel_matrices_correl_varie(\n",
    "                                          min_abscisse=0.1,\n",
    "                                          max_abscisse=1,\n",
    "                                          pas=0.05,\n",
    "                                          nb_simus=1000,\n",
    "                                          nb_signals=100,\n",
    "                                        nb_dates_in_sample=1300,\n",
    "                                        nb_dates_out_sample=256,\n",
    "                                        nb_assets=20,\n",
    "                                        vol_assets=0.2/16,\n",
    "                                      correl_assets=0.8,\n",
    "                                      vol_signals=0.2/16,\n",
    "                                      correl_signals=0.8,\n",
    "                                      signal_to_noise=0.001,\n",
    "                                      rank_betas=5)\n",
    "\n",
    "with open(\"liste_matrices.pkl\", \"wb\") as f:\n",
    "    pickle.dump(liste_matrice_correl_actifs_0_1, f)"
   ]
  },
  {
   "cell_type": "code",
   "execution_count": null,
   "metadata": {},
   "outputs": [],
   "source": [
    "\n"
   ]
  }
 ],
 "metadata": {
  "kernelspec": {
   "display_name": "base",
   "language": "python",
   "name": "python3"
  },
  "language_info": {
   "codemirror_mode": {
    "name": "ipython",
    "version": 3
   },
   "file_extension": ".py",
   "mimetype": "text/x-python",
   "name": "python",
   "nbconvert_exporter": "python",
   "pygments_lexer": "ipython3",
   "version": "3.9.7"
  }
 },
 "nbformat": 4,
 "nbformat_minor": 2
}
