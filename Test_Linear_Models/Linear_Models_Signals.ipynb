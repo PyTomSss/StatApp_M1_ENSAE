{
 "cells": [
  {
   "cell_type": "markdown",
   "metadata": {},
   "source": [
    "# Caractérisation de l'overfitting de différents modèles linéaires dans le cadre d'un modèle sans signaux\n",
    "\n",
    "On fait la même chose que sans les signaux mais avec les signaux -> nouvelles problématiques assez croustillantes ;-):-("
   ]
  },
  {
   "cell_type": "code",
   "execution_count": null,
   "metadata": {},
   "outputs": [],
   "source": [
    "#Import des packages utiles \n",
    "import pandas as pd\n",
    "import numpy as np\n",
    "import matplotlib.pyplot as plt\n",
    "\n",
    "#Import des fonctions \"outils\"\n",
    "from Test_ToolsFunctions_Signals import rdt_matrix_generator\n",
    "\n",
    "#Import des modèles linéaires\n",
    "from sklearn.linear_model import LinearRegression\n",
    "from sklearn.linear_model import LassoCV #Cross-validation intégrée\n",
    "from sklearn.linear_model import RidgeCV #Cross-validation intégrée\n",
    "from sklearn.linear_model import Lasso\n",
    "from sklearn.linear_model import Lars"
   ]
  }
 ],
 "metadata": {
  "language_info": {
   "name": "python"
  }
 },
 "nbformat": 4,
 "nbformat_minor": 2
}
