{
 "cells": [
  {
   "cell_type": "code",
   "execution_count": 1,
   "metadata": {},
   "outputs": [],
   "source": [
    "import pandas as pd\n",
    "import numpy as np\n",
    "import matplotlib.pyplot as plt\n",
    "%matplotlib inline"
   ]
  },
  {
   "cell_type": "markdown",
   "metadata": {},
   "source": [
    "# Notebook Projet de Statistique Appliquée\n",
    "\n",
    "Ce notebook est le support sur lequel est fondé notre analyse de la problématique : \"Caractérisation du risque d'overfitting dans les modèles de prédictions de performances des actifs financiers\". \n",
    "\n",
    "Il suit le même plan que le document de référence qui expose le fruit de nos recherches. \n",
    "\n",
    "# II/ Motivation du projet \n",
    "\n",
    "## II/A/ Inefficience du portefeuille obtenu selon le mod`ele de Markovitz"
   ]
  },
  {
   "cell_type": "code",
   "execution_count": null,
   "metadata": {},
   "outputs": [],
   "source": []
  }
 ],
 "metadata": {
  "kernelspec": {
   "display_name": "base",
   "language": "python",
   "name": "python3"
  },
  "language_info": {
   "codemirror_mode": {
    "name": "ipython",
    "version": 3
   },
   "file_extension": ".py",
   "mimetype": "text/x-python",
   "name": "python",
   "nbconvert_exporter": "python",
   "pygments_lexer": "ipython3",
   "version": "3.9.7"
  }
 },
 "nbformat": 4,
 "nbformat_minor": 2
}
