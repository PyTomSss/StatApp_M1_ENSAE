{
 "cells": [
  {
   "cell_type": "code",
   "execution_count": 1,
   "id": "ba633532-f1b2-4663-9100-24dcc05c9053",
   "metadata": {},
   "outputs": [],
   "source": [
    "import pandas as pd\n",
    "import numpy as np\n",
    "import matplotlib.pyplot as plt\n",
    "%matplotlib inline"
   ]
  },
  {
   "cell_type": "markdown",
   "id": "b9e877bf",
   "metadata": {},
   "source": [
    "# Modele simple"
   ]
  },
  {
   "cell_type": "code",
   "execution_count": 5,
   "id": "14d21b8b-8233-45a9-8b76-bccdd3bd5414",
   "metadata": {},
   "outputs": [],
   "source": [
    "nb_actifs = 20\n",
    "nb_dates = 256 * 5\n",
    "\n",
    "idx = pd.Index(np.arange(nb_actifs))\n",
    "\n",
    "mu = pd.Series(0.05,index=idx) # crée une série avec à gauche les indices (de 0 à 19) et à droite de chaque indice, mu\n",
    "vols = pd.Series(0.2,index=idx) # idem\n",
    "correl = 0.7\n",
    "\n",
    "covar = np.diag(vols) @ pd.DataFrame(correl * np.ones((nb_actifs,nb_actifs)) + (1-correl) * np.eye(nb_actifs),index=idx,columns=idx) @ np.diag(vols)\n",
    "A = np.linalg.cholesky(covar)\n",
    "\n",
    "rdts_observes = mu/256 + pd.DataFrame(np.random.randn(nb_dates,nb_actifs)) @ A.T / 16"
   ]
  },
  {
   "cell_type": "code",
   "execution_count": 6,
   "id": "a2c3864a",
   "metadata": {},
   "outputs": [
    {
     "data": {
      "text/html": [
       "<div>\n",
       "<style scoped>\n",
       "    .dataframe tbody tr th:only-of-type {\n",
       "        vertical-align: middle;\n",
       "    }\n",
       "\n",
       "    .dataframe tbody tr th {\n",
       "        vertical-align: top;\n",
       "    }\n",
       "\n",
       "    .dataframe thead th {\n",
       "        text-align: right;\n",
       "    }\n",
       "</style>\n",
       "<table border=\"1\" class=\"dataframe\">\n",
       "  <thead>\n",
       "    <tr style=\"text-align: right;\">\n",
       "      <th></th>\n",
       "      <th>0</th>\n",
       "      <th>1</th>\n",
       "      <th>2</th>\n",
       "      <th>3</th>\n",
       "      <th>4</th>\n",
       "      <th>5</th>\n",
       "      <th>6</th>\n",
       "      <th>7</th>\n",
       "      <th>8</th>\n",
       "      <th>9</th>\n",
       "      <th>10</th>\n",
       "      <th>11</th>\n",
       "      <th>12</th>\n",
       "      <th>13</th>\n",
       "      <th>14</th>\n",
       "      <th>15</th>\n",
       "      <th>16</th>\n",
       "      <th>17</th>\n",
       "      <th>18</th>\n",
       "      <th>19</th>\n",
       "    </tr>\n",
       "  </thead>\n",
       "  <tbody>\n",
       "    <tr>\n",
       "      <th>0</th>\n",
       "      <td>0.004940</td>\n",
       "      <td>0.004501</td>\n",
       "      <td>0.024176</td>\n",
       "      <td>-0.000341</td>\n",
       "      <td>0.007564</td>\n",
       "      <td>0.004084</td>\n",
       "      <td>0.000449</td>\n",
       "      <td>0.006794</td>\n",
       "      <td>0.012107</td>\n",
       "      <td>-0.000625</td>\n",
       "      <td>-0.006124</td>\n",
       "      <td>0.008199</td>\n",
       "      <td>0.003634</td>\n",
       "      <td>0.016764</td>\n",
       "      <td>0.006057</td>\n",
       "      <td>-0.005676</td>\n",
       "      <td>0.009685</td>\n",
       "      <td>0.005594</td>\n",
       "      <td>0.003428</td>\n",
       "      <td>0.012385</td>\n",
       "    </tr>\n",
       "    <tr>\n",
       "      <th>1</th>\n",
       "      <td>-0.013071</td>\n",
       "      <td>-0.013351</td>\n",
       "      <td>0.006397</td>\n",
       "      <td>0.000663</td>\n",
       "      <td>-0.002158</td>\n",
       "      <td>-0.007888</td>\n",
       "      <td>0.010947</td>\n",
       "      <td>0.002564</td>\n",
       "      <td>0.002934</td>\n",
       "      <td>0.002472</td>\n",
       "      <td>-0.002635</td>\n",
       "      <td>-0.003270</td>\n",
       "      <td>-0.007276</td>\n",
       "      <td>0.002508</td>\n",
       "      <td>0.011254</td>\n",
       "      <td>-0.003512</td>\n",
       "      <td>-0.000708</td>\n",
       "      <td>0.007001</td>\n",
       "      <td>-0.013498</td>\n",
       "      <td>0.014384</td>\n",
       "    </tr>\n",
       "    <tr>\n",
       "      <th>2</th>\n",
       "      <td>0.011067</td>\n",
       "      <td>0.002961</td>\n",
       "      <td>-0.000242</td>\n",
       "      <td>0.002710</td>\n",
       "      <td>0.008997</td>\n",
       "      <td>0.020063</td>\n",
       "      <td>0.011426</td>\n",
       "      <td>0.002579</td>\n",
       "      <td>-0.000205</td>\n",
       "      <td>0.014991</td>\n",
       "      <td>0.010560</td>\n",
       "      <td>0.012994</td>\n",
       "      <td>0.021100</td>\n",
       "      <td>0.015587</td>\n",
       "      <td>0.007587</td>\n",
       "      <td>0.003859</td>\n",
       "      <td>0.008007</td>\n",
       "      <td>0.010516</td>\n",
       "      <td>0.006604</td>\n",
       "      <td>0.009654</td>\n",
       "    </tr>\n",
       "    <tr>\n",
       "      <th>3</th>\n",
       "      <td>0.017431</td>\n",
       "      <td>0.010061</td>\n",
       "      <td>0.011734</td>\n",
       "      <td>0.007441</td>\n",
       "      <td>0.009491</td>\n",
       "      <td>0.010133</td>\n",
       "      <td>0.011461</td>\n",
       "      <td>0.012687</td>\n",
       "      <td>0.006366</td>\n",
       "      <td>0.018970</td>\n",
       "      <td>0.011260</td>\n",
       "      <td>0.025453</td>\n",
       "      <td>0.015899</td>\n",
       "      <td>0.009428</td>\n",
       "      <td>0.022944</td>\n",
       "      <td>0.015787</td>\n",
       "      <td>0.008180</td>\n",
       "      <td>0.024040</td>\n",
       "      <td>0.009566</td>\n",
       "      <td>0.017719</td>\n",
       "    </tr>\n",
       "    <tr>\n",
       "      <th>4</th>\n",
       "      <td>-0.019404</td>\n",
       "      <td>-0.030560</td>\n",
       "      <td>-0.029732</td>\n",
       "      <td>-0.019232</td>\n",
       "      <td>-0.018648</td>\n",
       "      <td>-0.014412</td>\n",
       "      <td>-0.019179</td>\n",
       "      <td>-0.022010</td>\n",
       "      <td>-0.016246</td>\n",
       "      <td>-0.016908</td>\n",
       "      <td>-0.012330</td>\n",
       "      <td>-0.023787</td>\n",
       "      <td>-0.021969</td>\n",
       "      <td>-0.034310</td>\n",
       "      <td>-0.019802</td>\n",
       "      <td>-0.021133</td>\n",
       "      <td>-0.004999</td>\n",
       "      <td>-0.010381</td>\n",
       "      <td>-0.006699</td>\n",
       "      <td>-0.003078</td>\n",
       "    </tr>\n",
       "    <tr>\n",
       "      <th>...</th>\n",
       "      <td>...</td>\n",
       "      <td>...</td>\n",
       "      <td>...</td>\n",
       "      <td>...</td>\n",
       "      <td>...</td>\n",
       "      <td>...</td>\n",
       "      <td>...</td>\n",
       "      <td>...</td>\n",
       "      <td>...</td>\n",
       "      <td>...</td>\n",
       "      <td>...</td>\n",
       "      <td>...</td>\n",
       "      <td>...</td>\n",
       "      <td>...</td>\n",
       "      <td>...</td>\n",
       "      <td>...</td>\n",
       "      <td>...</td>\n",
       "      <td>...</td>\n",
       "      <td>...</td>\n",
       "      <td>...</td>\n",
       "    </tr>\n",
       "    <tr>\n",
       "      <th>1275</th>\n",
       "      <td>-0.005658</td>\n",
       "      <td>-0.013301</td>\n",
       "      <td>0.000122</td>\n",
       "      <td>-0.006373</td>\n",
       "      <td>-0.007362</td>\n",
       "      <td>-0.003831</td>\n",
       "      <td>0.000824</td>\n",
       "      <td>0.008318</td>\n",
       "      <td>-0.003980</td>\n",
       "      <td>0.008372</td>\n",
       "      <td>0.001266</td>\n",
       "      <td>-0.001004</td>\n",
       "      <td>-0.000874</td>\n",
       "      <td>-0.008355</td>\n",
       "      <td>-0.007870</td>\n",
       "      <td>-0.008050</td>\n",
       "      <td>0.000941</td>\n",
       "      <td>-0.018498</td>\n",
       "      <td>-0.004485</td>\n",
       "      <td>0.005943</td>\n",
       "    </tr>\n",
       "    <tr>\n",
       "      <th>1276</th>\n",
       "      <td>-0.004164</td>\n",
       "      <td>-0.008957</td>\n",
       "      <td>0.005782</td>\n",
       "      <td>0.003894</td>\n",
       "      <td>-0.013039</td>\n",
       "      <td>0.008476</td>\n",
       "      <td>-0.005919</td>\n",
       "      <td>0.005521</td>\n",
       "      <td>-0.010513</td>\n",
       "      <td>-0.015090</td>\n",
       "      <td>-0.008970</td>\n",
       "      <td>-0.012286</td>\n",
       "      <td>0.012550</td>\n",
       "      <td>-0.003241</td>\n",
       "      <td>0.006712</td>\n",
       "      <td>-0.002222</td>\n",
       "      <td>-0.000021</td>\n",
       "      <td>-0.001964</td>\n",
       "      <td>0.007835</td>\n",
       "      <td>-0.002622</td>\n",
       "    </tr>\n",
       "    <tr>\n",
       "      <th>1277</th>\n",
       "      <td>-0.006548</td>\n",
       "      <td>0.001884</td>\n",
       "      <td>-0.003463</td>\n",
       "      <td>-0.007257</td>\n",
       "      <td>0.012962</td>\n",
       "      <td>0.002839</td>\n",
       "      <td>-0.007782</td>\n",
       "      <td>-0.022583</td>\n",
       "      <td>-0.013618</td>\n",
       "      <td>-0.012700</td>\n",
       "      <td>-0.009349</td>\n",
       "      <td>-0.001148</td>\n",
       "      <td>-0.000932</td>\n",
       "      <td>0.000366</td>\n",
       "      <td>-0.004410</td>\n",
       "      <td>0.008761</td>\n",
       "      <td>-0.000155</td>\n",
       "      <td>-0.009196</td>\n",
       "      <td>-0.009111</td>\n",
       "      <td>-0.004776</td>\n",
       "    </tr>\n",
       "    <tr>\n",
       "      <th>1278</th>\n",
       "      <td>0.007090</td>\n",
       "      <td>0.012750</td>\n",
       "      <td>-0.002126</td>\n",
       "      <td>-0.003574</td>\n",
       "      <td>0.005433</td>\n",
       "      <td>0.006506</td>\n",
       "      <td>0.014927</td>\n",
       "      <td>0.014671</td>\n",
       "      <td>0.003081</td>\n",
       "      <td>0.002273</td>\n",
       "      <td>0.010636</td>\n",
       "      <td>0.019439</td>\n",
       "      <td>0.024591</td>\n",
       "      <td>0.007260</td>\n",
       "      <td>0.005871</td>\n",
       "      <td>0.011063</td>\n",
       "      <td>0.008382</td>\n",
       "      <td>0.013005</td>\n",
       "      <td>0.010708</td>\n",
       "      <td>0.007712</td>\n",
       "    </tr>\n",
       "    <tr>\n",
       "      <th>1279</th>\n",
       "      <td>-0.010413</td>\n",
       "      <td>-0.000918</td>\n",
       "      <td>-0.013949</td>\n",
       "      <td>-0.012226</td>\n",
       "      <td>-0.005880</td>\n",
       "      <td>-0.017411</td>\n",
       "      <td>-0.013562</td>\n",
       "      <td>-0.007296</td>\n",
       "      <td>-0.009380</td>\n",
       "      <td>-0.011592</td>\n",
       "      <td>-0.007063</td>\n",
       "      <td>-0.004304</td>\n",
       "      <td>-0.016861</td>\n",
       "      <td>-0.016906</td>\n",
       "      <td>-0.006526</td>\n",
       "      <td>-0.004165</td>\n",
       "      <td>-0.013545</td>\n",
       "      <td>0.001132</td>\n",
       "      <td>-0.015901</td>\n",
       "      <td>-0.006042</td>\n",
       "    </tr>\n",
       "  </tbody>\n",
       "</table>\n",
       "<p>1280 rows × 20 columns</p>\n",
       "</div>"
      ],
      "text/plain": [
       "            0         1         2         3         4         5         6   \\\n",
       "0     0.004940  0.004501  0.024176 -0.000341  0.007564  0.004084  0.000449   \n",
       "1    -0.013071 -0.013351  0.006397  0.000663 -0.002158 -0.007888  0.010947   \n",
       "2     0.011067  0.002961 -0.000242  0.002710  0.008997  0.020063  0.011426   \n",
       "3     0.017431  0.010061  0.011734  0.007441  0.009491  0.010133  0.011461   \n",
       "4    -0.019404 -0.030560 -0.029732 -0.019232 -0.018648 -0.014412 -0.019179   \n",
       "...        ...       ...       ...       ...       ...       ...       ...   \n",
       "1275 -0.005658 -0.013301  0.000122 -0.006373 -0.007362 -0.003831  0.000824   \n",
       "1276 -0.004164 -0.008957  0.005782  0.003894 -0.013039  0.008476 -0.005919   \n",
       "1277 -0.006548  0.001884 -0.003463 -0.007257  0.012962  0.002839 -0.007782   \n",
       "1278  0.007090  0.012750 -0.002126 -0.003574  0.005433  0.006506  0.014927   \n",
       "1279 -0.010413 -0.000918 -0.013949 -0.012226 -0.005880 -0.017411 -0.013562   \n",
       "\n",
       "            7         8         9         10        11        12        13  \\\n",
       "0     0.006794  0.012107 -0.000625 -0.006124  0.008199  0.003634  0.016764   \n",
       "1     0.002564  0.002934  0.002472 -0.002635 -0.003270 -0.007276  0.002508   \n",
       "2     0.002579 -0.000205  0.014991  0.010560  0.012994  0.021100  0.015587   \n",
       "3     0.012687  0.006366  0.018970  0.011260  0.025453  0.015899  0.009428   \n",
       "4    -0.022010 -0.016246 -0.016908 -0.012330 -0.023787 -0.021969 -0.034310   \n",
       "...        ...       ...       ...       ...       ...       ...       ...   \n",
       "1275  0.008318 -0.003980  0.008372  0.001266 -0.001004 -0.000874 -0.008355   \n",
       "1276  0.005521 -0.010513 -0.015090 -0.008970 -0.012286  0.012550 -0.003241   \n",
       "1277 -0.022583 -0.013618 -0.012700 -0.009349 -0.001148 -0.000932  0.000366   \n",
       "1278  0.014671  0.003081  0.002273  0.010636  0.019439  0.024591  0.007260   \n",
       "1279 -0.007296 -0.009380 -0.011592 -0.007063 -0.004304 -0.016861 -0.016906   \n",
       "\n",
       "            14        15        16        17        18        19  \n",
       "0     0.006057 -0.005676  0.009685  0.005594  0.003428  0.012385  \n",
       "1     0.011254 -0.003512 -0.000708  0.007001 -0.013498  0.014384  \n",
       "2     0.007587  0.003859  0.008007  0.010516  0.006604  0.009654  \n",
       "3     0.022944  0.015787  0.008180  0.024040  0.009566  0.017719  \n",
       "4    -0.019802 -0.021133 -0.004999 -0.010381 -0.006699 -0.003078  \n",
       "...        ...       ...       ...       ...       ...       ...  \n",
       "1275 -0.007870 -0.008050  0.000941 -0.018498 -0.004485  0.005943  \n",
       "1276  0.006712 -0.002222 -0.000021 -0.001964  0.007835 -0.002622  \n",
       "1277 -0.004410  0.008761 -0.000155 -0.009196 -0.009111 -0.004776  \n",
       "1278  0.005871  0.011063  0.008382  0.013005  0.010708  0.007712  \n",
       "1279 -0.006526 -0.004165 -0.013545  0.001132 -0.015901 -0.006042  \n",
       "\n",
       "[1280 rows x 20 columns]"
      ]
     },
     "execution_count": 6,
     "metadata": {},
     "output_type": "execute_result"
    }
   ],
   "source": [
    "rdts_observes"
   ]
  },
  {
   "cell_type": "code",
   "execution_count": 80,
   "id": "b12b4a0e-ea1f-4992-9f59-37f377c83f82",
   "metadata": {},
   "outputs": [
    {
     "data": {
      "text/plain": [
       "0     5.242397\n",
       "1     0.223576\n",
       "2     4.915247\n",
       "3     1.151221\n",
       "4    -2.659472\n",
       "5    -1.736594\n",
       "6     2.035782\n",
       "7    -1.045913\n",
       "8     7.411770\n",
       "9    -4.311406\n",
       "10    1.948782\n",
       "11    6.957414\n",
       "12   -3.832388\n",
       "13   -6.045041\n",
       "14   -1.789162\n",
       "15   -6.441429\n",
       "16   -2.317878\n",
       "17    4.043000\n",
       "18   -3.631511\n",
       "19    4.601219\n",
       "dtype: float64"
      ]
     },
     "execution_count": 80,
     "metadata": {},
     "output_type": "execute_result"
    }
   ],
   "source": [
    "mu_estime = rdts_observes.mean() * 256\n",
    "covar_estimee = rdts_observes.cov() * 256\n",
    "alloc_optimale_in_sample = pd.DataFrame(np.linalg.inv(covar_estimee),index=idx,columns=idx) @ mu_estime\n",
    "\n",
    "alloc_optimale_in_sample"
   ]
  },
  {
   "cell_type": "code",
   "execution_count": 83,
   "id": "09c2a14f-980f-4e59-bbb4-6c7d84c3ed15",
   "metadata": {},
   "outputs": [
    {
     "data": {
      "text/plain": [
       "100.00000000000001"
      ]
     },
     "execution_count": 83,
     "metadata": {},
     "output_type": "execute_result"
    }
   ],
   "source": [
    "alloc_optimale_in_sample_reelle = (100/alloc_optimale_in_sample.sum())*alloc_optimale_in_sample\n",
    "\n",
    "alloc_optimale_in_sample_reelle.sum()"
   ]
  },
  {
   "cell_type": "code",
   "execution_count": 84,
   "id": "92a37067-2a51-49b0-90a6-a3c82ef0c0a2",
   "metadata": {},
   "outputs": [
    {
     "name": "stdout",
     "output_type": "stream",
     "text": [
      "Sharpe = 2.1610548092164055\n"
     ]
    },
    {
     "data": {
      "text/plain": [
       "<AxesSubplot:>"
      ]
     },
     "execution_count": 84,
     "metadata": {},
     "output_type": "execute_result"
    },
    {
     "data": {
      "image/png": "[encoded data removed]",
      "text/plain": [
       "<Figure size 432x288 with 1 Axes>"
      ]
     },
     "metadata": {
      "needs_background": "light"
     },
     "output_type": "display_data"
    }
   ],
   "source": [
    "pnl_in_sample = rdts_observes @ alloc_optimale_in_sample_reelle\n",
    "print('Sharpe = ' + str(pnl_in_sample.mean()/pnl_in_sample.std()*16))\n",
    "pnl_in_sample.cumsum().plot()"
   ]
  },
  {
   "cell_type": "code",
   "execution_count": 48,
   "id": "6f81f4ac",
   "metadata": {},
   "outputs": [
    {
     "data": {
      "text/plain": [
       "8.365694234597902"
      ]
     },
     "execution_count": 48,
     "metadata": {},
     "output_type": "execute_result"
    }
   ],
   "source": [
    "u = pnl_in_sample.cumsum()\n",
    "u[400]"
   ]
  },
  {
   "cell_type": "code",
   "execution_count": 94,
   "id": "579d6686",
   "metadata": {},
   "outputs": [
    {
     "data": {
      "image/png": "[encoded data removed]",
      "text/plain": [
       "<Figure size 432x288 with 1 Axes>"
      ]
     },
     "metadata": {
      "needs_background": "light"
     },
     "output_type": "display_data"
    }
   ],
   "source": [
    "pnl_in_sample.cumsum().plot()\n",
    "plt.axis('on')\n",
    "plt.savefig('C:\\\\Users\\\\lecle\\\\Desktop\\\\ENSAE\\\\graphique_principal.png')"
   ]
  },
  {
   "cell_type": "code",
   "execution_count": 35,
   "id": "cfd025b3-20d2-445e-82fc-245c2ff439b3",
   "metadata": {},
   "outputs": [],
   "source": [
    "nb_nouvelles_dates = 256*5"
   ]
  },
  {
   "cell_type": "code",
   "execution_count": 95,
   "id": "6971a865-4e21-4455-8903-37d825c0e2bb",
   "metadata": {},
   "outputs": [
    {
     "name": "stdout",
     "output_type": "stream",
     "text": [
      "Sharpe = -0.29013493583297206\n"
     ]
    },
    {
     "data": {
      "image/png": "[encoded data removed]",
      "text/plain": [
       "<Figure size 432x288 with 1 Axes>"
      ]
     },
     "metadata": {
      "needs_background": "light"
     },
     "output_type": "display_data"
    }
   ],
   "source": [
    "nouveaux_rdts = mu/256 + pd.DataFrame(np.random.randn(nb_nouvelles_dates,nb_actifs)) @ A.T / 16\n",
    "pnl_out_sample = nouveaux_rdts @ alloc_optimale_in_sample_reelle\n",
    "print('Sharpe = ' + str(pnl_out_sample.mean()/pnl_out_sample.std()*16))\n",
    "pnl_out_sample.cumsum().plot()\n",
    "plt.savefig('C:\\\\Users\\\\lecle\\\\Desktop\\\\ENSAE\\\\graphique_principal_2.png')"
   ]
  },
  {
   "cell_type": "code",
   "execution_count": 50,
   "id": "60628c6f-2488-4d77-b366-1c4f0dc4ce1a",
   "metadata": {},
   "outputs": [],
   "source": [
    "nb_simu = 1000\n",
    "pnls_out_sample = pd.DataFrame(mu @ alloc_optimale_in_sample /256 + (np.random.randn(nb_simu,nb_nouvelles_dates,nb_actifs) @ A.T @ alloc_optimale_in_sample.values/ 16)).T"
   ]
  },
  {
   "cell_type": "code",
   "execution_count": 53,
   "id": "21c74e01",
   "metadata": {},
   "outputs": [
    {
     "data": {
      "text/plain": [
       "0      0.002746\n",
       "1     -0.002952\n",
       "2      0.000453\n",
       "3      0.000368\n",
       "4      0.002144\n",
       "         ...   \n",
       "995    0.002122\n",
       "996    0.007276\n",
       "997    0.000866\n",
       "998    0.000137\n",
       "999   -0.001392\n",
       "Length: 1000, dtype: float64"
      ]
     },
     "execution_count": 53,
     "metadata": {},
     "output_type": "execute_result"
    }
   ],
   "source": [
    "pnls_out_sample.mean()"
   ]
  },
  {
   "cell_type": "code",
   "execution_count": 51,
   "id": "3fb6f887-66e4-4725-a8d6-176ea07dc142",
   "metadata": {},
   "outputs": [
    {
     "data": {
      "text/plain": [
       "count    1000.000000\n",
       "mean        0.075632\n",
       "std         0.443139\n",
       "min        -1.267710\n",
       "25%        -0.226848\n",
       "50%         0.075791\n",
       "75%         0.375934\n",
       "max         1.359400\n",
       "dtype: float64"
      ]
     },
     "execution_count": 51,
     "metadata": {},
     "output_type": "execute_result"
    }
   ],
   "source": [
    "sharpes_out_sample = pnls_out_sample.mean() / pnls_out_sample.std() * 16\n",
    "sharpes_out_sample.describe()"
   ]
  },
  {
   "cell_type": "code",
   "execution_count": 93,
   "id": "30647cb1-45b9-45ab-8b05-d7c2d58ea749",
   "metadata": {},
   "outputs": [
    {
     "data": {
      "text/plain": [
       "<matplotlib.collections.PathCollection at 0x1fb5420f100>"
      ]
     },
     "execution_count": 93,
     "metadata": {},
     "output_type": "execute_result"
    },
    {
     "data": {
      "image/png": "[encoded data removed]",
      "text/plain": [
       "<Figure size 432x288 with 1 Axes>"
      ]
     },
     "metadata": {
      "needs_background": "light"
     },
     "output_type": "display_data"
    }
   ],
   "source": [
    "quantiles = sharpes_out_sample.quantile(np.arange(0.01,1.0,0.01)).reset_index().rename({'index':'proba',0:'quantile'},axis=1)\n",
    "plt.scatter(quantiles['quantile'],quantiles['proba'])\n",
    "plt.scatter(quantiles['quantile']*0 + sharpes_out_sample.mean(),quantiles['proba'])\n",
    "plt.scatter(quantiles['quantile']*0 + pnl_in_sample.mean()/pnl_in_sample.std()*16,quantiles['proba'])\n",
    "\n",
    "#plt.savefig('C:\\\\Users\\\\lecle\\\\Desktop\\\\ENSAE\\\\graphique_principal_3.png')"
   ]
  },
  {
   "cell_type": "code",
   "execution_count": 59,
   "id": "a56d1f60-f3bc-4157-8ee5-96e0d4af70c0",
   "metadata": {},
   "outputs": [
    {
     "ename": "NameError",
     "evalue": "name 'quantile' is not defined",
     "output_type": "error",
     "traceback": [
      "\u001b[1;31m---------------------------------------------------------------------------\u001b[0m",
      "\u001b[1;31mNameError\u001b[0m                                 Traceback (most recent call last)",
      "\u001b[1;32m~\\AppData\\Local\\Temp/ipykernel_19060/3904038392.py\u001b[0m in \u001b[0;36m<module>\u001b[1;34m\u001b[0m\n\u001b[1;32m----> 1\u001b[1;33m \u001b[0mquantile\u001b[0m\u001b[1;33m\u001b[0m\u001b[1;33m\u001b[0m\u001b[0m\n\u001b[0m",
      "\u001b[1;31mNameError\u001b[0m: name 'quantile' is not defined"
     ]
    }
   ],
   "source": [
    "quantile"
   ]
  },
  {
   "cell_type": "markdown",
   "id": "cd1c60dd",
   "metadata": {},
   "source": [
    "# Modele plus avance"
   ]
  },
  {
   "cell_type": "code",
   "execution_count": 10,
   "id": "a9f2de20-1944-41d1-8284-8815d64d4388",
   "metadata": {},
   "outputs": [
    {
     "name": "stdout",
     "output_type": "stream",
     "text": [
      "signal to noise = 0.001\n"
     ]
    }
   ],
   "source": [
    "nb_signals = 100\n",
    "nb_dates_in_sample = 1300\n",
    "nb_dates_out_sample = 260\n",
    "nb_assets = 80\n",
    "\n",
    "vol_assets = 0.2/16\n",
    "correl_assets = 0.8\n",
    "\n",
    "# vol_signals = 1.0\n",
    "# correl_signals = 0.0\n",
    "\n",
    "vol_signals = 0.2/16\n",
    "correl_signals = 0.8\n",
    "\n",
    "signal_to_noise = 0.001\n",
    "\n",
    "rank_betas = 5\n",
    "\n",
    "cov_assets = vol_assets**2 * pd.DataFrame(correl_assets * np.ones((nb_assets,nb_assets)) + (1-correl_assets)*np.eye(nb_assets))\n",
    "cov_signals = vol_signals**2 * pd.DataFrame(correl_signals * np.ones((nb_signals,nb_signals)) + (1-correl_signals)*np.eye(nb_signals))\n",
    "\n",
    "betas = pd.DataFrame(np.random.randn(nb_signals,nb_assets))\n",
    "betas *= np.sqrt(signal_to_noise * np.trace(cov_assets) / np.trace(betas.T @ cov_signals @ betas))\n",
    "u,d,v = np.linalg.svd(betas)\n",
    "betas = pd.concat([pd.DataFrame(d[k] * np.outer(u[:,k],v[k,:]),index=betas.index,columns=betas.columns) for k in range(rank_betas)],keys=range(rank_betas)).groupby(level=1).sum()\n",
    "betas *= np.sqrt(signal_to_noise * np.trace(cov_assets) / np.trace(betas.T @ cov_signals @ betas))\n",
    "cov_noise = cov_assets - betas.T @ cov_signals @ betas\n",
    "d,P = np.linalg.eigh(cov_noise)\n",
    "cov_noise = pd.DataFrame(P @ np.diag(np.maximum(d,1e-10)) @ P.T)\n",
    "print('signal to noise = ' + str(np.round(np.trace(betas.T @ cov_signals @ betas) / np.trace(cov_assets),3)))\n",
    "\n",
    "sqrt_cov_assets = np.linalg.cholesky(cov_assets)\n",
    "sqrt_cov_signals = np.linalg.cholesky(cov_signals)\n",
    "sqrt_cov_noise = np.linalg.cholesky(cov_noise)"
   ]
  },
  {
   "cell_type": "code",
   "execution_count": 13,
   "id": "ececd8f9",
   "metadata": {},
   "outputs": [
    {
     "name": "stdout",
     "output_type": "stream",
     "text": [
      "3.374589684610921\n",
      "-0.1950481281126299\n"
     ]
    },
    {
     "data": {
      "text/plain": [
       "<Axes: >"
      ]
     },
     "execution_count": 13,
     "metadata": {},
     "output_type": "execute_result"
    },
    {
     "data": {
      "image/png": "[encoded data removed]",
      "text/plain": [
       "<Figure size 640x480 with 1 Axes>"
      ]
     },
     "metadata": {},
     "output_type": "display_data"
    }
   ],
   "source": [
    "signals = pd.DataFrame(np.random.randn(nb_dates_in_sample,nb_signals) @ sqrt_cov_signals.T)\n",
    "noise = pd.DataFrame(np.random.randn(nb_dates_in_sample,nb_assets) @ sqrt_cov_noise.T)\n",
    "assets = signals @ betas+noise\n",
    "\n",
    "signals_os = pd.DataFrame(np.random.randn(nb_dates_out_sample,nb_signals) @ sqrt_cov_signals.T)\n",
    "noise_os = pd.DataFrame(np.random.randn(nb_dates_out_sample,nb_assets) @ sqrt_cov_noise.T)\n",
    "assets_os = signals_os @ betas+noise_os\n",
    "\n",
    "betas_ols = pd.DataFrame((np.linalg.inv(signals.T @ signals) @ signals.T @ assets).values,index=betas.index,columns=betas.columns)\n",
    "\n",
    "w_theo = signals_os @ betas\n",
    "pnl_theo = (w_theo * assets_os).sum(axis=1)\n",
    "\n",
    "w_ols = signals_os @ betas_ols\n",
    "pnl_ols = (w_ols * assets_os).sum(axis=1)\n",
    "\n",
    "print(pnl_theo.mean()/pnl_theo.std()*16)\n",
    "print(pnl_ols.mean()/pnl_ols.std()*16)\n",
    "\n",
    "pnl_theo.cumsum().plot()\n",
    "pnl_ols.cumsum().plot()"
   ]
  },
  {
   "cell_type": "code",
   "execution_count": 14,
   "id": "8ebcc001",
   "metadata": {},
   "outputs": [],
   "source": [
    "sharpes = {}\n",
    "costs_break_even = {}\n",
    "for i in range(1000):\n",
    "    signals = pd.DataFrame(np.random.randn(nb_dates_in_sample,nb_signals) @ sqrt_cov_signals.T)\n",
    "    noise = pd.DataFrame(np.random.randn(nb_dates_in_sample,nb_assets) @ sqrt_cov_noise.T)\n",
    "    assets = signals @ betas+noise\n",
    "\n",
    "    signals_os = pd.DataFrame(np.random.randn(nb_dates_out_sample,nb_signals) @ sqrt_cov_signals.T)\n",
    "    noise_os = pd.DataFrame(np.random.randn(nb_dates_out_sample,nb_assets) @ sqrt_cov_noise.T)\n",
    "    assets_os = signals_os @ betas+noise_os\n",
    "\n",
    "    betas_ols = pd.DataFrame((np.linalg.inv(signals.T @ signals) @ signals.T @ assets).values,index=betas.index,columns=betas.columns)\n",
    "\n",
    "    w_theo = signals_os @ betas\n",
    "    pnl_theo = (w_theo * assets_os).sum(axis=1)\n",
    "\n",
    "    w_ols = signals_os @ betas_ols\n",
    "    pnl_ols = (w_ols * assets_os).sum(axis=1)\n",
    "\n",
    "    sharpes[('theo',i)] = pnl_theo.mean()/pnl_theo.std()*16\n",
    "    sharpes[('ols',i)] = pnl_ols.mean()/pnl_ols.std()*16\n",
    "\n",
    "sharpes = pd.Series(sharpes).reset_index().rename({'level_0':'method','level_1':'simu',0:'sharpe'},axis=1)"
   ]
  },
  {
   "cell_type": "code",
   "execution_count": 17,
   "id": "cd6273a6",
   "metadata": {},
   "outputs": [],
   "source": [
    "pivot = sharpes.pivot_table(index='simu',columns='method')['sharpe']\n",
    "means = pivot.mean()\n",
    "quantiles = pivot.quantile(np.arange(0.01,1.0,0.01))"
   ]
  },
  {
   "cell_type": "code",
   "execution_count": 18,
   "id": "458b3238",
   "metadata": {},
   "outputs": [
    {
     "data": {
      "text/plain": [
       "Text(0.5, 1.0, 'beta theo')"
      ]
     },
     "execution_count": 18,
     "metadata": {},
     "output_type": "execute_result"
    },
    {
     "data": {
      "image/png": "[encoded data removed]",
      "text/plain": [
       "<Figure size 640x480 with 1 Axes>"
      ]
     },
     "metadata": {},
     "output_type": "display_data"
    }
   ],
   "source": [
    "plt.scatter(quantiles['theo'],quantiles.index)\n",
    "plt.scatter(quantiles['theo']*0+means['theo'],quantiles.index)\n",
    "plt.title('beta theo')"
   ]
  },
  {
   "cell_type": "code",
   "execution_count": 19,
   "id": "fc76415f",
   "metadata": {},
   "outputs": [
    {
     "data": {
      "text/plain": [
       "Text(0.5, 1.0, 'beta ols')"
      ]
     },
     "execution_count": 19,
     "metadata": {},
     "output_type": "execute_result"
    },
    {
     "data": {
      "image/png": "[encoded data removed]",
      "text/plain": [
       "<Figure size 640x480 with 1 Axes>"
      ]
     },
     "metadata": {},
     "output_type": "display_data"
    }
   ],
   "source": [
    "plt.scatter(quantiles['ols'],quantiles.index)\n",
    "plt.scatter(quantiles['ols']*0+means['ols'],quantiles.index)\n",
    "plt.title('beta ols')"
   ]
  }
 ],
 "metadata": {
  "kernelspec": {
   "display_name": "Python 3 (ipykernel)",
   "language": "python",
   "name": "python3"
  },
  "language_info": {
   "codemirror_mode": {
    "name": "ipython",
    "version": 3
   },
   "file_extension": ".py",
   "mimetype": "text/x-python",
   "name": "python",
   "nbconvert_exporter": "python",
   "pygments_lexer": "ipython3",
   "version": "3.9.7"
  }
 },
 "nbformat": 4,
 "nbformat_minor": 5
}
