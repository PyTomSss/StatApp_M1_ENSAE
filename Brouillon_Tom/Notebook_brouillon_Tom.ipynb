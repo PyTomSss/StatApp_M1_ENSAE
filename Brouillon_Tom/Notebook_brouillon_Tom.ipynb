{
 "cells": [
  {
   "cell_type": "code",
   "execution_count": 254,
   "metadata": {},
   "outputs": [],
   "source": [
    "import pandas as pd\n",
    "import numpy as np\n",
    "\n",
    "#Modelisation\n",
    "import matplotlib.pyplot as plt\n",
    "from sklearn.linear_model import LinearRegression\n",
    "from sklearn.metrics import mean_squared_error, mean_absolute_error\n",
    "from sklearn.linear_model import LassoCV\n",
    "from sklearn.linear_model import RidgeCV\n",
    "from sklearn.linear_model import Lasso\n",
    "\n",
    "#Fonction test model\n",
    "from Test_Model import test_model\n",
    "%matplotlib inline"
   ]
  },
  {
   "cell_type": "markdown",
   "metadata": {},
   "source": [
    "# III/ Comparaison de l'erreur de prédiction de différentes méthodes statistiques\n",
    "\n",
    "Jusqu'à maintenant, nous avons démontré que les stratégies d'investissements obtenues à partir de la résolution du problème de Markovitz (équivalent à la résolution d'un problème des moindres carrés => démonstration dans le fichier LaTeX) ne sont pas très convaincantes. Nous allons donc tester plusieurs autres méthodes statistiques de prédiction des rendements futurs et allons mettre en place une métrique commune qui mesure l'erreur de prédiction obtenue. \n",
    "\n"
   ]
  },
  {
   "cell_type": "markdown",
   "metadata": {},
   "source": [
    "Ici on crée l'interface qui nous permet de choisir le nombre d'actifs considéré, le nombre de dates, la vraie loi des rendements"
   ]
  },
  {
   "cell_type": "code",
   "execution_count": 255,
   "metadata": {},
   "outputs": [],
   "source": [
    "nb_actifs = 20\n",
    "nb_dates = 256 * 5\n",
    "\n",
    "idx = pd.Index(np.arange(nb_actifs))\n",
    "idx_date = pd.Index(np.arange(nb_dates))\n",
    "\n",
    "esp_rdt = 0.05\n",
    "vol_rdt = 0.2\n",
    "correl = 0.7\n",
    "seuil_pb_marko = 0.05\n",
    "mu = pd.Series(esp_rdt,index=idx)\n",
    "vols = pd.Series(vol_rdt,index=idx)\n",
    "#Le vecteur constant cible que l'on essayer d'estimer -> chaque composante du vecteur est le rendement du protefeuille optimal tous  les jours\n",
    "allocation_optimale_théorique = pd.Series(esp_rdt, index = idx_date)\n",
    "\n",
    "#Matrice var-covar théorique selon la vraie loi des rendements\n",
    "covar = np.diag(vols) @ pd.DataFrame(correl * np.ones((nb_actifs,nb_actifs)) + (1-correl) * np.eye(nb_actifs),index=idx,columns=idx) @ np.diag(vols)"
   ]
  },
  {
   "cell_type": "code",
   "execution_count": 256,
   "metadata": {},
   "outputs": [],
   "source": [
    "#On simuler un tirage de rendements suivant une loi normale d'espérence Mu et de Var la matrice Covar\n",
    "A = np.linalg.cholesky(covar)\n",
    "rdts_observes = mu/256 + pd.DataFrame(np.random.randn(nb_dates,nb_actifs)) @ A.T / 16"
   ]
  },
  {
   "cell_type": "markdown",
   "metadata": {},
   "source": [
    "Ici on calcule les estimateurs d'espérance et de variance empiriques de la série des observations"
   ]
  },
  {
   "cell_type": "code",
   "execution_count": 257,
   "metadata": {},
   "outputs": [],
   "source": [
    "mu_estime = rdts_observes.mean() * 256\n",
    "covar_estimee = rdts_observes.cov() * 256\n",
    "\n",
    "#Suivant la formule de la résolution du problème, on calcule l'allocation optimale \"in sample\"\n",
    "\n",
    "covar_inv = np.linalg.inv(covar_estimee)\n",
    "df_covar_inv = pd.DataFrame(covar_inv,index=idx,columns=idx)\n",
    "lambda1 = seuil_pb_marko/(mu_estime @ df_covar_inv @ mu_estime)\n",
    "alloc_optimale_in_sample = lambda1 * (df_covar_inv @ mu_estime)"
   ]
  },
  {
   "cell_type": "markdown",
   "metadata": {},
   "source": [
    "A priori, nous pouvons nous ramener à la résolution d'un problème des moindres carrés. Donc nous allons effectuer la régression de la vraie allocation optimale sur les rendements observés. Le Beta que l'on obtient devrait être le plus proche possible de l'allocation optimale théorique. "
   ]
  },
  {
   "cell_type": "code",
   "execution_count": 258,
   "metadata": {},
   "outputs": [
    {
     "name": "stdout",
     "output_type": "stream",
     "text": [
      "0       0.05\n",
      "1       0.05\n",
      "2       0.05\n",
      "3       0.05\n",
      "4       0.05\n",
      "        ... \n",
      "1275    0.05\n",
      "1276    0.05\n",
      "1277    0.05\n",
      "1278    0.05\n",
      "1279    0.05\n",
      "Length: 1280, dtype: float64\n"
     ]
    }
   ],
   "source": [
    "print(allocation_optimale_théorique)"
   ]
  },
  {
   "cell_type": "code",
   "execution_count": 259,
   "metadata": {},
   "outputs": [],
   "source": [
    "regression = LinearRegression()\n",
    "\n",
    "# Entraîner le modèle sur les données\n",
    "regression.fit(rdts_observes, allocation_optimale_théorique)\n",
    "\n",
    "# Obtenir les coefficients de la régression\n",
    "coefficients = regression.coef_\n",
    "intercept = regression.intercept_"
   ]
  },
  {
   "cell_type": "markdown",
   "metadata": {},
   "source": [
    "On réalise la régression sans intercept car la variable sur laquelle on régresse est colinéaire avec le vecteur constant égale à 1"
   ]
  },
  {
   "cell_type": "code",
   "execution_count": 260,
   "metadata": {},
   "outputs": [],
   "source": [
    "regression_sans_intercept = LinearRegression(fit_intercept = False)\n",
    "\n",
    "# Entraîner le modèle sur les données\n",
    "regression_sans_intercept.fit(rdts_observes, allocation_optimale_théorique)\n",
    "\n",
    "# Obtenir les coefficients de la régression\n",
    "coefficients_bis = regression_sans_intercept.coef_\n",
    "intercept_bis = regression_sans_intercept.intercept_"
   ]
  },
  {
   "cell_type": "markdown",
   "metadata": {},
   "source": [
    "On normalise le vecteur d'allocation entre les actifs in sample afin que la somme de ses poids soit égale à 1 et pareil pour le vecteur des coefficients qui sort de la régression sans intercept. \n",
    "\n",
    "On voit que l'on retrouve bien l'allocation in sample de la partie I. "
   ]
  },
  {
   "cell_type": "code",
   "execution_count": 261,
   "metadata": {},
   "outputs": [
    {
     "name": "stdout",
     "output_type": "stream",
     "text": [
      "0    -7.659651e-12\n",
      "1    -1.470823e-12\n",
      "2     4.412470e-12\n",
      "3    -1.430855e-12\n",
      "4    -1.465494e-12\n",
      "5     1.756817e-12\n",
      "6     3.973710e-12\n",
      "7    -3.145928e-12\n",
      "8     2.790657e-12\n",
      "9     8.646417e-13\n",
      "10   -1.092459e-12\n",
      "11    3.996803e-12\n",
      "12    5.426770e-13\n",
      "13   -2.790657e-12\n",
      "14   -3.288037e-12\n",
      "15    1.239009e-12\n",
      "16    3.859135e-13\n",
      "17    1.519673e-12\n",
      "18    1.760370e-12\n",
      "19   -9.023893e-13\n",
      "dtype: float64\n"
     ]
    }
   ],
   "source": [
    "#Coefficients problème de Markovitz\n",
    "alloc_optimale_in_sample_normalized = alloc_optimale_in_sample * (1 / sum(alloc_optimale_in_sample))\n",
    "#Coefficients issues de la régression\n",
    "coefficients_bis_normalized = coefficients_bis * (1 / sum(coefficients_bis))\n",
    "\n",
    "print(alloc_optimale_in_sample_normalized - coefficients_bis_normalized)"
   ]
  },
  {
   "cell_type": "markdown",
   "metadata": {},
   "source": [
    "## A/ Régressions pénalisées\n",
    "\n",
    "Dans cette partie, nous allons tester des régressions pénalisées afin de pouvoir comparer l'erreur de prédiction avec les précédentes méthodes\n",
    "\n",
    "### 1/ Création des échantillons train/test\n",
    "\n",
    "Ici, nous allons régresser le vecteur \"allocation_optimale_theorique\" qui est un vecteur colinéaire au vecteur constant égal à 1 et qui contient la performance, jour par jour, du portfolio optimal dans notre exemple"
   ]
  },
  {
   "cell_type": "code",
   "execution_count": 262,
   "metadata": {},
   "outputs": [],
   "source": [
    "nb_dates_test = 256\n",
    "nb_simu = 1000"
   ]
  },
  {
   "cell_type": "code",
   "execution_count": 263,
   "metadata": {},
   "outputs": [],
   "source": [
    "X_train = rdts_observes\n",
    "Y_train = allocation_optimale_théorique\n",
    "\n",
    "X_test = mu/256 + pd.DataFrame(np.random.randn(nb_dates_test,nb_actifs)) @ A.T / 16\n",
    "Y_test = allocation_optimale_théorique[:256] #Car les lois des actifs n'ont pas été modifiées"
   ]
  },
  {
   "cell_type": "code",
   "execution_count": 264,
   "metadata": {},
   "outputs": [],
   "source": [
    "def test_model_NB(X_train, X_test, y_train, y_test, DF, model) : \n",
    "\n",
    "    #on run le modèle avec les fonctions prebuilt\n",
    "    ols =  model.fit(X_train, y_train)\n",
    "    y_pred = ols.predict(X_test)\n",
    "\n",
    "    #On affiche le R^2 du modèle calculé à partir des échantillons Train -> pourquoi est ce que c'est n'importe quoi ? \n",
    "    print(\"R_2 du modèle : \" +str(ols.score(X_train, y_train)))\n",
    "    print(f\"Le MSE (Mean Squared Error) de notre prédiction est de {mean_squared_error(y_pred, y_test)}\")\n",
    "    print(f\"Le MAE (Mean Absolute Error) de notre prédiction est de {mean_absolute_error(y_pred, y_test)}\")\n",
    "\n",
    "\n",
    "    coefs = pd.DataFrame(ols.coef_, columns=['Coefficients'], index = DF.columns)\n",
    "    coefs.sort_values(by='Coefficients', ascending=True, inplace=True)\n",
    "    coefs.plot(kind='barh', figsize=(15, 20), color='royalblue')\n",
    "    plt.title('Régression linéaire')\n",
    "    plt.axvline(x=0, color='1')\n",
    "    plt.grid()\n",
    "    plt.subplots_adjust(left=.3)\n",
    "\n",
    "    return f\"l'allocation optimale selon ce modèle est {ols.coef_}\""
   ]
  },
  {
   "cell_type": "code",
   "execution_count": 265,
   "metadata": {},
   "outputs": [
    {
     "name": "stdout",
     "output_type": "stream",
     "text": [
      "R_2 du modèle : -5.1541046150882445e+31\n",
      "Le MSE (Mean Squared Error) de notre prédiction est de 0.002538803662193474\n",
      "Le MAE (Mean Absolute Error) de notre prédiction est de 0.05019635430114795\n"
     ]
    },
    {
     "data": {
      "text/plain": [
       "\"l'allocation optimale selon ce modèle est [ 0.3706301   0.07235246 -0.21410309  0.06927263  0.0702306  -0.08580007\\n -0.19006636  0.14882136 -0.13712478 -0.04135841  0.05204233 -0.19462841\\n -0.02874181  0.13361905  0.15670153 -0.06229915 -0.01960673 -0.0706645\\n -0.08244731  0.03962544]\""
      ]
     },
     "execution_count": 265,
     "metadata": {},
     "output_type": "execute_result"
    },
    {
     "data": {
      "image/png": "[encoded data removed]",
      "text/plain": [
       "<Figure size 1080x1440 with 1 Axes>"
      ]
     },
     "metadata": {
      "needs_background": "light"
     },
     "output_type": "display_data"
    }
   ],
   "source": [
    "test_model_NB(X_train, X_test, Y_train, Y_test, X_train, LinearRegression(fit_intercept = False))"
   ]
  },
  {
   "cell_type": "code",
   "execution_count": 297,
   "metadata": {},
   "outputs": [
    {
     "name": "stdout",
     "output_type": "stream",
     "text": [
      "Le MSE (Mean Squared Error) de notre prédiction est de 0.002538803662193474\n",
      "Le MAE (Mean Absolute Error) de notre prédiction est de 0.05019635430114795\n",
      "[-27.36263493  -5.34158996  15.80666153  -5.11421438  -5.18493812\n",
      "   6.33439121  14.03209402 -10.98708531  10.12355826   3.05338128\n",
      "  -3.84214709  14.36889779   2.12193112  -9.8647389  -11.56885755\n",
      "   4.59938055   1.44751306   5.2169724    6.086866    -2.925441  ]\n"
     ]
    },
    {
     "data": {
      "image/png": "[encoded data removed]",
      "text/plain": [
       "<Figure size 1080x1440 with 1 Axes>"
      ]
     },
     "metadata": {
      "needs_background": "light"
     },
     "output_type": "display_data"
    }
   ],
   "source": [
    "reg = LinearRegression(fit_intercept = False)\n",
    "model =  reg.fit(X_train, Y_train)\n",
    "coef_reglin = model.coef_\n",
    "y_pred = model.predict(X_test)\n",
    "\n",
    "print(f\"Le MSE (Mean Squared Error) de notre prédiction est de {mean_squared_error(y_pred, Y_test)}\")\n",
    "print(f\"Le MAE (Mean Absolute Error) de notre prédiction est de {mean_absolute_error(y_pred, Y_test)}\")\n",
    "\n",
    "coefs = pd.DataFrame(coef_reglin, columns=['Coefficients'], index = X_train.columns)\n",
    "coefs.sort_values(by='Coefficients', ascending=True, inplace=True)\n",
    "coefs.plot(kind='barh', figsize=(15, 20), color='royalblue')\n",
    "plt.title('Régression linéaire')\n",
    "plt.axvline(x=0, color='1')\n",
    "plt.grid()\n",
    "plt.subplots_adjust(left=.3)\n",
    "\n",
    "#On rend les coefficients normalisés pour que le poid soit égal à 1\n",
    "coef_reg_lin_normalized = coef_reglin * (1/sum(coef_reglin))\n",
    "print(coef_reg_lin_normalized)"
   ]
  },
  {
   "cell_type": "markdown",
   "metadata": {},
   "source": [
    "On affiche les PNL in sample"
   ]
  },
  {
   "cell_type": "code",
   "execution_count": 283,
   "metadata": {},
   "outputs": [
    {
     "name": "stdout",
     "output_type": "stream",
     "text": [
      "Sharpe = 1.3767695127002282\n"
     ]
    },
    {
     "data": {
      "text/plain": [
       "<AxesSubplot:>"
      ]
     },
     "execution_count": 283,
     "metadata": {},
     "output_type": "execute_result"
    },
    {
     "data": {
      "image/png": "[encoded data removed]",
      "text/plain": [
       "<Figure size 432x288 with 1 Axes>"
      ]
     },
     "metadata": {
      "needs_background": "light"
     },
     "output_type": "display_data"
    }
   ],
   "source": [
    "pnl_in_sample_reglin = rdts_observes @ coef_reg_lin_normalized\n",
    "print('Sharpe = ' + str(pnl_in_sample_reglin.mean()/pnl_in_sample_reglin.std()*16))\n",
    "pnl_in_sample_reglin.cumsum().plot()"
   ]
  },
  {
   "cell_type": "markdown",
   "metadata": {},
   "source": [
    "Maintenant, testons les 2 portefeuilles out-sample"
   ]
  },
  {
   "cell_type": "code",
   "execution_count": 286,
   "metadata": {},
   "outputs": [
    {
     "name": "stdout",
     "output_type": "stream",
     "text": [
      "Sharpe = 0.7168968792325265\n"
     ]
    },
    {
     "data": {
      "text/plain": [
       "<AxesSubplot:>"
      ]
     },
     "execution_count": 286,
     "metadata": {},
     "output_type": "execute_result"
    },
    {
     "data": {
      "image/png": "[encoded data removed]",
      "text/plain": [
       "<Figure size 432x288 with 1 Axes>"
      ]
     },
     "metadata": {
      "needs_background": "light"
     },
     "output_type": "display_data"
    }
   ],
   "source": [
    "pnl_test_reglin = X_test @ coef_reg_lin_normalized\n",
    "print('Sharpe = ' + str(pnl_test_reglin.mean()/pnl_test_reglin.std()*16))\n",
    "pnl_test_reglin.cumsum().plot()"
   ]
  },
  {
   "cell_type": "markdown",
   "metadata": {},
   "source": [
    "Maintenant, nous allons simuler plusieurs échantillons test et voir, en moyenne, comment se comporte notre portefeuille"
   ]
  },
  {
   "cell_type": "code",
   "execution_count": 287,
   "metadata": {},
   "outputs": [
    {
     "data": {
      "text/html": [
       "<div>\n",
       "<style scoped>\n",
       "    .dataframe tbody tr th:only-of-type {\n",
       "        vertical-align: middle;\n",
       "    }\n",
       "\n",
       "    .dataframe tbody tr th {\n",
       "        vertical-align: top;\n",
       "    }\n",
       "\n",
       "    .dataframe thead th {\n",
       "        text-align: right;\n",
       "    }\n",
       "</style>\n",
       "<table border=\"1\" class=\"dataframe\">\n",
       "  <thead>\n",
       "    <tr style=\"text-align: right;\">\n",
       "      <th></th>\n",
       "      <th>0</th>\n",
       "    </tr>\n",
       "  </thead>\n",
       "  <tbody>\n",
       "    <tr>\n",
       "      <th>count</th>\n",
       "      <td>1000.000000</td>\n",
       "    </tr>\n",
       "    <tr>\n",
       "      <th>mean</th>\n",
       "      <td>-0.024673</td>\n",
       "    </tr>\n",
       "    <tr>\n",
       "      <th>std</th>\n",
       "      <td>0.970695</td>\n",
       "    </tr>\n",
       "    <tr>\n",
       "      <th>min</th>\n",
       "      <td>-3.078815</td>\n",
       "    </tr>\n",
       "    <tr>\n",
       "      <th>25%</th>\n",
       "      <td>-0.660483</td>\n",
       "    </tr>\n",
       "    <tr>\n",
       "      <th>50%</th>\n",
       "      <td>-0.015064</td>\n",
       "    </tr>\n",
       "    <tr>\n",
       "      <th>75%</th>\n",
       "      <td>0.628223</td>\n",
       "    </tr>\n",
       "    <tr>\n",
       "      <th>max</th>\n",
       "      <td>2.976880</td>\n",
       "    </tr>\n",
       "  </tbody>\n",
       "</table>\n",
       "</div>"
      ],
      "text/plain": [
       "                 0\n",
       "count  1000.000000\n",
       "mean     -0.024673\n",
       "std       0.970695\n",
       "min      -3.078815\n",
       "25%      -0.660483\n",
       "50%      -0.015064\n",
       "75%       0.628223\n",
       "max       2.976880"
      ]
     },
     "execution_count": 287,
     "metadata": {},
     "output_type": "execute_result"
    }
   ],
   "source": [
    "pnl_out_sample_reglin = []\n",
    "sharpe_out_sample_reglin = []\n",
    "\n",
    "for i in range(nb_simu) : \n",
    "    simu = mu/256 + pd.DataFrame(np.random.randn(nb_dates_test,nb_actifs)) @ A.T / 16\n",
    "    pnl_simu = simu @ coef_reg_lin_normalized\n",
    "    pnl_out_sample_reglin.append(pnl_simu)\n",
    "\n",
    "    sharpe_simu = pnl_simu.mean() / pnl_simu.std() * 16\n",
    "    sharpe_out_sample_reglin.append(sharpe_simu)\n",
    "\n",
    "sharpe_out_sample_DF_reglin = pd.DataFrame(sharpe_out_sample_reglin)\n",
    "sharpe_out_sample_DF_reglin.describe()\n",
    "    "
   ]
  },
  {
   "cell_type": "markdown",
   "metadata": {},
   "source": [
    "On affiche les quantiles des sharpe ratio de toutes nos simulations et on trace la moyenne afin de voir le sharpe moyen que nous apporte notre portfolio"
   ]
  },
  {
   "cell_type": "code",
   "execution_count": 288,
   "metadata": {},
   "outputs": [
    {
     "name": "stderr",
     "output_type": "stream",
     "text": [
      "/var/folders/sg/lxw89kss0x727nlhml9vq0nm0000gn/T/ipykernel_56304/2348212371.py:4: FutureWarning: Calling float on a single element Series is deprecated and will raise a TypeError in the future. Use float(ser.iloc[0]) instead\n",
      "  moyenne_sharpe = float(sharpe_out_sample_DF_reglin.mean())\n"
     ]
    },
    {
     "data": {
      "text/plain": [
       "<matplotlib.legend.Legend at 0x7feaebe63ca0>"
      ]
     },
     "execution_count": 288,
     "metadata": {},
     "output_type": "execute_result"
    },
    {
     "data": {
      "image/png": "[encoded data removed]",
      "text/plain": [
       "<Figure size 432x288 with 1 Axes>"
      ]
     },
     "metadata": {
      "needs_background": "light"
     },
     "output_type": "display_data"
    }
   ],
   "source": [
    "quantiles = sharpe_out_sample_DF_reglin.quantile(np.arange(0.01,1.0,0.01)).reset_index().rename({'index':'proba',0:'quantile'},axis=1)\n",
    "plt.scatter(quantiles['quantile'],quantiles['proba'])\n",
    "\n",
    "moyenne_sharpe = float(sharpe_out_sample_DF_reglin.mean())\n",
    "sharpe_in_sample = pnl_in_sample_reglin.mean()/pnl_in_sample_reglin.std()*16\n",
    "plt.axvline(x=moyenne_sharpe, color='orange', linestyle='-', linewidth=5,  label='Moyenne des Sharpes')\n",
    "plt.axvline(x=sharpe_in_sample, color='green', linestyle='-', linewidth=5,  label='Sharpe Ratio in Sample')\n",
    "\n",
    "plt.xlabel('Sharpes Ratios')\n",
    "plt.ylabel('Quantile associé')\n",
    "plt.legend()\n",
    "#plt.scatter(quantiles['quantile']*0 + sharpe_out_sample_DF.mean(),quantiles['proba'])\n",
    "#plt.scatter(quantiles['quantile']*0 + pnl_in_sample.mean()/pnl_in_sample.std()*16,quantiles['proba'])"
   ]
  },
  {
   "cell_type": "markdown",
   "metadata": {},
   "source": [
    "Désormais, nous allons faire la même chose avec les régressions pénalisées"
   ]
  },
  {
   "cell_type": "code",
   "execution_count": 298,
   "metadata": {},
   "outputs": [
    {
     "name": "stdout",
     "output_type": "stream",
     "text": [
      "Le MSE (Mean Squared Error) de notre prédiction est de 0.002538803662193474\n",
      "Le MAE (Mean Absolute Error) de notre prédiction est de 0.05019635430114795\n",
      "[-0.36900983 -0.01075786  0.28152203 -0.04062376  0.01236316  0.14054048\n",
      "  0.25919179 -0.09595264  0.17956059  0.08432714 -0.02213101  0.28431143\n",
      "  0.07558562 -0.09626013 -0.13634832  0.12252889  0.07602768  0.1404803\n",
      "  0.13499591 -0.02035147]\n"
     ]
    },
    {
     "data": {
      "image/png": "[encoded data removed]",
      "text/plain": [
       "<Figure size 1080x1440 with 1 Axes>"
      ]
     },
     "metadata": {
      "needs_background": "light"
     },
     "output_type": "display_data"
    }
   ],
   "source": [
    "ridge = RidgeCV(fit_intercept = False, cv = 5)\n",
    "model_ridge =  ridge.fit(X_train, Y_train)\n",
    "coef_ridge = model_ridge.coef_\n",
    "y_pred_ridge = model.predict(X_test)\n",
    "\n",
    "print(f\"Le MSE (Mean Squared Error) de notre prédiction est de {mean_squared_error(y_pred_ridge, Y_test)}\")\n",
    "print(f\"Le MAE (Mean Absolute Error) de notre prédiction est de {mean_absolute_error(y_pred_ridge, Y_test)}\")\n",
    "\n",
    "coefs = pd.DataFrame(coef_ridge, columns=['Coefficients'], index = X_train.columns)\n",
    "coefs.sort_values(by='Coefficients', ascending=True, inplace=True)\n",
    "coefs.plot(kind='barh', figsize=(15, 20), color='royalblue')\n",
    "plt.title('Régression linéaire')\n",
    "plt.axvline(x=0, color='1')\n",
    "plt.grid()\n",
    "plt.subplots_adjust(left=.3)\n",
    "\n",
    "#On rend les coefficients normalisés pour que le poid soit égal à 1\n",
    "coef_ridge_normalized = coef_ridge * (1/sum(coef_ridge))\n",
    "print(coef_ridge_normalized)"
   ]
  },
  {
   "cell_type": "code",
   "execution_count": 290,
   "metadata": {},
   "outputs": [
    {
     "name": "stdout",
     "output_type": "stream",
     "text": [
      "Sharpe = 0.6238293436920022\n"
     ]
    },
    {
     "data": {
      "text/plain": [
       "<AxesSubplot:>"
      ]
     },
     "execution_count": 290,
     "metadata": {},
     "output_type": "execute_result"
    },
    {
     "data": {
      "image/png": "[encoded data removed]",
      "text/plain": [
       "<Figure size 432x288 with 1 Axes>"
      ]
     },
     "metadata": {
      "needs_background": "light"
     },
     "output_type": "display_data"
    }
   ],
   "source": [
    "pnl_in_sample_ridge = rdts_observes @ coef_ridge_normalized\n",
    "print('Sharpe = ' + str(pnl_in_sample_ridge.mean()/pnl_in_sample_ridge.std()*16))\n",
    "pnl_in_sample_ridge.cumsum().plot()"
   ]
  },
  {
   "cell_type": "code",
   "execution_count": 293,
   "metadata": {},
   "outputs": [
    {
     "name": "stdout",
     "output_type": "stream",
     "text": [
      "Sharpe = 0.6916668309343019\n"
     ]
    },
    {
     "data": {
      "text/plain": [
       "<AxesSubplot:>"
      ]
     },
     "execution_count": 293,
     "metadata": {},
     "output_type": "execute_result"
    },
    {
     "data": {
      "image/png": "[encoded data removed]",
      "text/plain": [
       "<Figure size 432x288 with 1 Axes>"
      ]
     },
     "metadata": {
      "needs_background": "light"
     },
     "output_type": "display_data"
    }
   ],
   "source": [
    "pnl_test_ridge = X_test @ coef_ridge_normalized\n",
    "print('Sharpe = ' + str(pnl_test_ridge.mean()/pnl_test_ridge.std()*16))\n",
    "pnl_test_ridge.cumsum().plot()"
   ]
  },
  {
   "cell_type": "code",
   "execution_count": 294,
   "metadata": {},
   "outputs": [
    {
     "data": {
      "text/html": [
       "<div>\n",
       "<style scoped>\n",
       "    .dataframe tbody tr th:only-of-type {\n",
       "        vertical-align: middle;\n",
       "    }\n",
       "\n",
       "    .dataframe tbody tr th {\n",
       "        vertical-align: top;\n",
       "    }\n",
       "\n",
       "    .dataframe thead th {\n",
       "        text-align: right;\n",
       "    }\n",
       "</style>\n",
       "<table border=\"1\" class=\"dataframe\">\n",
       "  <thead>\n",
       "    <tr style=\"text-align: right;\">\n",
       "      <th></th>\n",
       "      <th>0</th>\n",
       "    </tr>\n",
       "  </thead>\n",
       "  <tbody>\n",
       "    <tr>\n",
       "      <th>count</th>\n",
       "      <td>1000.000000</td>\n",
       "    </tr>\n",
       "    <tr>\n",
       "      <th>mean</th>\n",
       "      <td>0.261637</td>\n",
       "    </tr>\n",
       "    <tr>\n",
       "      <th>std</th>\n",
       "      <td>1.012970</td>\n",
       "    </tr>\n",
       "    <tr>\n",
       "      <th>min</th>\n",
       "      <td>-2.847343</td>\n",
       "    </tr>\n",
       "    <tr>\n",
       "      <th>25%</th>\n",
       "      <td>-0.431439</td>\n",
       "    </tr>\n",
       "    <tr>\n",
       "      <th>50%</th>\n",
       "      <td>0.265095</td>\n",
       "    </tr>\n",
       "    <tr>\n",
       "      <th>75%</th>\n",
       "      <td>0.915304</td>\n",
       "    </tr>\n",
       "    <tr>\n",
       "      <th>max</th>\n",
       "      <td>3.425697</td>\n",
       "    </tr>\n",
       "  </tbody>\n",
       "</table>\n",
       "</div>"
      ],
      "text/plain": [
       "                 0\n",
       "count  1000.000000\n",
       "mean      0.261637\n",
       "std       1.012970\n",
       "min      -2.847343\n",
       "25%      -0.431439\n",
       "50%       0.265095\n",
       "75%       0.915304\n",
       "max       3.425697"
      ]
     },
     "execution_count": 294,
     "metadata": {},
     "output_type": "execute_result"
    }
   ],
   "source": [
    "pnl_out_sample_ridge = []\n",
    "sharpe_out_sample_ridge = []\n",
    "\n",
    "for i in range(nb_simu) : \n",
    "    simu = mu/256 + pd.DataFrame(np.random.randn(nb_dates_test,nb_actifs)) @ A.T / 16\n",
    "    pnl_simu = simu @ coef_ridge_normalized\n",
    "    pnl_out_sample_ridge.append(pnl_simu)\n",
    "\n",
    "    sharpe_simu = pnl_simu.mean() / pnl_simu.std() * 16\n",
    "    sharpe_out_sample_ridge.append(sharpe_simu)\n",
    "\n",
    "sharpe_out_sample_DF_ridge = pd.DataFrame(sharpe_out_sample_ridge)\n",
    "sharpe_out_sample_DF_ridge.describe()"
   ]
  },
  {
   "cell_type": "code",
   "execution_count": 295,
   "metadata": {},
   "outputs": [
    {
     "name": "stderr",
     "output_type": "stream",
     "text": [
      "/var/folders/sg/lxw89kss0x727nlhml9vq0nm0000gn/T/ipykernel_56304/756717335.py:4: FutureWarning: Calling float on a single element Series is deprecated and will raise a TypeError in the future. Use float(ser.iloc[0]) instead\n",
      "  moyenne_sharpe = float(sharpe_out_sample_DF_ridge.mean())\n"
     ]
    },
    {
     "data": {
      "text/plain": [
       "<matplotlib.legend.Legend at 0x7feae9453e50>"
      ]
     },
     "execution_count": 295,
     "metadata": {},
     "output_type": "execute_result"
    },
    {
     "data": {
      "image/png": "[encoded data removed]",
      "text/plain": [
       "<Figure size 432x288 with 1 Axes>"
      ]
     },
     "metadata": {
      "needs_background": "light"
     },
     "output_type": "display_data"
    }
   ],
   "source": [
    "quantiles = sharpe_out_sample_DF_ridge.quantile(np.arange(0.01,1.0,0.01)).reset_index().rename({'index':'proba',0:'quantile'},axis=1)\n",
    "plt.scatter(quantiles['quantile'],quantiles['proba'])\n",
    "\n",
    "moyenne_sharpe = float(sharpe_out_sample_DF_ridge.mean())\n",
    "sharpe_in_sample = pnl_in_sample_ridge.mean()/pnl_in_sample_ridge.std()*16\n",
    "plt.axvline(x=moyenne_sharpe, color='orange', linestyle='-', linewidth=5,  label='Moyenne des Sharpes')\n",
    "plt.axvline(x=sharpe_in_sample, color='green', linestyle='-', linewidth=5,  label='Sharpe Ratio in Sample')\n",
    "\n",
    "plt.xlabel('Sharpes Ratios')\n",
    "plt.ylabel('Quantile associé')\n",
    "plt.legend()"
   ]
  },
  {
   "cell_type": "markdown",
   "metadata": {},
   "source": [
    "Comparaison des coefficients obtenus avec la régression classique et la régression Ridge (normalisés)"
   ]
  },
  {
   "cell_type": "code",
   "execution_count": 296,
   "metadata": {},
   "outputs": [
    {
     "name": "stdout",
     "output_type": "stream",
     "text": [
      "[-27.36263493  -5.34158996  15.80666153  -5.11421438  -5.18493812\n",
      "   6.33439121  14.03209402 -10.98708531  10.12355826   3.05338128\n",
      "  -3.84214709  14.36889779   2.12193112  -9.8647389  -11.56885755\n",
      "   4.59938055   1.44751306   5.2169724    6.086866    -2.925441  ]\n",
      "[-0.36900983 -0.01075786  0.28152203 -0.04062376  0.01236316  0.14054048\n",
      "  0.25919179 -0.09595264  0.17956059  0.08432714 -0.02213101  0.28431143\n",
      "  0.07558562 -0.09626013 -0.13634832  0.12252889  0.07602768  0.1404803\n",
      "  0.13499591 -0.02035147]\n"
     ]
    }
   ],
   "source": [
    "print(coef_reg_lin_normalized)\n",
    "print(coef_ridge_normalized)"
   ]
  },
  {
   "cell_type": "markdown",
   "metadata": {},
   "source": [
    "Pareil avec le LASSO. On utilise Lasso() et non LassoCV() car la pénalisation choisie est trop forte et mène à ne choisir d'investir dans aucun actif"
   ]
  },
  {
   "cell_type": "code",
   "execution_count": 278,
   "metadata": {},
   "outputs": [
    {
     "name": "stdout",
     "output_type": "stream",
     "text": [
      "[nan nan nan nan nan nan nan nan nan nan nan nan nan nan nan nan nan nan\n",
      " nan nan]\n"
     ]
    },
    {
     "name": "stderr",
     "output_type": "stream",
     "text": [
      "/var/folders/sg/lxw89kss0x727nlhml9vq0nm0000gn/T/ipykernel_56304/2128164709.py:14: RuntimeWarning: divide by zero encountered in double_scalars\n",
      "  coef_lasso_normalized = coef_lasso * abs(1/sum(coef_lasso))\n",
      "/var/folders/sg/lxw89kss0x727nlhml9vq0nm0000gn/T/ipykernel_56304/2128164709.py:14: RuntimeWarning: invalid value encountered in multiply\n",
      "  coef_lasso_normalized = coef_lasso * abs(1/sum(coef_lasso))\n"
     ]
    },
    {
     "data": {
      "image/png": "[encoded data removed]",
      "text/plain": [
       "<Figure size 1080x1440 with 1 Axes>"
      ]
     },
     "metadata": {
      "needs_background": "light"
     },
     "output_type": "display_data"
    }
   ],
   "source": [
    "lasso = Lasso(fit_intercept = False, alpha = 0.1)\n",
    "model_lasso =  lasso.fit(X_train, Y_train)\n",
    "coef_lasso = model_lasso.coef_\n",
    "\n",
    "coefs = pd.DataFrame(coef_lasso, columns=['Coefficients'], index = X_train.columns)\n",
    "coefs.sort_values(by='Coefficients', ascending=True, inplace=True)\n",
    "coefs.plot(kind='barh', figsize=(15, 20), color='royalblue')\n",
    "plt.title('Régression linéaire')\n",
    "plt.axvline(x=0, color='1')\n",
    "plt.grid()\n",
    "plt.subplots_adjust(left=.3)\n",
    "\n",
    "#On rend les coefficients normalisés pour que le poid soit égal à 1\n",
    "coef_lasso_normalized = coef_lasso * abs(1/sum(coef_lasso))\n",
    "print(coef_lasso_normalized)"
   ]
  },
  {
   "cell_type": "markdown",
   "metadata": {},
   "source": [
    "Création fonction qui génère le tableau des rendements en ayant la possibilité de changer les paramètres"
   ]
  },
  {
   "cell_type": "markdown",
   "metadata": {},
   "source": [
    "C'est raté"
   ]
  },
  {
   "cell_type": "code",
   "execution_count": 332,
   "metadata": {},
   "outputs": [],
   "source": [
    "def generation_tableau_rdts(nb_actifs, nb_dates, list_esp_rdts, list_vols) :     \n",
    "    idx = pd.Index(np.arange(nb_actifs))\n",
    "    idx_date = pd.Index(np.arange(nb_dates))\n",
    "    mu = np.zeros(nb_actifs)\n",
    "    nb = len(list_esp_rdts)\n",
    "    vol = np.zeros(nb_actifs)\n",
    "\n",
    "    for i in range(nb):\n",
    "        valeur_commune_mu = list_esp_rdts[i]\n",
    "        debut_bloc = i * (nb_actifs // nb)\n",
    "        fin_bloc = (i + 1) * (nb_actifs // nb)\n",
    "        mu[debut_bloc:fin_bloc] = valeur_commune_mu\n",
    "    print(mu)\n",
    "    \n",
    "    for i in range(nb):\n",
    "        valeur_commune_vol = list_vols[i]\n",
    "        debut_bloc = i * (nb_actifs // nb)\n",
    "        fin_bloc = (i + 1) * (nb_actifs // nb)\n",
    "        vol[debut_bloc:fin_bloc] = valeur_commune_vol\n",
    "    print(vol)\n",
    "\n",
    "    correl = 0.7\n",
    "\n",
    "    #Matrice var-covar théorique selon la vraie loi des rendements\n",
    "    covar = np.diag(vol) @ pd.DataFrame(correl * np.ones((nb_actifs,nb_actifs)) + (1-correl) * np.eye(nb_actifs),index=idx,columns=idx) @ np.diag(vol)\n",
    "\n",
    "    #On simuler un tirage de rendements suivant une loi normale d'espérence Mu et de Var la matrice Covar\n",
    "    A = np.linalg.cholesky(covar)\n",
    "    rdts_observes = mu/256 + pd.DataFrame(np.random.randn(nb_dates,nb_actifs)) @ A.T / 16\n",
    "    \n",
    "    return rdts_observes"
   ]
  },
  {
   "cell_type": "code",
   "execution_count": 333,
   "metadata": {},
   "outputs": [
    {
     "name": "stdout",
     "output_type": "stream",
     "text": [
      "[0.05 0.05 0.05 0.05 0.05 0.05 0.05 0.05 0.05 0.05 0.03 0.03 0.03 0.03\n",
      " 0.03 0.03 0.03 0.03 0.03 0.03 0.1  0.1  0.1  0.1  0.1  0.1  0.1  0.1\n",
      " 0.1  0.1 ]\n",
      "[0.2  0.2  0.2  0.2  0.2  0.2  0.2  0.2  0.2  0.2  0.15 0.15 0.15 0.15\n",
      " 0.15 0.15 0.15 0.15 0.15 0.15 0.3  0.3  0.3  0.3  0.3  0.3  0.3  0.3\n",
      " 0.3  0.3 ]\n"
     ]
    },
    {
     "data": {
      "text/html": [
       "<div>\n",
       "<style scoped>\n",
       "    .dataframe tbody tr th:only-of-type {\n",
       "        vertical-align: middle;\n",
       "    }\n",
       "\n",
       "    .dataframe tbody tr th {\n",
       "        vertical-align: top;\n",
       "    }\n",
       "\n",
       "    .dataframe thead th {\n",
       "        text-align: right;\n",
       "    }\n",
       "</style>\n",
       "<table border=\"1\" class=\"dataframe\">\n",
       "  <thead>\n",
       "    <tr style=\"text-align: right;\">\n",
       "      <th></th>\n",
       "      <th>0</th>\n",
       "      <th>1</th>\n",
       "      <th>2</th>\n",
       "      <th>3</th>\n",
       "      <th>4</th>\n",
       "      <th>5</th>\n",
       "      <th>6</th>\n",
       "      <th>7</th>\n",
       "      <th>8</th>\n",
       "      <th>9</th>\n",
       "      <th>...</th>\n",
       "      <th>20</th>\n",
       "      <th>21</th>\n",
       "      <th>22</th>\n",
       "      <th>23</th>\n",
       "      <th>24</th>\n",
       "      <th>25</th>\n",
       "      <th>26</th>\n",
       "      <th>27</th>\n",
       "      <th>28</th>\n",
       "      <th>29</th>\n",
       "    </tr>\n",
       "  </thead>\n",
       "  <tbody>\n",
       "    <tr>\n",
       "      <th>0</th>\n",
       "      <td>-0.002104</td>\n",
       "      <td>-0.001420</td>\n",
       "      <td>-0.004972</td>\n",
       "      <td>-0.007895</td>\n",
       "      <td>-0.007400</td>\n",
       "      <td>0.002997</td>\n",
       "      <td>-0.007367</td>\n",
       "      <td>-0.006750</td>\n",
       "      <td>-0.003834</td>\n",
       "      <td>-0.010522</td>\n",
       "      <td>...</td>\n",
       "      <td>-0.019720</td>\n",
       "      <td>0.003773</td>\n",
       "      <td>-0.016277</td>\n",
       "      <td>-0.023246</td>\n",
       "      <td>-0.021919</td>\n",
       "      <td>-0.011821</td>\n",
       "      <td>0.000046</td>\n",
       "      <td>-0.014158</td>\n",
       "      <td>0.001079</td>\n",
       "      <td>-0.005313</td>\n",
       "    </tr>\n",
       "    <tr>\n",
       "      <th>1</th>\n",
       "      <td>0.019915</td>\n",
       "      <td>-0.002822</td>\n",
       "      <td>0.009949</td>\n",
       "      <td>0.003931</td>\n",
       "      <td>0.010578</td>\n",
       "      <td>0.016890</td>\n",
       "      <td>0.009856</td>\n",
       "      <td>0.002864</td>\n",
       "      <td>0.008627</td>\n",
       "      <td>-0.006432</td>\n",
       "      <td>...</td>\n",
       "      <td>0.012706</td>\n",
       "      <td>0.008558</td>\n",
       "      <td>0.021481</td>\n",
       "      <td>0.002231</td>\n",
       "      <td>-0.007955</td>\n",
       "      <td>-0.006174</td>\n",
       "      <td>0.001111</td>\n",
       "      <td>-0.002019</td>\n",
       "      <td>0.017651</td>\n",
       "      <td>-0.014411</td>\n",
       "    </tr>\n",
       "    <tr>\n",
       "      <th>2</th>\n",
       "      <td>-0.008277</td>\n",
       "      <td>0.005284</td>\n",
       "      <td>0.007753</td>\n",
       "      <td>-0.003826</td>\n",
       "      <td>-0.001792</td>\n",
       "      <td>0.015330</td>\n",
       "      <td>0.014351</td>\n",
       "      <td>0.000914</td>\n",
       "      <td>0.001679</td>\n",
       "      <td>0.012213</td>\n",
       "      <td>...</td>\n",
       "      <td>0.006300</td>\n",
       "      <td>0.015666</td>\n",
       "      <td>0.008661</td>\n",
       "      <td>0.003337</td>\n",
       "      <td>-0.001182</td>\n",
       "      <td>0.000259</td>\n",
       "      <td>-0.009173</td>\n",
       "      <td>0.004593</td>\n",
       "      <td>0.011729</td>\n",
       "      <td>0.017021</td>\n",
       "    </tr>\n",
       "    <tr>\n",
       "      <th>3</th>\n",
       "      <td>0.012755</td>\n",
       "      <td>0.000547</td>\n",
       "      <td>0.009017</td>\n",
       "      <td>-0.009547</td>\n",
       "      <td>0.004589</td>\n",
       "      <td>0.003355</td>\n",
       "      <td>0.007627</td>\n",
       "      <td>0.011254</td>\n",
       "      <td>-0.008233</td>\n",
       "      <td>0.013534</td>\n",
       "      <td>...</td>\n",
       "      <td>-0.003407</td>\n",
       "      <td>0.006689</td>\n",
       "      <td>0.014649</td>\n",
       "      <td>0.002346</td>\n",
       "      <td>0.006361</td>\n",
       "      <td>0.011831</td>\n",
       "      <td>0.001453</td>\n",
       "      <td>0.006344</td>\n",
       "      <td>0.017117</td>\n",
       "      <td>0.014494</td>\n",
       "    </tr>\n",
       "    <tr>\n",
       "      <th>4</th>\n",
       "      <td>-0.004795</td>\n",
       "      <td>-0.000507</td>\n",
       "      <td>-0.004706</td>\n",
       "      <td>0.001267</td>\n",
       "      <td>0.001088</td>\n",
       "      <td>0.000134</td>\n",
       "      <td>0.000763</td>\n",
       "      <td>-0.004820</td>\n",
       "      <td>-0.018886</td>\n",
       "      <td>0.002961</td>\n",
       "      <td>...</td>\n",
       "      <td>-0.014578</td>\n",
       "      <td>-0.005326</td>\n",
       "      <td>-0.010282</td>\n",
       "      <td>-0.016879</td>\n",
       "      <td>-0.022817</td>\n",
       "      <td>-0.022360</td>\n",
       "      <td>0.000415</td>\n",
       "      <td>-0.015333</td>\n",
       "      <td>-0.002956</td>\n",
       "      <td>-0.010750</td>\n",
       "    </tr>\n",
       "    <tr>\n",
       "      <th>...</th>\n",
       "      <td>...</td>\n",
       "      <td>...</td>\n",
       "      <td>...</td>\n",
       "      <td>...</td>\n",
       "      <td>...</td>\n",
       "      <td>...</td>\n",
       "      <td>...</td>\n",
       "      <td>...</td>\n",
       "      <td>...</td>\n",
       "      <td>...</td>\n",
       "      <td>...</td>\n",
       "      <td>...</td>\n",
       "      <td>...</td>\n",
       "      <td>...</td>\n",
       "      <td>...</td>\n",
       "      <td>...</td>\n",
       "      <td>...</td>\n",
       "      <td>...</td>\n",
       "      <td>...</td>\n",
       "      <td>...</td>\n",
       "      <td>...</td>\n",
       "    </tr>\n",
       "    <tr>\n",
       "      <th>251</th>\n",
       "      <td>-0.009533</td>\n",
       "      <td>-0.006107</td>\n",
       "      <td>0.004971</td>\n",
       "      <td>-0.005341</td>\n",
       "      <td>-0.002577</td>\n",
       "      <td>0.007784</td>\n",
       "      <td>0.006766</td>\n",
       "      <td>-0.012403</td>\n",
       "      <td>0.000378</td>\n",
       "      <td>0.007345</td>\n",
       "      <td>...</td>\n",
       "      <td>-0.000128</td>\n",
       "      <td>-0.014724</td>\n",
       "      <td>-0.001971</td>\n",
       "      <td>-0.021380</td>\n",
       "      <td>-0.008737</td>\n",
       "      <td>-0.003578</td>\n",
       "      <td>-0.013721</td>\n",
       "      <td>-0.003771</td>\n",
       "      <td>0.010968</td>\n",
       "      <td>-0.015954</td>\n",
       "    </tr>\n",
       "    <tr>\n",
       "      <th>252</th>\n",
       "      <td>0.007524</td>\n",
       "      <td>-0.002972</td>\n",
       "      <td>0.001177</td>\n",
       "      <td>0.008149</td>\n",
       "      <td>-0.000055</td>\n",
       "      <td>0.008588</td>\n",
       "      <td>0.011365</td>\n",
       "      <td>0.002304</td>\n",
       "      <td>0.000124</td>\n",
       "      <td>0.004712</td>\n",
       "      <td>...</td>\n",
       "      <td>0.002010</td>\n",
       "      <td>0.007031</td>\n",
       "      <td>0.014276</td>\n",
       "      <td>0.032319</td>\n",
       "      <td>0.003057</td>\n",
       "      <td>0.020148</td>\n",
       "      <td>-0.003934</td>\n",
       "      <td>0.007090</td>\n",
       "      <td>-0.000682</td>\n",
       "      <td>0.008425</td>\n",
       "    </tr>\n",
       "    <tr>\n",
       "      <th>253</th>\n",
       "      <td>0.000392</td>\n",
       "      <td>-0.005973</td>\n",
       "      <td>0.001471</td>\n",
       "      <td>0.011056</td>\n",
       "      <td>0.006322</td>\n",
       "      <td>0.006116</td>\n",
       "      <td>0.003705</td>\n",
       "      <td>0.006554</td>\n",
       "      <td>0.005710</td>\n",
       "      <td>-0.002542</td>\n",
       "      <td>...</td>\n",
       "      <td>-0.008949</td>\n",
       "      <td>-0.007136</td>\n",
       "      <td>-0.003111</td>\n",
       "      <td>0.007165</td>\n",
       "      <td>-0.010385</td>\n",
       "      <td>-0.022290</td>\n",
       "      <td>0.005715</td>\n",
       "      <td>0.002149</td>\n",
       "      <td>0.000289</td>\n",
       "      <td>-0.003992</td>\n",
       "    </tr>\n",
       "    <tr>\n",
       "      <th>254</th>\n",
       "      <td>-0.005173</td>\n",
       "      <td>-0.004029</td>\n",
       "      <td>-0.000991</td>\n",
       "      <td>-0.001860</td>\n",
       "      <td>-0.011289</td>\n",
       "      <td>0.001539</td>\n",
       "      <td>-0.000152</td>\n",
       "      <td>-0.007518</td>\n",
       "      <td>0.002472</td>\n",
       "      <td>-0.005805</td>\n",
       "      <td>...</td>\n",
       "      <td>-0.014408</td>\n",
       "      <td>0.023348</td>\n",
       "      <td>0.010846</td>\n",
       "      <td>-0.009224</td>\n",
       "      <td>0.013750</td>\n",
       "      <td>0.010403</td>\n",
       "      <td>-0.010072</td>\n",
       "      <td>0.002815</td>\n",
       "      <td>0.017724</td>\n",
       "      <td>-0.010357</td>\n",
       "    </tr>\n",
       "    <tr>\n",
       "      <th>255</th>\n",
       "      <td>-0.008930</td>\n",
       "      <td>0.004267</td>\n",
       "      <td>-0.001241</td>\n",
       "      <td>0.000212</td>\n",
       "      <td>-0.003019</td>\n",
       "      <td>-0.009996</td>\n",
       "      <td>-0.011396</td>\n",
       "      <td>-0.000947</td>\n",
       "      <td>-0.000764</td>\n",
       "      <td>0.002483</td>\n",
       "      <td>...</td>\n",
       "      <td>0.015826</td>\n",
       "      <td>0.007574</td>\n",
       "      <td>-0.007013</td>\n",
       "      <td>0.001513</td>\n",
       "      <td>-0.016029</td>\n",
       "      <td>-0.006831</td>\n",
       "      <td>0.007738</td>\n",
       "      <td>0.000190</td>\n",
       "      <td>-0.003154</td>\n",
       "      <td>-0.015355</td>\n",
       "    </tr>\n",
       "  </tbody>\n",
       "</table>\n",
       "<p>256 rows × 30 columns</p>\n",
       "</div>"
      ],
      "text/plain": [
       "           0         1         2         3         4         5         6   \\\n",
       "0   -0.002104 -0.001420 -0.004972 -0.007895 -0.007400  0.002997 -0.007367   \n",
       "1    0.019915 -0.002822  0.009949  0.003931  0.010578  0.016890  0.009856   \n",
       "2   -0.008277  0.005284  0.007753 -0.003826 -0.001792  0.015330  0.014351   \n",
       "3    0.012755  0.000547  0.009017 -0.009547  0.004589  0.003355  0.007627   \n",
       "4   -0.004795 -0.000507 -0.004706  0.001267  0.001088  0.000134  0.000763   \n",
       "..        ...       ...       ...       ...       ...       ...       ...   \n",
       "251 -0.009533 -0.006107  0.004971 -0.005341 -0.002577  0.007784  0.006766   \n",
       "252  0.007524 -0.002972  0.001177  0.008149 -0.000055  0.008588  0.011365   \n",
       "253  0.000392 -0.005973  0.001471  0.011056  0.006322  0.006116  0.003705   \n",
       "254 -0.005173 -0.004029 -0.000991 -0.001860 -0.011289  0.001539 -0.000152   \n",
       "255 -0.008930  0.004267 -0.001241  0.000212 -0.003019 -0.009996 -0.011396   \n",
       "\n",
       "           7         8         9   ...        20        21        22  \\\n",
       "0   -0.006750 -0.003834 -0.010522  ... -0.019720  0.003773 -0.016277   \n",
       "1    0.002864  0.008627 -0.006432  ...  0.012706  0.008558  0.021481   \n",
       "2    0.000914  0.001679  0.012213  ...  0.006300  0.015666  0.008661   \n",
       "3    0.011254 -0.008233  0.013534  ... -0.003407  0.006689  0.014649   \n",
       "4   -0.004820 -0.018886  0.002961  ... -0.014578 -0.005326 -0.010282   \n",
       "..        ...       ...       ...  ...       ...       ...       ...   \n",
       "251 -0.012403  0.000378  0.007345  ... -0.000128 -0.014724 -0.001971   \n",
       "252  0.002304  0.000124  0.004712  ...  0.002010  0.007031  0.014276   \n",
       "253  0.006554  0.005710 -0.002542  ... -0.008949 -0.007136 -0.003111   \n",
       "254 -0.007518  0.002472 -0.005805  ... -0.014408  0.023348  0.010846   \n",
       "255 -0.000947 -0.000764  0.002483  ...  0.015826  0.007574 -0.007013   \n",
       "\n",
       "           23        24        25        26        27        28        29  \n",
       "0   -0.023246 -0.021919 -0.011821  0.000046 -0.014158  0.001079 -0.005313  \n",
       "1    0.002231 -0.007955 -0.006174  0.001111 -0.002019  0.017651 -0.014411  \n",
       "2    0.003337 -0.001182  0.000259 -0.009173  0.004593  0.011729  0.017021  \n",
       "3    0.002346  0.006361  0.011831  0.001453  0.006344  0.017117  0.014494  \n",
       "4   -0.016879 -0.022817 -0.022360  0.000415 -0.015333 -0.002956 -0.010750  \n",
       "..        ...       ...       ...       ...       ...       ...       ...  \n",
       "251 -0.021380 -0.008737 -0.003578 -0.013721 -0.003771  0.010968 -0.015954  \n",
       "252  0.032319  0.003057  0.020148 -0.003934  0.007090 -0.000682  0.008425  \n",
       "253  0.007165 -0.010385 -0.022290  0.005715  0.002149  0.000289 -0.003992  \n",
       "254 -0.009224  0.013750  0.010403 -0.010072  0.002815  0.017724 -0.010357  \n",
       "255  0.001513 -0.016029 -0.006831  0.007738  0.000190 -0.003154 -0.015355  \n",
       "\n",
       "[256 rows x 30 columns]"
      ]
     },
     "execution_count": 333,
     "metadata": {},
     "output_type": "execute_result"
    }
   ],
   "source": [
    "generation_tableau_rdts(30, 256, [0.05, 0.03, 0.1], [0.2, 0.15, 0.3])"
   ]
  },
  {
   "cell_type": "code",
   "execution_count": null,
   "metadata": {},
   "outputs": [],
   "source": []
  }
 ],
 "metadata": {
  "kernelspec": {
   "display_name": "base",
   "language": "python",
   "name": "python3"
  },
  "language_info": {
   "codemirror_mode": {
    "name": "ipython",
    "version": 3
   },
   "file_extension": ".py",
   "mimetype": "text/x-python",
   "name": "python",
   "nbconvert_exporter": "python",
   "pygments_lexer": "ipython3",
   "version": "3.9.7"
  }
 },
 "nbformat": 4,
 "nbformat_minor": 2
}
