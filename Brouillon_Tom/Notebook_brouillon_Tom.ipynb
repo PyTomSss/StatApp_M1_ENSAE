{
 "cells": [
  {
   "cell_type": "code",
   "execution_count": 2,
   "metadata": {},
   "outputs": [],
   "source": [
    "import pandas as pd\n",
    "import numpy as np\n",
    "import matplotlib.pyplot as plt\n",
    "from sklearn.linear_model import LinearRegression\n",
    "%matplotlib inline"
   ]
  },
  {
   "cell_type": "markdown",
   "metadata": {},
   "source": [
    "# III/ Comparaison de l'erreur de prédiction de différentes méthodes statistiques\n",
    "\n",
    "Jusqu'à maintenant, nous avons démontré que les stratégies d'investissements obtenues à partir de la résolution du problème de Markovitz (équivalent à la résolution d'un problème des moindres carrés => démonstration dans le fichier LaTeX) ne sont pas très convaincantes. Nous allons donc tester plusieurs autres méthodes statistiques de prédiction des rendements futurs et allons mettre en place une métrique commune qui mesure l'erreur de prédiction obtenue. \n",
    "\n"
   ]
  },
  {
   "cell_type": "markdown",
   "metadata": {},
   "source": [
    "Ici on crée l'interface qui nous permet de choisir le nombre d'actifs considéré, le nombre de dates, la vraie loi des rendements"
   ]
  },
  {
   "cell_type": "code",
   "execution_count": 3,
   "metadata": {},
   "outputs": [],
   "source": [
    "nb_actifs = 20\n",
    "nb_dates = 256 * 5\n",
    "\n",
    "idx = pd.Index(np.arange(nb_actifs))\n",
    "idx_date = pd.Index(np.arange(nb_dates))\n",
    "\n",
    "esp_rdt = 0.05\n",
    "vol_rdt = 0.2\n",
    "correl = 0.7\n",
    "seuil_pb_marko = 0.05\n",
    "mu = pd.Series(esp_rdt,index=idx)\n",
    "vols = pd.Series(vol_rdt,index=idx)\n",
    "#Le vecteur constant cible que l'on essayer d'estimer -> chaque composante du vecteur est le rendement du protefeuille optimal tous  les jours\n",
    "allocation_optimale_théorique = pd.Series(esp_rdt, index = idx_date)\n",
    "\n",
    "#Matrice var-covar théorique selon la vraie loi des rendements\n",
    "covar = np.diag(vols) @ pd.DataFrame(correl * np.ones((nb_actifs,nb_actifs)) + (1-correl) * np.eye(nb_actifs),index=idx,columns=idx) @ np.diag(vols)"
   ]
  },
  {
   "cell_type": "code",
   "execution_count": 4,
   "metadata": {},
   "outputs": [],
   "source": [
    "#On simuler un tirage de rendements suivant une loi normale d'espérence Mu et de Var la matrice Covar\n",
    "A = np.linalg.cholesky(covar)\n",
    "rdts_observes = mu/256 + pd.DataFrame(np.random.randn(nb_dates,nb_actifs)) @ A.T / 16"
   ]
  },
  {
   "cell_type": "markdown",
   "metadata": {},
   "source": [
    "Ici on calcule les estimateurs d'espérance et de variance empiriques de la série des observations"
   ]
  },
  {
   "cell_type": "code",
   "execution_count": 5,
   "metadata": {},
   "outputs": [],
   "source": [
    "mu_estime = rdts_observes.mean() * 256\n",
    "covar_estimee = rdts_observes.cov() * 256\n",
    "\n",
    "#Suivant la formule de la résolution du problème, on calcule l'allocation optimale \"in sample\"\n",
    "\n",
    "covar_inv = np.linalg.inv(covar_estimee)\n",
    "df_covar_inv = pd.DataFrame(covar_inv,index=idx,columns=idx)\n",
    "lambda1 = seuil_pb_marko/(mu_estime @ df_covar_inv @ mu_estime)\n",
    "alloc_optimale_in_sample = lambda1 * (df_covar_inv @ mu_estime)"
   ]
  },
  {
   "cell_type": "markdown",
   "metadata": {},
   "source": [
    "A priori, nous pouvons nous ramener à la résolution d'un problème des moindres carrés. Donc nous allons effectuer la régression de la vraie allocation optimale sur les rendements observés. Le Beta que l'on obtient devrait être le plus proche possible de l'allocation optimale théorique. "
   ]
  },
  {
   "cell_type": "code",
   "execution_count": 11,
   "metadata": {},
   "outputs": [
    {
     "name": "stdout",
     "output_type": "stream",
     "text": [
      "0       0.05\n",
      "1       0.05\n",
      "2       0.05\n",
      "3       0.05\n",
      "4       0.05\n",
      "        ... \n",
      "1275    0.05\n",
      "1276    0.05\n",
      "1277    0.05\n",
      "1278    0.05\n",
      "1279    0.05\n",
      "Length: 1280, dtype: float64\n"
     ]
    }
   ],
   "source": [
    "print(allocation_optimale_théorique)"
   ]
  },
  {
   "cell_type": "code",
   "execution_count": 12,
   "metadata": {},
   "outputs": [],
   "source": [
    "regression = LinearRegression()\n",
    "\n",
    "# Entraîner le modèle sur les données\n",
    "regression.fit(rdts_observes, allocation_optimale_théorique)\n",
    "\n",
    "# Obtenir les coefficients de la régression\n",
    "coefficients = regression.coef_\n",
    "intercept = regression.intercept_"
   ]
  },
  {
   "cell_type": "code",
   "execution_count": 15,
   "metadata": {},
   "outputs": [],
   "source": [
    "regression_sans_intercept = LinearRegression(fit_intercept = False)\n",
    "\n",
    "# Entraîner le modèle sur les données\n",
    "regression_sans_intercept.fit(rdts_observes, allocation_optimale_théorique)\n",
    "\n",
    "# Obtenir les coefficients de la régression\n",
    "coefficients_bis = regression_sans_intercept.coef_\n",
    "intercept_bis = regression_sans_intercept.intercept_"
   ]
  },
  {
   "cell_type": "markdown",
   "metadata": {},
   "source": [
    "On normalise le vecteur d'allocation entre les actifs in sample afin que la somme de ses poids soit égale à 1 et pareil pour le vecteur des coefficients qui sort de la régression sans intercept. \n",
    "\n",
    "On voit que l'on retrouve bien l'allocation in sample de la partie I. "
   ]
  },
  {
   "cell_type": "code",
   "execution_count": 34,
   "metadata": {},
   "outputs": [
    {
     "name": "stdout",
     "output_type": "stream",
     "text": [
      "0    -1.998401e-14\n",
      "1     3.885781e-15\n",
      "2     5.551115e-16\n",
      "3     2.220446e-15\n",
      "4     4.329870e-15\n",
      "5     1.665335e-16\n",
      "6     2.886580e-15\n",
      "7     6.661338e-16\n",
      "8    -1.110223e-15\n",
      "9     9.547918e-15\n",
      "10    6.661338e-16\n",
      "11   -2.331468e-15\n",
      "12    2.775558e-15\n",
      "13   -6.328271e-15\n",
      "14    6.772360e-15\n",
      "15    5.329071e-15\n",
      "16   -9.409140e-15\n",
      "17   -4.218847e-15\n",
      "18    3.552714e-15\n",
      "19   -1.110223e-15\n",
      "dtype: float64\n"
     ]
    }
   ],
   "source": [
    "alloc_optimale_in_sample_normalized = alloc_optimale_in_sample * (1 / sum(alloc_optimale_in_sample))\n",
    "coefficients_bis_normalized = coefficients_bis * (1 / sum(coefficients_bis))\n",
    "\n",
    "print(alloc_optimale_in_sample_normalized - coefficients_bis_normalized)"
   ]
  }
 ],
 "metadata": {
  "kernelspec": {
   "display_name": "base",
   "language": "python",
   "name": "python3"
  },
  "language_info": {
   "codemirror_mode": {
    "name": "ipython",
    "version": 3
   },
   "file_extension": ".py",
   "mimetype": "text/x-python",
   "name": "python",
   "nbconvert_exporter": "python",
   "pygments_lexer": "ipython3",
   "version": "3.9.7"
  }
 },
 "nbformat": 4,
 "nbformat_minor": 2
}
