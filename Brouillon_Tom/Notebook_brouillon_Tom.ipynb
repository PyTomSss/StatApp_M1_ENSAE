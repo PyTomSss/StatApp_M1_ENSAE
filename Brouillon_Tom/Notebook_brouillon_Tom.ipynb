{
 "cells": [
  {
   "cell_type": "code",
   "execution_count": 5,
   "metadata": {},
   "outputs": [],
   "source": [
    "import pandas as pd\n",
    "import numpy as np\n",
    "import matplotlib.pyplot as plt\n",
    "%matplotlib inline"
   ]
  },
  {
   "cell_type": "markdown",
   "metadata": {},
   "source": [
    "# III/ Comparaison de l'erreur de prédiction de différentes méthodes statistiques\n",
    "\n",
    "Jusqu'à maintenant, nous avons démontré que les stratégies d'investissements obtenues à partir de la résolution du problème de Markovitz (équivalent à la résolution d'un problème des moindres carrés => démonstration dans le fichier LaTeX) ne sont pas très convaincantes. Nous allons donc tester plusieurs autres méthodes statistiques de prédiction des rendements futurs et allons mettre en place une métrique commune qui mesure l'erreur de prédiction obtenue. \n",
    "\n"
   ]
  },
  {
   "cell_type": "markdown",
   "metadata": {},
   "source": [
    "Ici on crée l'interface qui nous permet de choisir le nombre d'actifs considéré, le nombre de dates, la vraie loi des rendements"
   ]
  },
  {
   "cell_type": "code",
   "execution_count": 9,
   "metadata": {},
   "outputs": [],
   "source": [
    "nb_actifs = 20\n",
    "nb_dates = 256 * 5\n",
    "\n",
    "idx = pd.Index(np.arange(nb_actifs))\n",
    "\n",
    "esp_rdt = 0.05\n",
    "vol_rdt = 0.2\n",
    "correl = 0.7\n",
    "mu = pd.Series(esp_rdt,index=idx)\n",
    "vols = pd.Series(vol_rdt,index=idx)\n",
    "\n",
    "#Matrice var-covar \n",
    "covar = np.diag(vols) @ pd.DataFrame(correl * np.ones((nb_actifs,nb_actifs)) + (1-correl) * np.eye(nb_actifs),index=idx,columns=idx) @ np.diag(vols)\n",
    "A = np.linalg.cholesky(covar)\n",
    "\n",
    "rdts_observes = mu/256 + pd.DataFrame(np.random.randn(nb_dates,nb_actifs)) @ A.T / 16"
   ]
  },
  {
   "cell_type": "code",
   "execution_count": 10,
   "metadata": {},
   "outputs": [
    {
     "name": "stdout",
     "output_type": "stream",
     "text": [
      "0     0.2\n",
      "1     0.2\n",
      "2     0.2\n",
      "3     0.2\n",
      "4     0.2\n",
      "5     0.2\n",
      "6     0.2\n",
      "7     0.2\n",
      "8     0.2\n",
      "9     0.2\n",
      "10    0.2\n",
      "11    0.2\n",
      "12    0.2\n",
      "13    0.2\n",
      "14    0.2\n",
      "15    0.2\n",
      "16    0.2\n",
      "17    0.2\n",
      "18    0.2\n",
      "19    0.2\n",
      "dtype: float64\n"
     ]
    }
   ],
   "source": [
    "print(vols)"
   ]
  },
  {
   "cell_type": "code",
   "execution_count": null,
   "metadata": {},
   "outputs": [],
   "source": []
  }
 ],
 "metadata": {
  "kernelspec": {
   "display_name": "base",
   "language": "python",
   "name": "python3"
  },
  "language_info": {
   "codemirror_mode": {
    "name": "ipython",
    "version": 3
   },
   "file_extension": ".py",
   "mimetype": "text/x-python",
   "name": "python",
   "nbconvert_exporter": "python",
   "pygments_lexer": "ipython3",
   "version": "3.9.7"
  }
 },
 "nbformat": 4,
 "nbformat_minor": 2
}
