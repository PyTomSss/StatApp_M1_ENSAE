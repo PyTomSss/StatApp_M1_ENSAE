{
 "cells": [
  {
   "cell_type": "code",
   "execution_count": 25,
   "metadata": {},
   "outputs": [],
   "source": [
    "import pandas as pd\n",
    "import numpy as np\n",
    "import matplotlib.pyplot as plt\n",
    "from sklearn.linear_model import LinearRegression\n",
    "%matplotlib inline"
   ]
  },
  {
   "cell_type": "markdown",
   "metadata": {},
   "source": [
    "# III/ Comparaison de l'erreur de prédiction de différentes méthodes statistiques\n",
    "\n",
    "Jusqu'à maintenant, nous avons démontré que les stratégies d'investissements obtenues à partir de la résolution du problème de Markovitz (équivalent à la résolution d'un problème des moindres carrés => démonstration dans le fichier LaTeX) ne sont pas très convaincantes. Nous allons donc tester plusieurs autres méthodes statistiques de prédiction des rendements futurs et allons mettre en place une métrique commune qui mesure l'erreur de prédiction obtenue. \n",
    "\n"
   ]
  },
  {
   "cell_type": "markdown",
   "metadata": {},
   "source": [
    "Ici on crée l'interface qui nous permet de choisir le nombre d'actifs considéré, le nombre de dates, la vraie loi des rendements"
   ]
  },
  {
   "cell_type": "code",
   "execution_count": 101,
   "metadata": {},
   "outputs": [],
   "source": [
    "nb_actifs = 20\n",
    "nb_dates = 256 * 5\n",
    "\n",
    "idx = pd.Index(np.arange(nb_actifs))\n",
    "idx_date = pd.Index(np.arange(nb_dates))\n",
    "\n",
    "esp_rdt = 0.05\n",
    "vol_rdt = 0.2\n",
    "correl = 0.7\n",
    "seuil_pb_marko = 0.05\n",
    "mu = pd.Series(esp_rdt,index=idx)\n",
    "vols = pd.Series(vol_rdt,index=idx)\n",
    "allocation_optimale_théorique = pd.Series(1, index = idx_date)\n",
    "\n",
    "#Matrice var-covar théorique selon la vraie loi des rendements\n",
    "covar = np.diag(vols) @ pd.DataFrame(correl * np.ones((nb_actifs,nb_actifs)) + (1-correl) * np.eye(nb_actifs),index=idx,columns=idx) @ np.diag(vols)"
   ]
  },
  {
   "cell_type": "code",
   "execution_count": 12,
   "metadata": {},
   "outputs": [],
   "source": [
    "#On simuler un tirage de rendements suivant une loi normale d'espérence Mu et de Var la matrice Covar\n",
    "A = np.linalg.cholesky(covar)\n",
    "rdts_observes = mu/256 + pd.DataFrame(np.random.randn(nb_dates,nb_actifs)) @ A.T / 16"
   ]
  },
  {
   "cell_type": "markdown",
   "metadata": {},
   "source": [
    "Ici on calcule les estimateurs d'espérance et de variance empiriques de la série des observations"
   ]
  },
  {
   "cell_type": "code",
   "execution_count": 34,
   "metadata": {},
   "outputs": [],
   "source": [
    "mu_estime = rdts_observes.mean() * 256\n",
    "covar_estimee = rdts_observes.cov() * 256\n",
    "\n",
    "#Suivant la formule de la résolution du problème, on calcule l'allocation optimale \"in sample\"\n",
    "\n",
    "covar_inv = np.linalg.inv(covar_estimee)\n",
    "df_covar_inv = pd.DataFrame(covar_inv,index=idx,columns=idx)\n",
    "lambda1 = seuil_pb_marko/(mu_estime @ df_covar_inv @ mu_estime)\n",
    "alloc_optimale_in_sample = lambda1 * (df_covar_inv @ mu_estime)"
   ]
  },
  {
   "cell_type": "markdown",
   "metadata": {},
   "source": [
    "A priori, nous pouvons nous ramener à la résolution d'un problème des moindres carrés. Donc nous allons effectuer la régression de la vraie allocation optimale sur les rendements observés. Le Beta que l'on obtient devrait être le plus proche possible de l'allocation optimale théorique. "
   ]
  },
  {
   "cell_type": "code",
   "execution_count": 86,
   "metadata": {},
   "outputs": [
    {
     "name": "stdout",
     "output_type": "stream",
     "text": [
      "        0         1         2         3         4         5         6     \\\n",
      "0   0.035819  0.004819  0.015750 -0.000811  0.000088  0.009532  0.008290   \n",
      "1   0.023104 -0.008425  0.013663  0.004288 -0.007336  0.005909  0.008291   \n",
      "2   0.024473  0.013284  0.026510 -0.004831 -0.001759 -0.005597  0.002767   \n",
      "3   0.023098  0.006991  0.028677 -0.006470  0.013574  0.006072  0.020630   \n",
      "4   0.025458  0.006909  0.015991  0.015400  0.003164  0.008677  0.000235   \n",
      "5   0.029359  0.021504  0.003523  0.001684 -0.007916  0.005239 -0.002551   \n",
      "6   0.021993  0.010473  0.012210  0.002906  0.008159 -0.003739  0.005110   \n",
      "7   0.026686  0.016442  0.016223  0.008265  0.006621  0.004804  0.004162   \n",
      "8   0.028976  0.006106  0.019859  0.002693  0.008161  0.007217  0.007790   \n",
      "9   0.023009  0.002292  0.031546  0.000395  0.006052  0.003220  0.011795   \n",
      "10  0.011865 -0.000325  0.017819  0.013033 -0.011886  0.015763  0.006431   \n",
      "11  0.021652 -0.004697  0.028186 -0.011423  0.003507  0.011370 -0.000690   \n",
      "12  0.038732  0.021526  0.028001  0.009512  0.005122  0.010119  0.001382   \n",
      "13  0.034126 -0.002677  0.019024  0.004612 -0.002175  0.001387 -0.009627   \n",
      "14  0.018723  0.026509 -0.000845  0.003178 -0.004255 -0.006380  0.002541   \n",
      "15  0.022305  0.018499  0.038243  0.011807 -0.003118  0.004060  0.003515   \n",
      "16  0.022811  0.009386  0.013736  0.012945  0.005012  0.004354  0.008919   \n",
      "17  0.020553 -0.001017  0.016193  0.012565 -0.002814  0.008275  0.014204   \n",
      "18  0.021841  0.013029  0.003714  0.015437  0.004211  0.003259  0.001932   \n",
      "19  0.035912  0.008045  0.031045  0.006632  0.003373  0.010912  0.004218   \n",
      "\n",
      "        7         8         9     ...      1270      1271      1272      1273  \\\n",
      "0   0.007068 -0.005508 -0.008129  ... -0.000364  0.012164  0.006633 -0.000021   \n",
      "1   0.001717 -0.016844 -0.016600  ...  0.005383  0.000837  0.010061  0.009365   \n",
      "2   0.014411 -0.016768 -0.005961  ...  0.005152 -0.008957  0.005225  0.003981   \n",
      "3   0.008213 -0.018895 -0.016687  ...  0.006789  0.000568 -0.003154 -0.012575   \n",
      "4   0.004424 -0.007970 -0.010824  ... -0.003742 -0.003374 -0.006434 -0.000750   \n",
      "5   0.014059 -0.001149 -0.011901  ...  0.002920  0.011221 -0.002170  0.005621   \n",
      "6   0.026259 -0.027200 -0.005225  ...  0.005289 -0.002525 -0.000292  0.013836   \n",
      "7   0.007489 -0.005841 -0.011040  ...  0.017486  0.003989 -0.000040 -0.003213   \n",
      "8   0.003148 -0.015318 -0.000202  ...  0.007433 -0.004637 -0.007468  0.002768   \n",
      "9   0.010028  0.001935 -0.010555  ...  0.015520 -0.009174 -0.001405 -0.003754   \n",
      "10  0.006404 -0.001208 -0.012201  ...  0.005730 -0.003350 -0.001442  0.019507   \n",
      "11  0.002395 -0.021685 -0.005371  ...  0.000031  0.001825  0.005323  0.003642   \n",
      "12 -0.003544 -0.019491 -0.011289  ...  0.023826  0.006853 -0.002483 -0.001919   \n",
      "13  0.005222 -0.015570 -0.012159  ... -0.000958 -0.002740 -0.015567  0.006475   \n",
      "14 -0.003183 -0.020498 -0.017274  ...  0.006002  0.004536  0.001443 -0.009488   \n",
      "15 -0.008012 -0.016851 -0.012158  ...  0.007753 -0.002106  0.014703 -0.011098   \n",
      "16  0.016230 -0.015956 -0.012796  ...  0.003861  0.005031  0.001627 -0.005723   \n",
      "17  0.002185 -0.018041 -0.018469  ... -0.001416  0.003763  0.008024  0.014931   \n",
      "18  0.016158 -0.017207 -0.019839  ...  0.012082  0.003585 -0.001310  0.009468   \n",
      "19  0.008141 -0.023308 -0.012595  ...  0.002596  0.014706 -0.005667 -0.000097   \n",
      "\n",
      "        1274      1275      1276      1277      1278      1279  \n",
      "0  -0.001927 -0.003361 -0.006084  0.005408  0.034245 -0.016183  \n",
      "1   0.001244 -0.011114 -0.003667  0.004851  0.030269 -0.025293  \n",
      "2  -0.009297  0.002193  0.004046  0.001879  0.036335 -0.017893  \n",
      "3  -0.000052 -0.000949  0.007269  0.004327  0.025749 -0.015290  \n",
      "4   0.007563 -0.006705 -0.002187 -0.003484  0.031820 -0.012706  \n",
      "5  -0.002404  0.001188 -0.003659 -0.005612  0.027716 -0.019709  \n",
      "6  -0.001285 -0.008565  0.006131 -0.002594  0.023575 -0.011185  \n",
      "7  -0.009453 -0.006814 -0.000900  0.001740  0.025243 -0.011320  \n",
      "8   0.001515 -0.007717 -0.006800  0.000744  0.023839 -0.013552  \n",
      "9  -0.011758 -0.001690 -0.005749 -0.001420  0.030895 -0.031462  \n",
      "10 -0.003465 -0.009226 -0.003136  0.002517  0.023882 -0.021623  \n",
      "11 -0.013693  0.000073  0.001070  0.003892  0.021035 -0.025549  \n",
      "12  0.009045 -0.011895  0.008139  0.007643  0.039826 -0.009708  \n",
      "13 -0.003917 -0.001587 -0.003200 -0.001572  0.027626 -0.033275  \n",
      "14 -0.000244 -0.012893 -0.009619 -0.005256  0.035741 -0.011926  \n",
      "15 -0.001400 -0.006781  0.005443 -0.003741  0.025164 -0.014527  \n",
      "16  0.011430 -0.006516  0.006839 -0.004821  0.031125 -0.016671  \n",
      "17  0.003265  0.001414  0.000510 -0.004947  0.029550 -0.027279  \n",
      "18  0.002734  0.003362 -0.004065  0.008664  0.040249 -0.017332  \n",
      "19 -0.005169  0.005668 -0.000997  0.007639  0.021186 -0.022537  \n",
      "\n",
      "[20 rows x 1280 columns]\n"
     ]
    }
   ],
   "source": [
    "print(rdts_observes.T)"
   ]
  },
  {
   "cell_type": "code",
   "execution_count": 103,
   "metadata": {},
   "outputs": [],
   "source": [
    "regression = LinearRegression()\n",
    "\n",
    "# Entraîner le modèle sur les données\n",
    "regression.fit(rdts_observes, allocation_optimale_théorique)\n",
    "\n",
    "# Obtenir les coefficients de la régression\n",
    "coefficients = regression.coef_\n",
    "intercept = regression.intercept_"
   ]
  },
  {
   "cell_type": "code",
   "execution_count": 104,
   "metadata": {},
   "outputs": [
    {
     "name": "stdout",
     "output_type": "stream",
     "text": [
      "[0. 0. 0. 0. 0. 0. 0. 0. 0. 0. 0. 0. 0. 0. 0. 0. 0. 0. 0. 0.]\n"
     ]
    }
   ],
   "source": [
    "print(coefficients)"
   ]
  },
  {
   "cell_type": "code",
   "execution_count": null,
   "metadata": {},
   "outputs": [],
   "source": []
  }
 ],
 "metadata": {
  "kernelspec": {
   "display_name": "base",
   "language": "python",
   "name": "python3"
  },
  "language_info": {
   "codemirror_mode": {
    "name": "ipython",
    "version": 3
   },
   "file_extension": ".py",
   "mimetype": "text/x-python",
   "name": "python",
   "nbconvert_exporter": "python",
   "pygments_lexer": "ipython3",
   "version": "3.9.7"
  }
 },
 "nbformat": 4,
 "nbformat_minor": 2
}
